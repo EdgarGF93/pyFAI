{
 "cells": [
  {
   "cell_type": "markdown",
   "id": "c38240c3-7646-497b-a3ac-d9cfa6c974f2",
   "metadata": {},
   "source": [
    "# Parallel processing of a stack of data stored in HDF5 with multi-threading\n",
    "\n",
    "This tutorial explains how it is possible to treat in parallel a large HDF5 dataset which does not fit into the computer memory.\n",
    "\n",
    "For this tutorial, a very recent version of pyFAI is needed, newer than summer 2022. It demonstrates features wich will only be available in release 0.22.\n",
    "\n",
    "This tutorial expains how to take benefit from Multithreading. This framework is not very popular in the Python world due to the [Global Interpreter Lock (GIL)](https://wiki.python.org/moin/GlobalInterpreterLock), but properly written C-code which does release the GIL can be very fast, sometimes as fast as GPU code (on large computers).\n",
    "\n",
    "Credits:\n",
    "\n",
    "* Thomas Vincent (ESRF) for the parallel decompression of HDF5 chunks and the Jupyter-slurm\n",
    "* Pierre Paleo (ESRF) for struggling with this kind of stuff with GPUs\n",
    "* Jon Wright (ESRF) for the CSC integrator, while implemented in serial is multithreading friendly\n",
    "* The French-CRG for providing a manycore computer (2 x 32-core AMD EPYC 75F3)\n",
    "\n",
    "Nota: No GPU is needed for this tutorial!"
   ]
  },
  {
   "cell_type": "code",
   "execution_count": 1,
   "id": "5eb5f112-bf32-4413-85ea-67eb88bf7ee9",
   "metadata": {},
   "outputs": [],
   "source": [
    "%matplotlib inline"
   ]
  },
  {
   "cell_type": "code",
   "execution_count": 2,
   "id": "638e4966-b05e-47e2-a4b0-5843b1b5ff93",
   "metadata": {},
   "outputs": [],
   "source": [
    "import sys, os, collections, struct, time\n",
    "import numpy, pyFAI\n",
    "import h5py, hdf5plugin\n",
    "from queue import Queue\n",
    "import threading\n",
    "import bitshuffle\n",
    "from matplotlib.pyplot import subplots\n",
    "start_time = time.time()\n",
    "Item = collections.namedtuple(\"Item\", \"index data\")\n",
    "# Ensure OpenMP is disabled\n",
    "# os.environ[\"OMP_NUM_THREADS\"] = \"1\"\n",
    "try:\n",
    "    import thread_affinity\n",
    "except:\n",
    "    thread_affinity = None\n",
    "    print(\"thread_affinity is missing, the performances won't be that optimal.\")"
   ]
  },
  {
   "cell_type": "code",
   "execution_count": 3,
   "id": "210e4de4-184b-4c64-872e-5c1aaf080501",
   "metadata": {},
   "outputs": [
    {
     "name": "stdout",
     "output_type": "stream",
     "text": [
      "Working with 64 threads. Mind OpenMP needs to be disabled in the bitshuffle code!\n"
     ]
    }
   ],
   "source": [
    "nbthreads = len(os.sched_getaffinity(0))\n",
    "print(f\"Working with {nbthreads} threads. Mind OpenMP needs to be disabled in the bitshuffle code !\")"
   ]
  },
  {
   "cell_type": "code",
   "execution_count": 4,
   "id": "8e649b79-f024-4635-ac8f-fc68827c60aa",
   "metadata": {},
   "outputs": [
    {
     "name": "stdout",
     "output_type": "stream",
     "text": [
      "Architecture:                    x86_64\n",
      "CPU op-mode(s):                  32-bit, 64-bit\n",
      "Byte Order:                      Little Endian\n",
      "Address sizes:                   48 bits physical, 48 bits virtual\n",
      "CPU(s):                          64\n",
      "On-line CPU(s) list:             0-63\n",
      "Thread(s) per core:              1\n",
      "Core(s) per socket:              32\n",
      "Socket(s):                       2\n",
      "NUMA node(s):                    2\n",
      "Vendor ID:                       AuthenticAMD\n",
      "CPU family:                      25\n",
      "Model:                           1\n",
      "Model name:                      AMD EPYC 75F3 32-Core Processor\n",
      "Stepping:                        1\n",
      "Frequency boost:                 enabled\n",
      "CPU MHz:                         1499.147\n",
      "CPU max MHz:                     2950.0000\n",
      "CPU min MHz:                     1500.0000\n",
      "BogoMIPS:                        5888.60\n",
      "Virtualization:                  AMD-V\n",
      "L1d cache:                       2 MiB\n",
      "L1i cache:                       2 MiB\n",
      "L2 cache:                        32 MiB\n",
      "L3 cache:                        512 MiB\n",
      "NUMA node0 CPU(s):               0-31\n",
      "NUMA node1 CPU(s):               32-63\n",
      "Vulnerability Itlb multihit:     Not affected\n",
      "Vulnerability L1tf:              Not affected\n",
      "Vulnerability Mds:               Not affected\n",
      "Vulnerability Meltdown:          Not affected\n",
      "Vulnerability Mmio stale data:   Not affected\n",
      "Vulnerability Spec store bypass: Mitigation; Speculative Store Bypass disabled v\n",
      "                                 ia prctl and seccomp\n",
      "Vulnerability Spectre v1:        Mitigation; usercopy/swapgs barriers and __user\n",
      "                                  pointer sanitization\n",
      "Vulnerability Spectre v2:        Mitigation; Retpolines, IBPB conditional, IBRS_\n",
      "                                 FW, STIBP disabled, RSB filling\n",
      "Vulnerability Srbds:             Not affected\n",
      "Vulnerability Tsx async abort:   Not affected\n",
      "Flags:                           fpu vme de pse tsc msr pae mce cx8 apic sep mtr\n",
      "                                 r pge mca cmov pat pse36 clflush mmx fxsr sse s\n",
      "                                 se2 ht syscall nx mmxext fxsr_opt pdpe1gb rdtsc\n",
      "                                 p lm constant_tsc rep_good nopl nonstop_tsc cpu\n",
      "                                 id extd_apicid aperfmperf pni pclmulqdq monitor\n",
      "                                  ssse3 fma cx16 pcid sse4_1 sse4_2 x2apic movbe\n",
      "                                  popcnt aes xsave avx f16c rdrand lahf_lm cmp_l\n",
      "                                 egacy svm extapic cr8_legacy abm sse4a misalign\n",
      "                                 sse 3dnowprefetch osvw ibs skinit wdt tce topoe\n",
      "                                 xt perfctr_core perfctr_nb bpext perfctr_llc mw\n",
      "                                 aitx cpb cat_l3 cdp_l3 invpcid_single hw_pstate\n",
      "                                  ssbd mba ibrs ibpb stibp vmmcall fsgsbase bmi1\n",
      "                                  avx2 smep bmi2 invpcid cqm rdt_a rdseed adx sm\n",
      "                                 ap clflushopt clwb sha_ni xsaveopt xsavec xgetb\n",
      "                                 v1 xsaves cqm_llc cqm_occup_llc cqm_mbm_total c\n",
      "                                 qm_mbm_local clzero irperf xsaveerptr wbnoinvd \n",
      "                                 arat npt lbrv svm_lock nrip_save tsc_scale vmcb\n",
      "                                 _clean flushbyasid decodeassists pausefilter pf\n",
      "                                 threshold v_vmsave_vmload vgif umip pku ospke v\n",
      "                                 aes vpclmulqdq rdpid overflow_recov succor smca\n"
     ]
    }
   ],
   "source": [
    "!lscpu"
   ]
  },
  {
   "cell_type": "markdown",
   "id": "d2c54705-4b6c-444b-b9f1-b763f6a8d915",
   "metadata": {},
   "source": [
    "## Setup the enviroment:\n",
    "\n",
    "This is a purely virtual experiment, we will use an Eiger 4M detector with data integrated over 1000 bins. Those parameters can be tuned.\n",
    "\n",
    "Random data are generated, to keep this file fairly small, it is generated with small numbers which compress nicely. The speed of the drive where you will put the file is likely to have a huge impact !"
   ]
  },
  {
   "cell_type": "code",
   "execution_count": 5,
   "id": "1cd22d82-d4fb-4d28-9960-0442989ca18c",
   "metadata": {},
   "outputs": [
    {
     "data": {
      "text/plain": [
       "HDF5PluginBuildOptions(openmp=False, native=False, sse2=True, avx2=False, cpp11=True, filter_file_extension='.so')"
      ]
     },
     "execution_count": 5,
     "metadata": {},
     "output_type": "execute_result"
    }
   ],
   "source": [
    "det = pyFAI.detector_factory(\"eiger_4M\")\n",
    "shape = det.shape\n",
    "dtype = numpy.dtype(\"uint32\")\n",
    "filename = \"/tmp/big.h5\"\n",
    "nbins = 1000\n",
    "cmp = hdf5plugin.Bitshuffle()\n",
    "hdf5plugin.config"
   ]
  },
  {
   "cell_type": "code",
   "execution_count": 6,
   "id": "daf4eec8-e364-43b6-b5af-8f279c6aed38",
   "metadata": {},
   "outputs": [
    {
     "name": "stdout",
     "output_type": "stream",
     "text": [
      "Number of frames the computer can host in memory: 30127.704\n",
      "Number of frames the computer can host in memory with SLURM restrictions: 3829.928\n"
     ]
    }
   ],
   "source": [
    "mem_bytes = os.sysconf('SC_PAGE_SIZE') * os.sysconf('SC_PHYS_PAGES')\n",
    "print(f\"Number of frames the computer can host in memory: {mem_bytes/(numpy.prod(shape)*dtype.itemsize):.3f}\")\n",
    "if os.environ.get('SLURM_MEM_PER_NODE'):\n",
    "    print(f\"Number of frames the computer can host in memory with SLURM restrictions: {int(os.environ['SLURM_MEM_PER_NODE'])*(1<<20)/(numpy.prod(shape)*dtype.itemsize):.3f}\")"
   ]
  },
  {
   "cell_type": "code",
   "execution_count": 7,
   "id": "bd038dc8-1e6d-4bd6-95b3-303f2d0f250b",
   "metadata": {},
   "outputs": [],
   "source": [
    "#The computer being limited to 64G of RAM, the number of frames actually possible is 3800.\n",
    "nbframes = 4096 # slightly larger than the maximum achievable ! Such a dataset should not host in memory."
   ]
  },
  {
   "cell_type": "code",
   "execution_count": 8,
   "id": "a32bd8fb-9b64-4564-9a69-67a759bf3427",
   "metadata": {},
   "outputs": [],
   "source": [
    "#Prepare a frame with little count so that it compresses well\n",
    "geo = {\"detector\": det, \n",
    "       \"wavelength\": 1e-10, \n",
    "       \"rot3\":0} #work around a bug https://github.com/silx-kit/pyFAI/pull/1749\n",
    "ai = pyFAI.load(geo)\n",
    "q = numpy.arange(15)\n",
    "img = ai.calcfrom1d(q, 100/(1+q*q))\n",
    "frame = numpy.random.poisson(img).astype(dtype)"
   ]
  },
  {
   "cell_type": "code",
   "execution_count": 9,
   "id": "53b49350-6b0c-4c3b-ba5b-ece50cd6fe98",
   "metadata": {},
   "outputs": [
    {
     "data": {
      "text/plain": [
       "<matplotlib.image.AxesImage at 0x150a2a561df0>"
      ]
     },
     "execution_count": 9,
     "metadata": {},
     "output_type": "execute_result"
    },
    {
     "data": {
      "image/png": "[encoded data removed]",
      "text/plain": [
       "<Figure size 432x288 with 1 Axes>"
      ]
     },
     "metadata": {
      "needs_background": "light"
     },
     "output_type": "display_data"
    }
   ],
   "source": [
    "# display the image\n",
    "fig,ax = subplots()\n",
    "ax.imshow(frame)"
   ]
  },
  {
   "cell_type": "code",
   "execution_count": 10,
   "id": "17e3d7e2-de22-4d40-8230-39295f04e239",
   "metadata": {},
   "outputs": [
    {
     "name": "stdout",
     "output_type": "stream",
     "text": [
      "Performances of the different algorithms for azimuthal integration of Eiger 4M image\n",
      "Using algorithm histogram : 427 ms ± 11.7 ms per loop (mean ± std. dev. of 7 runs, 1 loop each)\n",
      "Using algorithm csc       : 39.8 ms ± 2.64 ms per loop (mean ± std. dev. of 7 runs, 1 loop each)\n",
      "Using algorithm csr       : 60.2 ms ± 10.6 ms per loop (mean ± std. dev. of 7 runs, 1 loop each)\n"
     ]
    }
   ],
   "source": [
    "print(\"Performances of the different algorithms for azimuthal integration of Eiger 4M image\")\n",
    "for algo in (\"histogram\", \"csc\", \"csr\"):\n",
    "    print(f\"Using algorithm {algo:10s}:\", end=\" \")\n",
    "    %timeit ai.integrate1d(img, nbins, method=(\"full\", algo, \"cython\"))"
   ]
  },
  {
   "cell_type": "markdown",
   "id": "22969c56-1d10-4950-aebe-699da628858e",
   "metadata": {},
   "source": [
    "**Note:** The full pixel splitting is time consuming and handicaps the histogram algorithm while both sparse-matrix methods are much faster since they cache this calculation in the sparse matrix.\n",
    "\n",
    "The compared performances of sparse-matrix methods is rather surprizing since the CSC algorithm, single threaded, is faster than the CSR which runs in parallel over 2x32 cores.\n",
    "This result is the combination of two facotors:\n",
    "1. The computer is built with two processors/sockets controling each its own memory. We call this a **Non Uniform Memory Access** computer and can be checked with `numactrl --hardware`. The CSR matrix multiplication will dispatch work on both processors and thus, needs to transfer part of the image from one NUMA subsystem to the other, which is slow (32/10 x slower compared to a single-socket access). \n",
    "2. The very large cache of this processor: 512MB are reported by `lscpu`, but a more precise tool, `lstopo` describes them as 32MB of L3 cache shared between 4 cores. This very large cache allows the complete frame and the sparse matrix to be pre-fetched which is a great advantage for the CSC algorithm.\n",
    "\n",
    "Running the very same benchmark on an Intel 2-socket server would remove the point 2, while running on a singe socket intel workstation would remove both points and the normal results would be that CSR should be faster than CSC. The best performances on can get with the CSR algorithm should be obtained when using 4 cores (sharing the same cache L3) out of 64 on this computer. This can be done by setting the environment variable **OMP_NUM_THREADS**. Unfortunately, it also requires to restart the process, thus cannot be demonstrated easily in the notebook (without restarting). \n",
    "\n",
    "**The first message to take home is that without the knownledge of the actual computer, no high-performace computing is possible**"
   ]
  },
  {
   "cell_type": "code",
   "execution_count": 11,
   "id": "97da69b1-f59d-4bf7-99ff-19b426cdccce",
   "metadata": {},
   "outputs": [
    {
     "name": "stdout",
     "output_type": "stream",
     "text": [
      "available: 2 nodes (0-1)\n",
      "node 0 cpus: 0 1 2 3 4 5 6 7 8 9 10 11 12 13 14 15 16 17 18 19 20 21 22 23 24 25 26 27 28 29 30 31\n",
      "node 0 size: 257524 MB\n",
      "node 0 free: 223150 MB\n",
      "node 1 cpus: 32 33 34 35 36 37 38 39 40 41 42 43 44 45 46 47 48 49 50 51 52 53 54 55 56 57 58 59 60 61 62 63\n",
      "node 1 size: 258006 MB\n",
      "node 1 free: 239675 MB\n",
      "node distances:\n",
      "node   0   1 \n",
      "  0:  10  32 \n",
      "  1:  32  10 \n"
     ]
    }
   ],
   "source": [
    "!numactl --hardware"
   ]
  },
  {
   "cell_type": "code",
   "execution_count": 12,
   "id": "345903ed-e336-4b37-b520-34790b95252d",
   "metadata": {},
   "outputs": [
    {
     "name": "stdout",
     "output_type": "stream",
     "text": [
      "Machine (503GB total)\n",
      "  Package L#0\n",
      "    NUMANode L#0 (P#0 251GB)\n",
      "    L3 L#0 (32MB)\n",
      "      L2 L#0 (512KB) + L1d L#0 (32KB) + L1i L#0 (32KB) + Core L#0 + PU L#0 (P#0)\n",
      "      L2 L#1 (512KB) + L1d L#1 (32KB) + L1i L#1 (32KB) + Core L#1 + PU L#1 (P#1)\n",
      "      L2 L#2 (512KB) + L1d L#2 (32KB) + L1i L#2 (32KB) + Core L#2 + PU L#2 (P#2)\n",
      "      L2 L#3 (512KB) + L1d L#3 (32KB) + L1i L#3 (32KB) + Core L#3 + PU L#3 (P#3)\n",
      "    L3 L#1 (32MB)\n",
      "      L2 L#4 (512KB) + L1d L#4 (32KB) + L1i L#4 (32KB) + Core L#4 + PU L#4 (P#4)\n",
      "      L2 L#5 (512KB) + L1d L#5 (32KB) + L1i L#5 (32KB) + Core L#5 + PU L#5 (P#5)\n",
      "      L2 L#6 (512KB) + L1d L#6 (32KB) + L1i L#6 (32KB) + Core L#6 + PU L#6 (P#6)\n",
      "      L2 L#7 (512KB) + L1d L#7 (32KB) + L1i L#7 (32KB) + Core L#7 + PU L#7 (P#7)\n",
      "    L3 L#2 (32MB)\n",
      "      L2 L#8 (512KB) + L1d L#8 (32KB) + L1i L#8 (32KB) + Core L#8 + PU L#8 (P#8)\n",
      "      L2 L#9 (512KB) + L1d L#9 (32KB) + L1i L#9 (32KB) + Core L#9 + PU L#9 (P#9)\n",
      "      L2 L#10 (512KB) + L1d L#10 (32KB) + L1i L#10 (32KB) + Core L#10 + PU L#10 (P#10)\n",
      "      L2 L#11 (512KB) + L1d L#11 (32KB) + L1i L#11 (32KB) + Core L#11 + PU L#11 (P#11)\n",
      "    L3 L#3 (32MB)\n",
      "      L2 L#12 (512KB) + L1d L#12 (32KB) + L1i L#12 (32KB) + Core L#12 + PU L#12 (P#12)\n",
      "      L2 L#13 (512KB) + L1d L#13 (32KB) + L1i L#13 (32KB) + Core L#13 + PU L#13 (P#13)\n",
      "      L2 L#14 (512KB) + L1d L#14 (32KB) + L1i L#14 (32KB) + Core L#14 + PU L#14 (P#14)\n",
      "      L2 L#15 (512KB) + L1d L#15 (32KB) + L1i L#15 (32KB) + Core L#15 + PU L#15 (P#15)\n",
      "    L3 L#4 (32MB)\n",
      "      L2 L#16 (512KB) + L1d L#16 (32KB) + L1i L#16 (32KB) + Core L#16 + PU L#16 (P#16)\n",
      "      L2 L#17 (512KB) + L1d L#17 (32KB) + L1i L#17 (32KB) + Core L#17 + PU L#17 (P#17)\n",
      "      L2 L#18 (512KB) + L1d L#18 (32KB) + L1i L#18 (32KB) + Core L#18 + PU L#18 (P#18)\n",
      "      L2 L#19 (512KB) + L1d L#19 (32KB) + L1i L#19 (32KB) + Core L#19 + PU L#19 (P#19)\n",
      "    L3 L#5 (32MB)\n",
      "      L2 L#20 (512KB) + L1d L#20 (32KB) + L1i L#20 (32KB) + Core L#20 + PU L#20 (P#20)\n",
      "      L2 L#21 (512KB) + L1d L#21 (32KB) + L1i L#21 (32KB) + Core L#21 + PU L#21 (P#21)\n",
      "      L2 L#22 (512KB) + L1d L#22 (32KB) + L1i L#22 (32KB) + Core L#22 + PU L#22 (P#22)\n",
      "      L2 L#23 (512KB) + L1d L#23 (32KB) + L1i L#23 (32KB) + Core L#23 + PU L#23 (P#23)\n",
      "    L3 L#6 (32MB)\n",
      "      L2 L#24 (512KB) + L1d L#24 (32KB) + L1i L#24 (32KB) + Core L#24 + PU L#24 (P#24)\n",
      "      L2 L#25 (512KB) + L1d L#25 (32KB) + L1i L#25 (32KB) + Core L#25 + PU L#25 (P#25)\n",
      "      L2 L#26 (512KB) + L1d L#26 (32KB) + L1i L#26 (32KB) + Core L#26 + PU L#26 (P#26)\n",
      "      L2 L#27 (512KB) + L1d L#27 (32KB) + L1i L#27 (32KB) + Core L#27 + PU L#27 (P#27)\n",
      "    L3 L#7 (32MB)\n",
      "      L2 L#28 (512KB) + L1d L#28 (32KB) + L1i L#28 (32KB) + Core L#28 + PU L#28 (P#28)\n",
      "      L2 L#29 (512KB) + L1d L#29 (32KB) + L1i L#29 (32KB) + Core L#29 + PU L#29 (P#29)\n",
      "      L2 L#30 (512KB) + L1d L#30 (32KB) + L1i L#30 (32KB) + Core L#30 + PU L#30 (P#30)\n",
      "      L2 L#31 (512KB) + L1d L#31 (32KB) + L1i L#31 (32KB) + Core L#31 + PU L#31 (P#31)\n",
      "    HostBridge\n",
      "      PCIBridge\n",
      "        PCI 01:00.0 (RAID)\n",
      "          Block(Disk) \"sdb\"\n",
      "          Block(Disk) \"sda\"\n",
      "    HostBridge\n",
      "      PCIBridge\n",
      "        PCI 63:00.0 (Ethernet)\n",
      "          Net \"eno12399np0\"\n",
      "        PCI 63:00.1 (Ethernet)\n",
      "          Net \"eno12409np1\"\n",
      "      PCIBridge\n",
      "        PCIBridge\n",
      "          PCI 62:00.0 (VGA)\n",
      "  Package L#1\n",
      "    NUMANode L#1 (P#1 252GB)\n",
      "    L3 L#8 (32MB)\n",
      "      L2 L#32 (512KB) + L1d L#32 (32KB) + L1i L#32 (32KB) + Core L#32 + PU L#32 (P#32)\n",
      "      L2 L#33 (512KB) + L1d L#33 (32KB) + L1i L#33 (32KB) + Core L#33 + PU L#33 (P#33)\n",
      "      L2 L#34 (512KB) + L1d L#34 (32KB) + L1i L#34 (32KB) + Core L#34 + PU L#34 (P#34)\n",
      "      L2 L#35 (512KB) + L1d L#35 (32KB) + L1i L#35 (32KB) + Core L#35 + PU L#35 (P#35)\n",
      "    L3 L#9 (32MB)\n",
      "      L2 L#36 (512KB) + L1d L#36 (32KB) + L1i L#36 (32KB) + Core L#36 + PU L#36 (P#36)\n",
      "      L2 L#37 (512KB) + L1d L#37 (32KB) + L1i L#37 (32KB) + Core L#37 + PU L#37 (P#37)\n",
      "      L2 L#38 (512KB) + L1d L#38 (32KB) + L1i L#38 (32KB) + Core L#38 + PU L#38 (P#38)\n",
      "      L2 L#39 (512KB) + L1d L#39 (32KB) + L1i L#39 (32KB) + Core L#39 + PU L#39 (P#39)\n",
      "    L3 L#10 (32MB)\n",
      "      L2 L#40 (512KB) + L1d L#40 (32KB) + L1i L#40 (32KB) + Core L#40 + PU L#40 (P#40)\n",
      "      L2 L#41 (512KB) + L1d L#41 (32KB) + L1i L#41 (32KB) + Core L#41 + PU L#41 (P#41)\n",
      "      L2 L#42 (512KB) + L1d L#42 (32KB) + L1i L#42 (32KB) + Core L#42 + PU L#42 (P#42)\n",
      "      L2 L#43 (512KB) + L1d L#43 (32KB) + L1i L#43 (32KB) + Core L#43 + PU L#43 (P#43)\n",
      "    L3 L#11 (32MB)\n",
      "      L2 L#44 (512KB) + L1d L#44 (32KB) + L1i L#44 (32KB) + Core L#44 + PU L#44 (P#44)\n",
      "      L2 L#45 (512KB) + L1d L#45 (32KB) + L1i L#45 (32KB) + Core L#45 + PU L#45 (P#45)\n",
      "      L2 L#46 (512KB) + L1d L#46 (32KB) + L1i L#46 (32KB) + Core L#46 + PU L#46 (P#46)\n",
      "      L2 L#47 (512KB) + L1d L#47 (32KB) + L1i L#47 (32KB) + Core L#47 + PU L#47 (P#47)\n",
      "    L3 L#12 (32MB)\n",
      "      L2 L#48 (512KB) + L1d L#48 (32KB) + L1i L#48 (32KB) + Core L#48 + PU L#48 (P#48)\n",
      "      L2 L#49 (512KB) + L1d L#49 (32KB) + L1i L#49 (32KB) + Core L#49 + PU L#49 (P#49)\n",
      "      L2 L#50 (512KB) + L1d L#50 (32KB) + L1i L#50 (32KB) + Core L#50 + PU L#50 (P#50)\n",
      "      L2 L#51 (512KB) + L1d L#51 (32KB) + L1i L#51 (32KB) + Core L#51 + PU L#51 (P#51)\n",
      "    L3 L#13 (32MB)\n",
      "      L2 L#52 (512KB) + L1d L#52 (32KB) + L1i L#52 (32KB) + Core L#52 + PU L#52 (P#52)\n",
      "      L2 L#53 (512KB) + L1d L#53 (32KB) + L1i L#53 (32KB) + Core L#53 + PU L#53 (P#53)\n",
      "      L2 L#54 (512KB) + L1d L#54 (32KB) + L1i L#54 (32KB) + Core L#54 + PU L#54 (P#54)\n",
      "      L2 L#55 (512KB) + L1d L#55 (32KB) + L1i L#55 (32KB) + Core L#55 + PU L#55 (P#55)\n",
      "    L3 L#14 (32MB)\n",
      "      L2 L#56 (512KB) + L1d L#56 (32KB) + L1i L#56 (32KB) + Core L#56 + PU L#56 (P#56)\n",
      "      L2 L#57 (512KB) + L1d L#57 (32KB) + L1i L#57 (32KB) + Core L#57 + PU L#57 (P#57)\n",
      "      L2 L#58 (512KB) + L1d L#58 (32KB) + L1i L#58 (32KB) + Core L#58 + PU L#58 (P#58)\n",
      "      L2 L#59 (512KB) + L1d L#59 (32KB) + L1i L#59 (32KB) + Core L#59 + PU L#59 (P#59)\n",
      "    L3 L#15 (32MB)\n",
      "      L2 L#60 (512KB) + L1d L#60 (32KB) + L1i L#60 (32KB) + Core L#60 + PU L#60 (P#60)\n",
      "      L2 L#61 (512KB) + L1d L#61 (32KB) + L1i L#61 (32KB) + Core L#61 + PU L#61 (P#61)\n",
      "      L2 L#62 (512KB) + L1d L#62 (32KB) + L1i L#62 (32KB) + Core L#62 + PU L#62 (P#62)\n",
      "      L2 L#63 (512KB) + L1d L#63 (32KB) + L1i L#63 (32KB) + Core L#63 + PU L#63 (P#63)\n",
      "    HostBridge\n",
      "      PCIBridge\n",
      "        PCI c3:00.0 (SATA)\n",
      "    HostBridge\n",
      "      PCIBridge\n",
      "        PCI e1:00.0 (Ethernet)\n",
      "          Net \"eno8303\"\n",
      "        PCI e1:00.1 (Ethernet)\n",
      "          Net \"eno8403\"\n"
     ]
    }
   ],
   "source": [
    "!lstopo"
   ]
  },
  {
   "cell_type": "code",
   "execution_count": 13,
   "id": "a98654ed-372a-4886-9292-32b31ae4ec2a",
   "metadata": {},
   "outputs": [],
   "source": [
    "#Does not work unless one restarts the process\n",
    "\n",
    "# print(\"Performances of the different algorithms for azimuthal integration of Eiger 4M image when using only 4 cores\")\n",
    "# mask = os.sched_getaffinity(0)\n",
    "# os.sched_setaffinity(0, [0,1,2,3])\n",
    "# for algo in (\"histogram\", \"csc\", \"csr\"):\n",
    "#     print(f\"Using algorithm {algo}:\", end=\" \")\n",
    "#     %timeit ai.integrate1d(img, nbins, method=(\"full\", algo, \"cython\"))\n",
    "# os.sched_setaffinity(0, mask)\n"
   ]
  },
  {
   "cell_type": "code",
   "execution_count": 14,
   "id": "32d5ebc6-3473-49a2-93e7-76e7bb8f17f1",
   "metadata": {},
   "outputs": [
    {
     "data": {
      "text/plain": [
       "<TimeitResult : 50.7 s ± 0 ns per loop (mean ± std. dev. of 1 run, 1 loop each)>"
      ]
     },
     "execution_count": 14,
     "metadata": {},
     "output_type": "execute_result"
    }
   ],
   "source": [
    "%%timeit -r1 -n1 -o -q\n",
    "#Saving of a HDF5 file with many frames ...\n",
    "with h5py.File(filename, \"w\") as h:\n",
    "    ds = h.create_dataset(\"data\", shape=(nbframes,)+shape, chunks=(1,)+shape, dtype=dtype, **cmp) \n",
    "    for i in range(nbframes):\n",
    "        ds[i] = frame + i%500 #Each frame has a different (random) value to prevent caching effects"
   ]
  },
  {
   "cell_type": "code",
   "execution_count": 15,
   "id": "f82b2daf-77c2-4720-9848-6ca9c273707f",
   "metadata": {},
   "outputs": [
    {
     "name": "stdout",
     "output_type": "stream",
     "text": [
      "File size 9.237 GB with a compression ratio of 7.410x\n",
      "Write speed: 1450.535 MB/s of uncompressed data\n"
     ]
    }
   ],
   "source": [
    "timing_write = _\n",
    "size=os.stat(filename).st_size\n",
    "print(f\"File size {size/(1024**3):.3f} GB with a compression ratio of {nbframes*numpy.prod(shape)*dtype.itemsize/size:.3f}x\")\n",
    "print(f\"Write speed: {nbframes*numpy.prod(shape)*dtype.itemsize/(1e6*timing_write.best):.3f} MB/s of uncompressed data\")"
   ]
  },
  {
   "cell_type": "markdown",
   "id": "dc086333-96da-47eb-8477-9a0a5f60bc20",
   "metadata": {},
   "source": [
    "Reading all data from HDF5 file is as slow as, if not slower than, writing. This is mostly due to the decompression and to the many memory allocation performed."
   ]
  },
  {
   "cell_type": "code",
   "execution_count": 16,
   "id": "a643e63d-1709-45b1-aaad-a542792b5a62",
   "metadata": {},
   "outputs": [
    {
     "data": {
      "text/plain": [
       "<TimeitResult : 28.4 s ± 0 ns per loop (mean ± std. dev. of 1 run, 1 loop each)>"
      ]
     },
     "execution_count": 16,
     "metadata": {},
     "output_type": "execute_result"
    }
   ],
   "source": [
    "%%timeit -r1 -n1 -o -q\n",
    "#Reading all frames and decompressing them\n",
    "buffer = numpy.zeros(shape, dtype=dtype)\n",
    "with h5py.File(filename, \"r\") as h:\n",
    "    ds = h[\"data\"]\n",
    "    for i in range(nbframes):\n",
    "        ds.read_direct(buffer, numpy.s_[i,:,:], numpy.s_[:,:])"
   ]
  },
  {
   "cell_type": "code",
   "execution_count": 17,
   "id": "847240c6-f9df-4626-b1a3-2197f535897c",
   "metadata": {},
   "outputs": [
    {
     "name": "stdout",
     "output_type": "stream",
     "text": [
      "Read speed: 2585.264 MB/s of uncompressed data.\n"
     ]
    }
   ],
   "source": [
    "timing_read1 = _\n",
    "print(f\"Read speed: {nbframes*numpy.prod(shape)*dtype.itemsize/(1e6*timing_read1.best):.3f} MB/s of uncompressed data.\")"
   ]
  },
  {
   "cell_type": "code",
   "execution_count": 18,
   "id": "341d4b27-bbc3-4010-a577-820d20f89d72",
   "metadata": {},
   "outputs": [],
   "source": [
    "def decompress_bslz4_chunk(payload, dtype, chunk_shape):\n",
    "    \"\"\"This function decompresses ONE chunk with bitshuffle-LZ4. \n",
    "    The library needs to be compiled without OpenMP when using threads !\n",
    "    \n",
    "    :param payload: string with the compressed data as read by h5py.\n",
    "    :param dtype: data type of the stored content\n",
    "    :param chunk_shape: shape of one chunk\n",
    "    :return: decompressed chunk\"\"\"\n",
    "    total_nbytes, block_nbytes = struct.unpack(\">QI\", payload[:12])\n",
    "    block_size = block_nbytes // dtype.itemsize\n",
    "\n",
    "    arr = numpy.frombuffer(payload, dtype=numpy.uint8, offset=12)  # No copy here\n",
    "    chunk_data = bitshuffle.decompress_lz4(arr, chunk_shape, dtype, block_size)\n",
    "    return chunk_data"
   ]
  },
  {
   "cell_type": "code",
   "execution_count": 19,
   "id": "3492bfe6-c71e-40a2-98c4-7fd2cd7d7560",
   "metadata": {},
   "outputs": [
    {
     "data": {
      "text/plain": [
       "<TimeitResult : 1.46 s ± 0 ns per loop (mean ± std. dev. of 1 run, 1 loop each)>"
      ]
     },
     "execution_count": 19,
     "metadata": {},
     "output_type": "execute_result"
    }
   ],
   "source": [
    "%%timeit -r1 -n1 -o -q\n",
    "#Reading all frames without decompressing them\n",
    "with h5py.File(filename, \"r\") as h:\n",
    "    ds = h[\"data\"]\n",
    "    for i in range(ds.id.get_num_chunks()):\n",
    "        filter_mask, chunk = ds.id.read_direct_chunk(ds.id.get_chunk_info(i).chunk_offset)"
   ]
  },
  {
   "cell_type": "code",
   "execution_count": 20,
   "id": "95cccf4c-f63f-4ecb-9155-41e2a1821380",
   "metadata": {},
   "outputs": [
    {
     "name": "stdout",
     "output_type": "stream",
     "text": [
      "Read speed: 6801.586 MB/s of compressed data.\n",
      "HDF5 read speed (without decompression): 2809.038 fps\n"
     ]
    }
   ],
   "source": [
    "timing_read2 = _\n",
    "print(f\"Read speed: {size/(1e6*timing_read2.best):.3f} MB/s of compressed data.\")\n",
    "print(f\"HDF5 read speed (without decompression): {nbframes/timing_read2.best:.3f} fps\")"
   ]
  },
  {
   "cell_type": "markdown",
   "id": "8e1a4654-45d3-4ade-bda5-1d33ebd125a0",
   "metadata": {},
   "source": [
    "But the reading part data is fairly fast, if one does not decompress the data."
   ]
  },
  {
   "cell_type": "code",
   "execution_count": 21,
   "id": "cc77c30b-ecff-430d-a036-b175ed30a861",
   "metadata": {},
   "outputs": [
    {
     "name": "stdout",
     "output_type": "stream",
     "text": [
      "Decompression speed of a single chunk/frame, filter_mask=0 should be null\n",
      "8.46 ms ± 16.6 µs per loop (mean ± std. dev. of 3 runs, 100 loops each)\n",
      "The maximum decompression speed is 118.410 fps, single threaded, \n",
      "and could reach 7578.218 fps in parallel over 64 threads.\n"
     ]
    }
   ],
   "source": [
    "#Decompression speed:\n",
    "with h5py.File(filename, \"r\") as h:\n",
    "    ds = h[\"data\"]\n",
    "    filter_mask, chunk = ds.id.read_direct_chunk(ds.id.get_chunk_info(1).chunk_offset)\n",
    "print(f\"Decompression speed of a single chunk/frame, filter_mask={filter_mask} should be null\")\n",
    "timing_decompress = %timeit -r3 -o decompress_bslz4_chunk(chunk, dtype, shape)\n",
    "print(f\"The maximum decompression speed is {1/timing_decompress.best:.3f} fps, single threaded, \\nand could reach {nbthreads/timing_decompress.best:.3f} fps in parallel over {nbthreads} threads.\")"
   ]
  },
  {
   "cell_type": "markdown",
   "id": "9fccb178-94db-4bb4-a5e1-9cab60af0aeb",
   "metadata": {},
   "source": [
    "## Prepare the azimuthal integrator\n",
    "To allow the full parallelization of different integrators working in parallel, one must limit the number of Python call performed, this is why we need to extract the Cython integrator from AzimuthalIntegator. The integrator used here is a sparse matrix multiplication one with a CSC representation which is single-threaded. This engine is usually not the fastest but it is multitheading friendly."
   ]
  },
  {
   "cell_type": "code",
   "execution_count": 22,
   "id": "0814ccb4-2906-44e6-9061-bb36c5139b3e",
   "metadata": {},
   "outputs": [
    {
     "name": "stdout",
     "output_type": "stream",
     "text": [
      "37.5 ms ± 33.9 µs per loop (mean ± std. dev. of 3 runs, 10 loops each)\n",
      "The maximum achievable integration speed on a single core is 26.735 fps which does not look fancy,\n",
      "but parallelized over 64 threads, it could reach: 1711.033 fps!\n"
     ]
    }
   ],
   "source": [
    "geo = {\"detector\": det, \n",
    "       \"wavelength\": 1e-10, \n",
    "       \"rot3\":0} #work around a bug https://github.com/silx-kit/pyFAI/pull/1749\n",
    "ai = pyFAI.load(geo)\n",
    "omega = ai.solidAngleArray()\n",
    "res0 = ai.integrate1d(frame, nbins, method=(\"full\", \"csc\", \"cython\"))\n",
    "engine = ai.engines[res0.method].engine\n",
    "#This is how the engine works:\n",
    "res1 = engine.integrate_ng(frame, solidangle=omega)\n",
    "assert numpy.allclose(res0.intensity, res1.intensity)  # validates the equivalence of both approaches:\n",
    "timing_integration = %timeit -r3 -o engine.integrate_ng(frame, solidangle=omega)\n",
    "print(f\"The maximum achievable integration speed on a single core is {1/timing_integration.best:.3f} fps which does not look fancy,\\n\\\n",
    "but parallelized over {nbthreads} threads, it could reach: {nbthreads/timing_integration.best:.3f} fps!\")"
   ]
  },
  {
   "cell_type": "code",
   "execution_count": 23,
   "id": "59e5bc41-f960-47a3-a9d2-133c2131e60d",
   "metadata": {},
   "outputs": [
    {
     "data": {
      "text/plain": [
       "<TimeitResult : 3min 36s ± 0 ns per loop (mean ± std. dev. of 1 run, 1 loop each)>"
      ]
     },
     "execution_count": 23,
     "metadata": {},
     "output_type": "execute_result"
    }
   ],
   "source": [
    "%%timeit -o -r1 -n1 -q\n",
    "#Naive implementation ... read+integrate\n",
    "result0 = numpy.zeros((nbframes, nbins), dtype=numpy.float32)\n",
    "method = (\"full\", \"csr\", \"cython\")\n",
    "buffer = numpy.zeros(shape, dtype=dtype)\n",
    "with h5py.File(filename, \"r\") as h:\n",
    "    ds = h[\"data\"]\n",
    "    for i in range(nbframes):\n",
    "        ds.read_direct(buffer, numpy.s_[i,:,:], numpy.s_[:,:])\n",
    "        result0[i] = ai.integrate1d(buffer, nbins, method=method).intensity"
   ]
  },
  {
   "cell_type": "code",
   "execution_count": 24,
   "id": "ce61a7ec-577e-4e6a-bf59-e0cc8f60478d",
   "metadata": {},
   "outputs": [
    {
     "name": "stdout",
     "output_type": "stream",
     "text": [
      "The maximum achievable decompression+integration speed is 21.810 fps in serial \n",
      "and 1395.870 fps in parallel on 64 threads\n",
      "but a naive implementation provides only 18.940 fps\n"
     ]
    }
   ],
   "source": [
    "timing_naive = _\n",
    "print(f\"The maximum achievable decompression+integration speed is {1/(timing_decompress.best+timing_integration.best):.3f} fps in serial \\n\\\n",
    "and {nbthreads*1/(timing_decompress.best+timing_integration.best):.3f} fps in parallel on {nbthreads} threads\\n\\\n",
    "but a naive implementation provides only {nbframes/(timing_naive.best):.3f} fps\")"
   ]
  },
  {
   "cell_type": "markdown",
   "id": "bbce30f0-4ed2-4f55-aa05-25c44446af7c",
   "metadata": {},
   "source": [
    "## Effective implementation using multithreading:\n",
    "* One `reader` which reads the dataset chunk-by-chunk and makes them available via an input-queue, called `qin`\n",
    "* A pool of `worker`s: pool of the size of the number of cores. Each `worker` is doing the decompression of one chunk into one frame and the azimuthal integration of that frame. The integrated result is put into an output-queue, called `qout`.\n",
    "* 2 queues: `qin` and `qout`\n",
    "\n",
    "The gathering of the data is performed in the main thread but it could also be in a separated thread.\n",
    "Each piece of data is associated with its index in the dataset using the `Item` named-tuple.\n",
    "\n",
    "Nota: I had a hard time to perform both reading and writing with HDF5 (even in different files). This is why the result is reconstructed in memory and the saving performed at the very end."
   ]
  },
  {
   "cell_type": "code",
   "execution_count": 25,
   "id": "b0cffcf6-ede0-4cf0-8e38-f247e8c15352",
   "metadata": {},
   "outputs": [],
   "source": [
    "def reader(filename, h5path, queue, nbworkers):\n",
    "    \"\"\"Function reading the HDF5 file and enqueuing raw-chunks into the queue.\n",
    "    Used in a thread.\n",
    "    \n",
    "    :param filename: name of the HDF5 file\n",
    "    :param h5path: path to the dataset within the HDF5 file\n",
    "    :param nbworker: number of worker to kill after the processing\n",
    "    :return: nothing, used in a thread.\"\"\"\n",
    "    with h5py.File(filename, \"r\") as h:\n",
    "        ds = h[\"data\"]\n",
    "        for i in range(ds.id.get_num_chunks()):\n",
    "            filter_mask, chunk = ds.id.read_direct_chunk(ds.id.get_chunk_info(i).chunk_offset)\n",
    "            if filter_mask==0:\n",
    "                queue.put(Item(i, chunk))\n",
    "            while queue.qsize()>1000:\n",
    "                #slow down to prevent filling up memory\n",
    "                os.sched_yield()\n",
    "        #kills all worker when done\n",
    "        for i in range(nbworkers):\n",
    "            queue.put(Item(-1, None))"
   ]
  },
  {
   "cell_type": "code",
   "execution_count": 26,
   "id": "f65a66c2-c8ed-4863-963a-ca76047db0c1",
   "metadata": {},
   "outputs": [],
   "source": [
    "def worker(qin, qout, core=None):\n",
    "    \"\"\"Function representing one worker, used in a pool of worker.\n",
    "    \n",
    "    :param qin: input queue, expects Item with index and compressed chunk\n",
    "    :param qout: output queue: puts item with index and integrated intensity\n",
    "    :param core: bind thread on this core\n",
    "    :return: nothing, used in a thread.\n",
    "    \"\"\"\n",
    "    if core is not None and thread_affinity:\n",
    "        thread_affinity.set_affinity([core])\n",
    "    while True:\n",
    "        item = qin.get()\n",
    "        index = item.index\n",
    "        if index<0: \n",
    "            qin.task_done()\n",
    "            qout.put(item)\n",
    "            return\n",
    "        frame = decompress_bslz4_chunk(item.data, dtype, shape)\n",
    "        qout.put(Item(index, engine.integrate_ng(frame, solidangle=omega).intensity))\n",
    "        qin.task_done()"
   ]
  },
  {
   "cell_type": "code",
   "execution_count": 27,
   "id": "7dae767c-ac68-48fa-9909-f46a9d783be1",
   "metadata": {},
   "outputs": [],
   "source": [
    "def build_pool(nbthreads, qin, qout):\n",
    "    \"\"\"Build a pool of threads with workers, and starts them\"\"\"\n",
    "    pool = [threading.Thread(target=worker, name=f\"worker_{i:02d}\", args=(qin, qout, i)) for i in range(nbthreads)]\n",
    "    for thread in pool:\n",
    "        thread.start()\n",
    "    return pool\n",
    "\n",
    "def end_pool(pool):\n",
    "    \"\"\"Ends all threads from a pool by sending them a \"kill-pill\"\"\"\n",
    "    for thread in pool:\n",
    "        qin.put(Item(-1, None))\n",
    "        \n",
    "#Small validation to check it works: \n",
    "qin = Queue()\n",
    "qout = Queue()\n",
    "pool=build_pool(4, qin, qout)\n",
    "end_pool(pool)"
   ]
  },
  {
   "cell_type": "markdown",
   "id": "098d1606-9a59-49ab-9f50-0f950646a5f8",
   "metadata": {},
   "source": [
    "This cell contains all the processing for a serial reader + parallel (decompression+integration)"
   ]
  },
  {
   "cell_type": "code",
   "execution_count": 28,
   "id": "4852391c-3367-44e9-8d73-a53704c39ec2",
   "metadata": {},
   "outputs": [
    {
     "data": {
      "text/plain": [
       "<TimeitResult : 7.09 s ± 0 ns per loop (mean ± std. dev. of 1 run, 1 loop each)>"
      ]
     },
     "execution_count": 28,
     "metadata": {},
     "output_type": "execute_result"
    }
   ],
   "source": [
    "%%timeit -o -r1 -n1 -q\n",
    "# This is where all the magic is assembled\n",
    "\n",
    "\n",
    "# Define the two queues\n",
    "qin = Queue()\n",
    "qout = Queue()\n",
    "\n",
    "# Build the pool of workers\n",
    "pool=build_pool(nbthreads, qin, qout)\n",
    "# And start the reader who immediately starts filling the qin.\n",
    "threading.Thread(target=reader, name=\"reader\", args=(filename, \"data\", qin, len(pool))).start()\n",
    "\n",
    "#The main thread gathers the data in the `qout`\n",
    "result = numpy.zeros((nbframes, nbins), dtype=numpy.float32)\n",
    "remaining = len(pool) #Number of remaining active workers\n",
    "while remaining:\n",
    "    item = qout.get()\n",
    "    index = item.index\n",
    "    if index<0:\n",
    "        remaining -=1\n",
    "    else:\n",
    "        result[index] = item.data\n",
    "    qout.task_done()\n",
    "        \n",
    "# Finally ensure all tasks are done: this is redundant with remaining==0\n",
    "qin.join()\n",
    "qout.join()"
   ]
  },
  {
   "cell_type": "code",
   "execution_count": 29,
   "id": "e5c51b7f-7ebe-4f02-b142-4f06c1c52dba",
   "metadata": {},
   "outputs": [
    {
     "name": "stdout",
     "output_type": "stream",
     "text": [
      "Effective throughput: 577.373 fps and \n",
      "speed-up versus the naive version is 30.485x for a computer with 64 threads.\n"
     ]
    }
   ],
   "source": [
    "timing_parallel = _\n",
    "print(f\"Effective throughput: {nbframes/timing_parallel.best:.3f} fps and \\nspeed-up versus the naive version is {timing_naive.best/timing_parallel.best:0.3f}x for a computer with {nbthreads} threads.\")"
   ]
  },
  {
   "cell_type": "markdown",
   "id": "ad288c4c-c7df-40b1-81db-238a8fc3a626",
   "metadata": {},
   "source": [
    "One needs to replay the cell without the timeit to retrieve the results (timeit discards them!)"
   ]
  },
  {
   "cell_type": "code",
   "execution_count": 30,
   "id": "ffa40586-b043-424d-8d8f-096daad0573d",
   "metadata": {},
   "outputs": [
    {
     "name": "stdout",
     "output_type": "stream",
     "text": [
      "CPU times: user 4min 9s, sys: 16.3 s, total: 4min 25s\n",
      "Wall time: 8.29 s\n"
     ]
    }
   ],
   "source": [
    "def integrate_hdf5(filename, dataset=\"/data\"):\n",
    "    qin = Queue()\n",
    "    qout = Queue()\n",
    "    pool=build_pool(nbthreads, qin, qout)\n",
    "    threading.Thread(target=reader, name=\"reader\", args=(filename, \"data\", qin, len(pool))).start()\n",
    "\n",
    "    #The main thread gathers the data in the `qout`\n",
    "    result = numpy.zeros((nbframes, nbins), dtype=numpy.float32)\n",
    "    remaining = len(pool) #Number of remaining active workers\n",
    "    while remaining:\n",
    "        item = qout.get()\n",
    "        index = item.index\n",
    "        if index<0:\n",
    "            remaining -=1\n",
    "        else:\n",
    "            result[index] = item.data\n",
    "        qout.task_done()\n",
    "    return result\n",
    "\n",
    "%time result = integrate_hdf5(filename)\n",
    "with h5py.File(\"results.h5\", \"w\") as results:\n",
    "    results.create_dataset(\"radial\", data=res0.radial)\n",
    "    results.create_dataset(\"integrated\", data=result)"
   ]
  },
  {
   "cell_type": "markdown",
   "id": "769fd274-e668-4065-ba8f-681a56906838",
   "metadata": {},
   "source": [
    "## Display some results\n",
    "Since the input data were all synthetic and similar, no great science is expected from this... but one can ensure each frame differs slightly from the neighbors with a pattern of 500 frames. "
   ]
  },
  {
   "cell_type": "code",
   "execution_count": 31,
   "id": "478cf30b-a1ca-4c62-8031-c364c2543816",
   "metadata": {},
   "outputs": [
    {
     "data": {
      "text/plain": [
       "<matplotlib.image.AxesImage at 0x15099f9c8100>"
      ]
     },
     "execution_count": 31,
     "metadata": {},
     "output_type": "execute_result"
    },
    {
     "data": {
      "image/png": "[encoded data removed]",
      "text/plain": [
       "<Figure size 576x576 with 1 Axes>"
      ]
     },
     "metadata": {
      "needs_background": "light"
     },
     "output_type": "display_data"
    }
   ],
   "source": [
    "fig,ax = subplots(figsize=(8,8))\n",
    "ax.imshow(result)"
   ]
  },
  {
   "cell_type": "markdown",
   "id": "094b673d-f373-431b-92ed-4c9ef9ff3c79",
   "metadata": {},
   "source": [
    "## Conclusion\n",
    "\n",
    "Reading Bitshuffle-LZ4 data can be parallelized using multithreading in Python. \n",
    "\n",
    "The procedure is a bit tedious but not out of reach for a Python programmer: few threads and a couple of queues. \n",
    "This burden is worth when coupling decompression with azmuthal integration of the frame to reduce the amount of data to store in memory.\n",
    "\n",
    "The performances obtained on a 64-core computer are close to what can be obtained from a GPU: ~500 fps\n",
    "The speed-up obtained with the procedure is 30x on a 64 core computer version single threaded implementation, which demonstrates multithreading is worth the burden."
   ]
  },
  {
   "cell_type": "markdown",
   "id": "0d2b8105-71d9-4440-93f9-0a30f8f507cc",
   "metadata": {},
   "source": [
    "Thanks again to the French-CRG for the computer."
   ]
  },
  {
   "cell_type": "code",
   "execution_count": 32,
   "id": "b90f5458-9fd4-4d83-bfbd-017e3a9365dd",
   "metadata": {},
   "outputs": [
    {
     "name": "stdout",
     "output_type": "stream",
     "text": [
      "Total processing time: 326.361 s\n"
     ]
    }
   ],
   "source": [
    "print(f\"Total processing time: {time.time()-start_time:.3f} s\")"
   ]
  }
 ],
 "metadata": {
  "kernelspec": {
   "display_name": "Python 3 (ipykernel)",
   "language": "python",
   "name": "python3"
  },
  "language_info": {
   "codemirror_mode": {
    "name": "ipython",
    "version": 3
   },
   "file_extension": ".py",
   "mimetype": "text/x-python",
   "name": "python",
   "nbconvert_exporter": "python",
   "pygments_lexer": "ipython3",
   "version": "3.9.12"
  }
 },
 "nbformat": 4,
 "nbformat_minor": 5
}
