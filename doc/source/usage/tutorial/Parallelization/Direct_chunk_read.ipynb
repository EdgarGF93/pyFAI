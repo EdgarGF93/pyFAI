{
 "cells": [
  {
   "cell_type": "markdown",
   "id": "c38240c3-7646-497b-a3ac-d9cfa6c974f2",
   "metadata": {},
   "source": [
    "# Parallel processing of a stack of data stored in HDF5 with multi-threading\n",
    "\n",
    "This tutorial explains how it is possible to treat in parallel a large HDF5 dataset which does not fit into the computer memory.\n",
    "\n",
    "![Typical workflow](workflow.png)\n",
    "\n",
    "For this tutorial, a recent version of pyFAI is needed (>=0.22, summer 2022).\n",
    "\n",
    "This tutorial expains how to take benefit from multi-threading. This framework is not very popular in the Python world due to the [Global Interpreter Lock (GIL)](https://wiki.python.org/moin/GlobalInterpreterLock), but properly written C-code which does release the GIL can be very fast, sometimes as fast as GPU code (on large computers).\n",
    "\n",
    "**Credits:**\n",
    "\n",
    "* Thomas Vincent (ESRF) for the parallel decompression of HDF5 chunks and the Jupyter-slurm\n",
    "* Pierre Paleo (ESRF) for struggling with this kind of stuff with GPUs\n",
    "* Jon Wright (ESRF) for the CSC integrator, while implemented in serial is multithreading friendly + HDF5 investigation\n",
    "* The French-CRG for providing a manycore computer (2 x 32-core AMD EPYC 75F3)\n",
    "\n",
    "**Nota:** No GPU is needed for this tutorial!\n",
    "\n",
    "**Important:** the `bitshuffle` module needs to be compiled without OpenMP, since the tutorial aims at demonstrating that Python threads can be almost as efficient as OpenMP. If you have a doubt about OpenMP, please uncomment the environment variable OMP_NUM_THREADS reset in the second cell. This will unfortunately bias the performance measurement of pyFAI with the CSR sparse-matrix multiplication.\n",
    "\n",
    "## 1. Description of the computer.\n",
    "\n",
    "The results obtained vary a lot as function of the computer and its topology. This section details some internal details about the computer."
   ]
  },
  {
   "cell_type": "code",
   "execution_count": 1,
   "id": "5eb5f112-bf32-4413-85ea-67eb88bf7ee9",
   "metadata": {},
   "outputs": [],
   "source": [
    "%matplotlib inline\n",
    "# use `widget` for better user experience; `inline` is for documentation generation"
   ]
  },
  {
   "cell_type": "code",
   "execution_count": 2,
   "id": "638e4966-b05e-47e2-a4b0-5843b1b5ff93",
   "metadata": {},
   "outputs": [
    {
     "name": "stdout",
     "output_type": "stream",
     "text": [
      "Working on computer antarctica.\n"
     ]
    }
   ],
   "source": [
    "import sys, os, collections, struct, time, socket\n",
    "# Ensure OpenMP is disabled\n",
    "# os.environ[\"OMP_NUM_THREADS\"] = \"1\"\n",
    "import numpy, pyFAI\n",
    "import h5py, hdf5plugin\n",
    "from queue import Queue\n",
    "import threading\n",
    "import bitshuffle\n",
    "from matplotlib.pyplot import subplots\n",
    "start_time = time.time()\n",
    "Item = collections.namedtuple(\"Item\", \"index data\")\n",
    "print(f\"Working on computer {socket.gethostname()}.\")"
   ]
  },
  {
   "cell_type": "code",
   "execution_count": 3,
   "id": "210e4de4-184b-4c64-872e-5c1aaf080501",
   "metadata": {},
   "outputs": [
    {
     "name": "stdout",
     "output_type": "stream",
     "text": [
      "Working with 16 threads. Mind OpenMP needs to be disabled in the bitshuffle code !\n"
     ]
    }
   ],
   "source": [
    "nbthreads = len(os.sched_getaffinity(0))\n",
    "print(f\"Working with {nbthreads} threads. Mind OpenMP needs to be disabled in the bitshuffle code !\")"
   ]
  },
  {
   "cell_type": "code",
   "execution_count": 4,
   "id": "8e649b79-f024-4635-ac8f-fc68827c60aa",
   "metadata": {},
   "outputs": [
    {
     "name": "stdout",
     "output_type": "stream",
     "text": [
      "Architecture :                              x86_64\n",
      "  Mode(s) opératoire(s) des processeurs :   32-bit, 64-bit\n",
      "  Tailles des adresses:                     43 bits physical, 48 bits virtual\n",
      "  Boutisme :                                Little Endian\n",
      "Processeur(s) :                             16\n",
      "  Liste de processeur(s) en ligne :         0-15\n",
      "Identifiant constructeur :                  AuthenticAMD\n",
      "  Nom de modèle :                           AMD EPYC 7262 8-Core Processor\n",
      "    Famille de processeur :                 23\n",
      "    Modèle :                                49\n",
      "    Thread(s) par cœur :                    2\n",
      "    Cœur(s) par socket :                    8\n",
      "    Socket(s) :                             1\n",
      "    Révision :                              0\n",
      "    Accroissement de fréquence :            activé\n",
      "    multiplication des MHz du/des CPU(s) :  79%\n",
      "    Vitesse maximale du processeur en MHz : 3200,0000\n",
      "    Vitesse minimale du processeur en MHz : 1500,0000\n",
      "    BogoMIPS :                              6399,60\n",
      "    Drapeaux :                              fpu vme de pse tsc msr pae mce cx8 a\n",
      "                                            pic sep mtrr pge mca cmov pat pse36 \n",
      "                                            clflush mmx fxsr sse sse2 ht syscall\n",
      "                                             nx mmxext fxsr_opt pdpe1gb rdtscp l\n",
      "                                            m constant_tsc rep_good nopl nonstop\n",
      "                                            _tsc cpuid extd_apicid aperfmperf ra\n",
      "                                            pl pni pclmulqdq monitor ssse3 fma c\n",
      "                                            x16 sse4_1 sse4_2 movbe popcnt aes x\n",
      "                                            save avx f16c rdrand lahf_lm cmp_leg\n",
      "                                            acy svm extapic cr8_legacy abm sse4a\n",
      "                                             misalignsse 3dnowprefetch osvw ibs \n",
      "                                            skinit wdt tce topoext perfctr_core \n",
      "                                            perfctr_nb bpext perfctr_llc mwaitx \n",
      "                                            cpb cat_l3 cdp_l3 hw_pstate ssbd mba\n",
      "                                             ibrs ibpb stibp vmmcall fsgsbase bm\n",
      "                                            i1 avx2 smep bmi2 cqm rdt_a rdseed a\n",
      "                                            dx smap clflushopt clwb sha_ni xsave\n",
      "                                            opt xsavec xgetbv1 cqm_llc cqm_occup\n",
      "                                            _llc cqm_mbm_total cqm_mbm_local clz\n",
      "                                            ero irperf xsaveerptr rdpru wbnoinvd\n",
      "                                             amd_ppin arat npt lbrv svm_lock nri\n",
      "                                            p_save tsc_scale vmcb_clean flushbya\n",
      "                                            sid decodeassists pausefilter pfthre\n",
      "                                            shold avic v_vmsave_vmload vgif v_sp\n",
      "                                            ec_ctrl umip rdpid overflow_recov su\n",
      "                                            ccor smca sev sev_es\n",
      "Fonctionnalités de virtualisation :         \n",
      "  Virtualisation :                          AMD-V\n",
      "Caches (somme de toutes) :                  \n",
      "  L1d :                                     256 KiB (8 instances)\n",
      "  L1i :                                     256 KiB (8 instances)\n",
      "  L2 :                                      4 MiB (8 instances)\n",
      "  L3 :                                      128 MiB (8 instances)\n",
      "NUMA :                                      \n",
      "  Nœud(s) NUMA :                            4\n",
      "  Nœud NUMA 0 de processeur(s) :            0,1,8,9\n",
      "  Nœud NUMA 1 de processeur(s) :            2,3,10,11\n",
      "  Nœud NUMA 2 de processeur(s) :            4,5,12,13\n",
      "  Nœud NUMA 3 de processeur(s) :            6,7,14,15\n",
      "Vulnérabilités :                            \n",
      "  Gather data sampling :                    Not affected\n",
      "  Itlb multihit :                           Not affected\n",
      "  L1tf :                                    Not affected\n",
      "  Mds :                                     Not affected\n",
      "  Meltdown :                                Not affected\n",
      "  Mmio stale data :                         Not affected\n",
      "  Retbleed :                                Mitigation; untrained return thunk; \n",
      "                                            SMT enabled with STIBP protection\n",
      "  Spec rstack overflow :                    Mitigation; safe RET\n",
      "  Spec store bypass :                       Mitigation; Speculative Store Bypass\n",
      "                                             disabled via prctl\n",
      "  Spectre v1 :                              Mitigation; usercopy/swapgs barriers\n",
      "                                             and __user pointer sanitization\n",
      "  Spectre v2 :                              Mitigation; Retpolines, IBPB conditi\n",
      "                                            onal, STIBP always-on, RSB filling, \n",
      "                                            PBRSB-eIBRS Not affected\n",
      "  Srbds :                                   Not affected\n",
      "  Tsx async abort :                         Not affected\n"
     ]
    }
   ],
   "source": [
    "!lscpu"
   ]
  },
  {
   "cell_type": "code",
   "execution_count": 5,
   "id": "97da69b1-f59d-4bf7-99ff-19b426cdccce",
   "metadata": {},
   "outputs": [
    {
     "name": "stdout",
     "output_type": "stream",
     "text": [
      "available: 4 nodes (0-3)\n",
      "node 0 cpus: 0 1 8 9\n",
      "node 0 size: 32068 MB\n",
      "node 0 free: 21850 MB\n",
      "node 1 cpus: 2 3 10 11\n",
      "node 1 size: 32254 MB\n",
      "node 1 free: 23817 MB\n",
      "node 2 cpus: 4 5 12 13\n",
      "node 2 size: 32254 MB\n",
      "node 2 free: 18280 MB\n",
      "node 3 cpus: 6 7 14 15\n",
      "node 3 size: 32197 MB\n",
      "node 3 free: 15153 MB\n",
      "node distances:\n",
      "node   0   1   2   3 \n",
      "  0:  10  12  12  12 \n",
      "  1:  12  10  12  12 \n",
      "  2:  12  12  10  12 \n",
      "  3:  12  12  12  10 \n"
     ]
    }
   ],
   "source": [
    "!numactl --hardware"
   ]
  },
  {
   "cell_type": "code",
   "execution_count": 6,
   "id": "345903ed-e336-4b37-b520-34790b95252d",
   "metadata": {},
   "outputs": [
    {
     "name": "stdout",
     "output_type": "stream",
     "text": [
      "Invalid MIT-MAGIC-COOKIE-1 key\n",
      "dlerror: #/opt/pocl-4/lib/libpocl.so.2.12.0: Ne peut ouvrir le fichier d'objet partagé: Aucun fichier ou dossier de ce type\n",
      "dlerror: libimf.so: Ne peut ouvrir le fichier d'objet partagé: Aucun fichier ou dossier de ce type\n",
      "Machine (126GB total) + Package L#0\n",
      "  Group0 L#0\n",
      "    NUMANode L#0 (P#0 31GB)\n",
      "    L3 L#0 (16MB) + L2 L#0 (512KB) + L1d L#0 (32KB) + L1i L#0 (32KB) + Core L#0\n",
      "      PU L#0 (P#0)\n",
      "      PU L#1 (P#8)\n",
      "    L3 L#1 (16MB) + L2 L#1 (512KB) + L1d L#1 (32KB) + L1i L#1 (32KB) + Core L#1\n",
      "      PU L#2 (P#1)\n",
      "      PU L#3 (P#9)\n",
      "    HostBridge\n",
      "      PCIBridge\n",
      "        PCIBridge\n",
      "          PCIBridge\n",
      "            PCI c3:00.0 (VGA)\n",
      "              CoProc(OpenCL) \"opencl3d0\"\n",
      "  Group0 L#1\n",
      "    NUMANode L#1 (P#1 31GB)\n",
      "    L3 L#2 (16MB) + L2 L#2 (512KB) + L1d L#2 (32KB) + L1i L#2 (32KB) + Core L#2\n",
      "      PU L#4 (P#2)\n",
      "      PU L#5 (P#10)\n",
      "    L3 L#3 (16MB) + L2 L#3 (512KB) + L1d L#3 (32KB) + L1i L#3 (32KB) + Core L#3\n",
      "      PU L#6 (P#3)\n",
      "      PU L#7 (P#11)\n",
      "    HostBridge\n",
      "      PCIBridge\n",
      "        PCI 81:00.0 (VGA)\n",
      "          CoProc(OpenCL) \"opencl0d0\"\n",
      "      PCIBridge\n",
      "        PCI 84:00.0 (SATA)\n",
      "      PCIBridge\n",
      "        PCI 85:00.0 (SATA)\n",
      "  Group0 L#2\n",
      "    NUMANode L#2 (P#2 31GB)\n",
      "    L3 L#4 (16MB) + L2 L#4 (512KB) + L1d L#4 (32KB) + L1i L#4 (32KB) + Core L#4\n",
      "      PU L#8 (P#4)\n",
      "      PU L#9 (P#12)\n",
      "    L3 L#5 (16MB) + L2 L#5 (512KB) + L1d L#5 (32KB) + L1i L#5 (32KB) + Core L#5\n",
      "      PU L#10 (P#5)\n",
      "      PU L#11 (P#13)\n",
      "    HostBridge\n",
      "      PCIBridge\n",
      "        PCI 43:00.0 (Ethernet)\n",
      "          Net \"eno1\"\n",
      "        PCI 43:00.1 (Ethernet)\n",
      "          Net \"eno2\"\n",
      "      PCIBridge\n",
      "        PCI 46:00.0 (SATA)\n",
      "          Block(Disk) \"sdb\"\n",
      "          Block(Removable Media Device) \"sr0\"\n",
      "          Block(Disk) \"sda\"\n",
      "      PCIBridge\n",
      "        PCI 47:00.0 (SATA)\n",
      "  Group0 L#3\n",
      "    NUMANode L#3 (P#3 31GB)\n",
      "    L3 L#6 (16MB) + L2 L#6 (512KB) + L1d L#6 (32KB) + L1i L#6 (32KB) + Core L#6\n",
      "      PU L#12 (P#6)\n",
      "      PU L#13 (P#14)\n",
      "    L3 L#7 (16MB) + L2 L#7 (512KB) + L1d L#7 (32KB) + L1i L#7 (32KB) + Core L#7\n",
      "      PU L#14 (P#7)\n",
      "      PU L#15 (P#15)\n",
      "    HostBridge\n",
      "      PCIBridge\n",
      "        PCI 01:00.0 (VGA)\n",
      "          GPU(Display) \":0.0\"\n",
      "          CoProc(OpenCL) \"opencl0d1\"\n",
      "      PCIBridge\n",
      "        PCI 02:00.0 (NVMExp)\n",
      "          Block(Disk) \"nvme0n1\"\n"
     ]
    }
   ],
   "source": [
    "!lstopo --of console"
   ]
  },
  {
   "cell_type": "markdown",
   "id": "d2c54705-4b6c-444b-b9f1-b763f6a8d915",
   "metadata": {},
   "source": [
    "## 2. Setup the enviroment:\n",
    "\n",
    "This is a purely virtual experiment, the tutorial tries to be representative of the processing for the beamline of Jon Wright: ESRF-ID11 this is why we will use an Eiger 4M detector with data integrated over 1000 bins. Those parameters can be tuned.\n",
    "\n",
    "Random data are generated to mimic the scattering of a liquid with Poisson noise. The input file is fairly small, since those data compress nicely. The speed of the drive used for temporary storage is likely to have a huge impact, especially if all data do not hold in memory !"
   ]
  },
  {
   "cell_type": "code",
   "execution_count": 77,
   "id": "1cd22d82-d4fb-4d28-9960-0442989ca18c",
   "metadata": {},
   "outputs": [
    {
     "data": {
      "text/plain": [
       "HDF5PluginBuildConfig(openmp=False, native=False, bmi2=False, sse2=True, avx2=False, avx512=False, cpp11=True, cpp14=True, ipp=False, filter_file_extension='.so', embedded_filters=('blosc', 'blosc2', 'bshuf', 'bzip2', 'fcidecomp', 'lz4', 'sz', 'sz3', 'zfp', 'zstd'))"
      ]
     },
     "execution_count": 77,
     "metadata": {},
     "output_type": "execute_result"
    }
   ],
   "source": [
    "det = pyFAI.detector_factory(\"eiger_4M\")\n",
    "shape = det.shape\n",
    "dtype = numpy.dtype(\"uint32\")\n",
    "filename = \"/tmp/big.h5\"\n",
    "h5path = \"data\"\n",
    "nbins = 1000\n",
    "cmp = hdf5plugin.Bitshuffle()\n",
    "hdf5plugin.get_config().build_config"
   ]
  },
  {
   "cell_type": "code",
   "execution_count": 8,
   "id": "daf4eec8-e364-43b6-b5af-8f279c6aed38",
   "metadata": {},
   "outputs": [
    {
     "name": "stdout",
     "output_type": "stream",
     "text": [
      "Number of frames the computer can host in memory: 7525.612\n"
     ]
    }
   ],
   "source": [
    "mem_bytes = os.sysconf('SC_PAGE_SIZE') * os.sysconf('SC_PHYS_PAGES')\n",
    "print(f\"Number of frames the computer can host in memory: {mem_bytes/(numpy.prod(shape)*dtype.itemsize):.3f}\")\n",
    "if os.environ.get('SLURM_MEM_PER_NODE'):\n",
    "    print(f\"Number of frames the computer can host in memory with SLURM restrictions: {int(os.environ['SLURM_MEM_PER_NODE'])*(1<<20)/(numpy.prod(shape)*dtype.itemsize):.3f}\")"
   ]
  },
  {
   "cell_type": "code",
   "execution_count": 9,
   "id": "bd038dc8-1e6d-4bd6-95b3-303f2d0f250b",
   "metadata": {},
   "outputs": [],
   "source": [
    "#The computer being limited to 64G of RAM, the number of frames actually possible is 3800.\n",
    "nbframes = 4096 # slightly larger than the maximum achievable ! Such a dataset should not host in memory."
   ]
  },
  {
   "cell_type": "code",
   "execution_count": 10,
   "id": "a32bd8fb-9b64-4564-9a69-67a759bf3427",
   "metadata": {},
   "outputs": [
    {
     "name": "stderr",
     "output_type": "stream",
     "text": [
      "/home/jerome/.venv/py311/lib/python3.11/site-packages/pyopencl/cache.py:495: CompilerWarning: Non-empty compiler output encountered. Set the environment variable PYOPENCL_COMPILER_OUTPUT=1 to see more.\n",
      "  _create_built_program_from_source_cached(\n",
      "/home/jerome/.venv/py311/lib/python3.11/site-packages/pyopencl/cache.py:499: CompilerWarning: Non-empty compiler output encountered. Set the environment variable PYOPENCL_COMPILER_OUTPUT=1 to see more.\n",
      "  prg.build(options_bytes, devices)\n"
     ]
    }
   ],
   "source": [
    "#Prepare a frame with little count so that it compresses well\n",
    "geo = {\"detector\": det, \n",
    "       \"wavelength\": 1e-10}\n",
    "ai = pyFAI.load(geo)\n",
    "q = numpy.arange(15)\n",
    "img = ai.calcfrom1d(q, 100/(1+q*q))\n",
    "frame = numpy.random.poisson(img).astype(dtype)"
   ]
  },
  {
   "cell_type": "code",
   "execution_count": 11,
   "id": "53b49350-6b0c-4c3b-ba5b-ece50cd6fe98",
   "metadata": {},
   "outputs": [
    {
     "data": {
      "text/plain": [
       "<matplotlib.image.AxesImage at 0x7fbc90f5cdd0>"
      ]
     },
     "execution_count": 11,
     "metadata": {},
     "output_type": "execute_result"
    },
    {
     "data": {
      "image/png": "[encoded data removed]",
      "text/plain": [
       "<Figure size 640x480 with 1 Axes>"
      ]
     },
     "metadata": {},
     "output_type": "display_data"
    }
   ],
   "source": [
    "# display the image\n",
    "fig,ax = subplots()\n",
    "ax.imshow(frame)"
   ]
  },
  {
   "cell_type": "code",
   "execution_count": 12,
   "id": "17e3d7e2-de22-4d40-8230-39295f04e239",
   "metadata": {},
   "outputs": [
    {
     "name": "stdout",
     "output_type": "stream",
     "text": [
      "Performances of the different algorithms for azimuthal integration of Eiger 4M image\n",
      "Using algorithm histogram : 680 ms ± 23.1 ms per loop (mean ± std. dev. of 7 runs, 1 loop each)\n",
      "Using algorithm csc       : 47.4 ms ± 148 µs per loop (mean ± std. dev. of 7 runs, 1 loop each)\n",
      "Using algorithm csr       : 68.9 ms ± 7.04 ms per loop (mean ± std. dev. of 7 runs, 1 loop each)\n"
     ]
    }
   ],
   "source": [
    "print(\"Performances of the different algorithms for azimuthal integration of Eiger 4M image\")\n",
    "for algo in (\"histogram\", \"csc\", \"csr\"):\n",
    "    print(f\"Using algorithm {algo:10s}:\", end=\" \")\n",
    "    %timeit ai.integrate1d(img, nbins, method=(\"full\", algo, \"cython\"))"
   ]
  },
  {
   "cell_type": "markdown",
   "id": "22969c56-1d10-4950-aebe-699da628858e",
   "metadata": {},
   "source": [
    "**Note:** The full pixel splitting is time consuming and handicaps the histogram algorithm while both sparse-matrix methods are much faster since they cache this calculation in the sparse matrix.\n",
    "\n",
    "The compared performances of sparse-matrix methods is rather surprizing since the CSC algorithm, single threaded, is faster than the CSR which runs in parallel over 2x32 cores.\n",
    "This result is the combination of two facotors:\n",
    "\n",
    "1. The computer is built with two processors/sockets controling each its own memory. We call this a **Non Uniform Memory Access** computer and can be checked with `numactrl --hardware`. The CSR matrix multiplication will dispatch work on both processors and thus, needs to transfer part of the image from one NUMA subsystem (socket) to the other, which is slow (3.2x slower compared to a single-socket access, according to the output of numactl). \n",
    "\n",
    "2. The very large cache of this processor: 512MB are reported by `lscpu`, but a more precise tool, `lstopo` describes them as 32MB of L3 cache shared between 4 cores. This very large cache allows the complete frame and the sparse matrix to be pre-fetched which is a great advantage for the CSC algorithm.\n",
    "\n",
    "Running the very same benchmark on an Intel 2-socket server would remove the point 2, while running on a singe socket intel workstation would remove both points and the normal results would be that CSR should be faster than CSC. The best performances on can get with the CSR algorithm should be obtained when using 4 cores (sharing the same cache L3) out of 64 on this computer. This can be done by setting the environment variable **OMP_NUM_THREADS**. Unfortunately, it also requires to restart the process, thus cannot be demonstrated easily in the notebook (without restarting). \n",
    "\n",
    "**The first message to take home is that without the knownledge of the actual computer, no high-performace computing is possible**"
   ]
  },
  {
   "cell_type": "code",
   "execution_count": 13,
   "id": "a98654ed-372a-4886-9292-32b31ae4ec2a",
   "metadata": {},
   "outputs": [],
   "source": [
    "#Does not work unless one restarts the process\n",
    "\n",
    "# print(\"Performances of the different algorithms for azimuthal integration of Eiger 4M image when using only 4 cores\")\n",
    "# mask = os.sched_getaffinity(0)\n",
    "# os.sched_setaffinity(0, [0,1,2,3])\n",
    "# for algo in (\"histogram\", \"csc\", \"csr\"):\n",
    "#     print(f\"Using algorithm {algo}:\", end=\" \")\n",
    "#     %timeit ai.integrate1d(img, nbins, method=(\"full\", algo, \"cython\"))\n",
    "# os.sched_setaffinity(0, mask)"
   ]
  },
  {
   "cell_type": "markdown",
   "id": "63768a00-0b9e-4c55-a55e-efe6a8a17358",
   "metadata": {},
   "source": [
    "## 3. Writing the test dataset on disk."
   ]
  },
  {
   "cell_type": "code",
   "execution_count": 14,
   "id": "32d5ebc6-3473-49a2-93e7-76e7bb8f17f1",
   "metadata": {},
   "outputs": [
    {
     "data": {
      "text/plain": [
       "<TimeitResult : 99.3 µs ± 0 ns per loop (mean ± std. dev. of 1 run, 1 loop each)>"
      ]
     },
     "execution_count": 14,
     "metadata": {},
     "output_type": "execute_result"
    }
   ],
   "source": [
    "%%timeit -r1 -n1 -o -q\n",
    "#Saving of a HDF5 file with many frames ...\n",
    "if not os.path.exists(filename):\n",
    "    with h5py.File(filename, \"w\") as h:\n",
    "        ds = h.create_dataset(h5path, shape=(nbframes,)+shape, chunks=(1,)+shape, dtype=dtype, **cmp) \n",
    "        for i in range(nbframes):\n",
    "            ds[i] = frame + i%500 #Each frame has a different value to prevent caching effects"
   ]
  },
  {
   "cell_type": "code",
   "execution_count": 15,
   "id": "f82b2daf-77c2-4720-9848-6ca9c273707f",
   "metadata": {},
   "outputs": [
    {
     "name": "stdout",
     "output_type": "stream",
     "text": [
      "File size 9.213 GB with a compression ratio of 7.429x\n",
      "Write speed: 740458726.909 MB/s of uncompressed data, or 41267827.631 fps.\n"
     ]
    }
   ],
   "source": [
    "timing_write = _\n",
    "size=os.stat(filename).st_size\n",
    "print(f\"File size {size/(1024**3):.3f} GB with a compression ratio of {nbframes*numpy.prod(shape)*dtype.itemsize/size:.3f}x\")\n",
    "print(f\"Write speed: {nbframes*numpy.prod(shape)*dtype.itemsize/(1e6*timing_write.best):.3f} MB/s of uncompressed data, or {nbframes/timing_write.best:.3f} fps.\")"
   ]
  },
  {
   "cell_type": "markdown",
   "id": "dc086333-96da-47eb-8477-9a0a5f60bc20",
   "metadata": {},
   "source": [
    "No optimisation is done for writing: this tutorial is focused on reading & processing speed.\n",
    "We keep nevertheless those figures for reference.\n",
    "\n",
    "## 4. Reading the dataset using the h5py/HDF5 library:\n",
    "### 4.1 Using the `h5py` API in a natural way\n",
    "We start with the simplest way to read back all those data:"
   ]
  },
  {
   "cell_type": "code",
   "execution_count": 16,
   "id": "889b740b-2ba4-4677-a8d6-346608d90158",
   "metadata": {},
   "outputs": [
    {
     "data": {
      "text/plain": [
       "<TimeitResult : 57.7 s ± 0 ns per loop (mean ± std. dev. of 1 run, 1 loop each)>"
      ]
     },
     "execution_count": 16,
     "metadata": {},
     "output_type": "execute_result"
    }
   ],
   "source": [
    "%%timeit -r1 -n1 -o -q\n",
    "#Reading all frames and decompressing them, the natural way way\n",
    "with h5py.File(filename, \"r\") as h:\n",
    "    ds = h[h5path]\n",
    "    for i in range(nbframes):\n",
    "        frame = ds[i][...]"
   ]
  },
  {
   "cell_type": "code",
   "execution_count": 17,
   "id": "c748fcbe-128d-46ab-9aa7-149c9a5b31fd",
   "metadata": {},
   "outputs": [
    {
     "name": "stdout",
     "output_type": "stream",
     "text": [
      "Read speed: 1273.826 MB/s of uncompressed data, or 70.994 fps.\n"
     ]
    }
   ],
   "source": [
    "timing_read0 = _\n",
    "print(f\"Read speed: {nbframes*numpy.prod(shape)*dtype.itemsize/(1e6*timing_read0.best):.3f} MB/s of uncompressed data,\\\n",
    " or {nbframes/timing_read0.best:.3f} fps.\")"
   ]
  },
  {
   "cell_type": "markdown",
   "id": "4f95dca1-0301-4a04-b397-a9358816ee50",
   "metadata": {},
   "source": [
    "Reading all data from HDF5 file is as slow as (if not slower than) writing. \n",
    "This is mostly due to the decompression and to the many memory allocation performed.\n",
    "\n",
    "### 4.2 Pre-allocate the output buffer (for `h5py`)\n",
    "\n",
    "Now, we can try to pre-allocate the output buffer and check if it helps:"
   ]
  },
  {
   "cell_type": "code",
   "execution_count": 18,
   "id": "a643e63d-1709-45b1-aaad-a542792b5a62",
   "metadata": {},
   "outputs": [
    {
     "data": {
      "text/plain": [
       "<TimeitResult : 52.4 s ± 0 ns per loop (mean ± std. dev. of 1 run, 1 loop each)>"
      ]
     },
     "execution_count": 18,
     "metadata": {},
     "output_type": "execute_result"
    }
   ],
   "source": [
    "%%timeit -r1 -n1 -o -q\n",
    "#Reading all frames and decompressing them\n",
    "buffer = numpy.zeros(shape, dtype=dtype)\n",
    "with h5py.File(filename, \"r\") as h:\n",
    "    ds = h[h5path]\n",
    "    for i in range(nbframes):\n",
    "        ds.read_direct(buffer, numpy.s_[i,:,:], numpy.s_[:,:])"
   ]
  },
  {
   "cell_type": "code",
   "execution_count": 19,
   "id": "847240c6-f9df-4626-b1a3-2197f535897c",
   "metadata": {},
   "outputs": [
    {
     "name": "stdout",
     "output_type": "stream",
     "text": [
      "Read speed: 1402.577 MB/s of uncompressed data, or 78.170 fps.\n"
     ]
    }
   ],
   "source": [
    "timing_read1 = _\n",
    "print(f\"Read speed: {nbframes*numpy.prod(shape)*dtype.itemsize/(1e6*timing_read1.best):.3f} MB/s of uncompressed data,\\\n",
    " or {nbframes/timing_read1.best:.3f} fps.\")"
   ]
  },
  {
   "cell_type": "code",
   "execution_count": 20,
   "id": "8613536f-6bd7-42ff-b401-f8ed80cdd8da",
   "metadata": {},
   "outputs": [
    {
     "name": "stdout",
     "output_type": "stream",
     "text": [
      " Speed-up: 10.1 %\n"
     ]
    }
   ],
   "source": [
    "print(f\" Speed-up: {(timing_read0.best/timing_read1.best-1)*100:.1f} %\")"
   ]
  },
  {
   "cell_type": "markdown",
   "id": "4f9267a3-d056-4f91-a183-3dcfa0053885",
   "metadata": {},
   "source": [
    "The gain exists but it is not huge (<10%).\n",
    "\n",
    "## 5. Decouple HDF5 chunk reading from decompression.\n",
    "\n",
    "We will benchmark separately the file reading (i.e. reading chunks one by one) and decompressing to check the maximum achievable read speed.\n",
    "\n",
    "### 5.1 Benchmarking of the chunk reading using the `read_direct_chunk` from `h5py`"
   ]
  },
  {
   "cell_type": "code",
   "execution_count": 21,
   "id": "3492bfe6-c71e-40a2-98c4-7fd2cd7d7560",
   "metadata": {},
   "outputs": [
    {
     "data": {
      "text/plain": [
       "<TimeitResult : 1.25 s ± 0 ns per loop (mean ± std. dev. of 1 run, 1 loop each)>"
      ]
     },
     "execution_count": 21,
     "metadata": {},
     "output_type": "execute_result"
    }
   ],
   "source": [
    "%%timeit -r1 -n1 -o -q\n",
    "#Reading all frames without decompressing them\n",
    "with h5py.File(filename, \"r\") as h:\n",
    "    ds = h[h5path]\n",
    "    for i in range(ds.id.get_num_chunks()):\n",
    "        filter_mask, chunk = ds.id.read_direct_chunk(ds.id.get_chunk_info(i).chunk_offset)"
   ]
  },
  {
   "cell_type": "code",
   "execution_count": 22,
   "id": "95cccf4c-f63f-4ecb-9155-41e2a1821380",
   "metadata": {},
   "outputs": [
    {
     "name": "stdout",
     "output_type": "stream",
     "text": [
      "Read speed: 7933.161 MB/s of compressed data.\n",
      "HDF5 direct chunk read speed: 3284.841 fps (without decompression).\n"
     ]
    }
   ],
   "source": [
    "timing_read2 = _\n",
    "print(f\"Read speed: {size/(1e6*timing_read2.best):.3f} MB/s of compressed data.\")\n",
    "print(f\"HDF5 direct chunk read speed: {nbframes/timing_read2.best:.3f} fps (without decompression).\")"
   ]
  },
  {
   "cell_type": "markdown",
   "id": "8e1a4654-45d3-4ade-bda5-1d33ebd125a0",
   "metadata": {},
   "source": [
    "The reading part data is really fast, it is apparently mostly by the disk speed or by the memory (if the compressed dataset stays in memory). "
   ]
  },
  {
   "cell_type": "markdown",
   "id": "8969804e-77af-464e-8f9e-11e0e35541bd",
   "metadata": {},
   "source": [
    "### 5.2 Benchmarking of the decompression (single threaded)\n",
    "\n",
    "The function `decompress_bslz4_chunk` can be used to decompress one chunk.\n",
    "We benchmark it on one chunk"
   ]
  },
  {
   "cell_type": "code",
   "execution_count": 23,
   "id": "341d4b27-bbc3-4010-a577-820d20f89d72",
   "metadata": {},
   "outputs": [],
   "source": [
    "def decompress_bslz4_chunk(payload, dtype, chunk_shape):\n",
    "    \"\"\"This function decompresses ONE chunk with bitshuffle-LZ4. \n",
    "    The library needs to be compiled without OpenMP when using threads !\n",
    "    \n",
    "    :param payload: string with the compressed data as read by h5py.\n",
    "    :param dtype: data type of the stored content\n",
    "    :param chunk_shape: shape of one chunk\n",
    "    :return: decompressed chunk\"\"\"\n",
    "    total_nbytes, block_nbytes = struct.unpack(\">QI\", payload[:12])\n",
    "    block_size = block_nbytes // dtype.itemsize\n",
    "\n",
    "    arr = numpy.frombuffer(payload, dtype=numpy.uint8, offset=12)  # No copy here\n",
    "    chunk_data = bitshuffle.decompress_lz4(arr, chunk_shape, dtype, block_size)\n",
    "    return chunk_data"
   ]
  },
  {
   "cell_type": "code",
   "execution_count": 24,
   "id": "e836bd52-7b5f-4535-81d4-2bfc1a5dfaf9",
   "metadata": {},
   "outputs": [
    {
     "name": "stdout",
     "output_type": "stream",
     "text": [
      "Read chunk #123 which is 2603971 bytes long.\n",
      "The decompressed frame is 17942760 bytes long\n",
      "This frame is compressed with a ratio of 6.9 x.\n",
      "Benchmarking the decompression: 8.84 ms ± 5.74 µs per loop (mean ± std. dev. of 7 runs, 100 loops each)\n",
      "Decompression speed (single threaded): 113.197 fps\n",
      "Maximum read+decompression speed (single threaded): 109.426 fps\n",
      "Maximum read+decompression speed (16-threads): 1167.458 fps\n"
     ]
    }
   ],
   "source": [
    "frame_id = 123\n",
    "with h5py.File(filename, \"r\") as h:\n",
    "    ds = h[h5path]\n",
    "    filter_mask, chunk = ds.id.read_direct_chunk(ds.id.get_chunk_info(frame_id).chunk_offset)\n",
    "    \n",
    "print(f\"Read chunk #{frame_id} which is {len(chunk)} bytes long.\")\n",
    "frame = decompress_bslz4_chunk(chunk, dtype, shape)\n",
    "print(f\"The decompressed frame is {frame.nbytes} bytes long\")\n",
    "print(f\"This frame is compressed with a ratio of {frame.nbytes/len(chunk):.1f} x.\")\n",
    "print(\"Benchmarking the decompression: \", end=\"\")\n",
    "timing_decompression = %timeit -o decompress_bslz4_chunk(chunk, dtype, shape)\n",
    "print(f\"Decompression speed (single threaded): {1/timing_decompression.best:.3f} fps\")\n",
    "print(f\"Maximum read+decompression speed (single threaded): {1/(timing_decompression.best+timing_read2.best/nbframes):.3f} fps\")\n",
    "print(f\"Maximum read+decompression speed ({nbthreads}-threads): {1/(timing_decompression.best/nbthreads+timing_read2.best/nbframes):.3f} fps\")"
   ]
  },
  {
   "cell_type": "markdown",
   "id": "ec96510d-1648-4e59-8d34-cdf37997e711",
   "metadata": {},
   "source": [
    "At this stage it is interesting to compare the maximum achievable speed in parallel and the raw read speed.\n",
    "\n",
    "This difference is known as [Amdahl's law](https://en.wikipedia.org/wiki/Amdahl%27s_law) which states that performances of a parallel program become limited limited by the serial part of it when the number of threads increases. In other words, find all the serial sections and squeeze them to get performances.\n",
    "\n",
    "Some part of the code are made serial to prevent data corruption. One typical example are the commands seek+read in file. If several threads are doing this at the same time, the file-pointer is likely to be changed and the read will return the wrong data. Serializing this section, for example by using locks, mutex, semaphores, ...  is a simple way to prevent such issues. Let's list some of the lock we have in this example:\n",
    "\n",
    "- `h5py` has a lock called `phil` which serializes the access to the HDF5 library\n",
    "- `HDF5` has a global lock preventing files from being modified from different processes\n",
    "- `Python` has a global interpreter lock `GIL` which ensures only one python object is manipulated at a time.\n",
    "\n",
    "The later is widely commented and an urban legend says it prevents multithreading in Python. \n",
    "You will at the end of the tutorial how much this is True (or not). \n"
   ]
  },
  {
   "cell_type": "markdown",
   "id": "bc5939d1-5c25-4f35-9b46-e9684110dfc9",
   "metadata": {},
   "source": [
    "### 5.3 Benchmark the analysis of the HDF5 file\n",
    "\n",
    "To come back on the parallel reading, the different locks from `h5py` and `HDF5` are preventing us from a parallel access to the data.\n",
    "Can we dive deeper into the `HDF5` file and retrieve the position of the different chunks and their size ? \n",
    "If so, it would be possible read chunks without the `h5py`/`HDF5` library, working around their different locks.\n",
    "\n",
    "Let's check the parsing of the HDF5 structure of the dataset"
   ]
  },
  {
   "cell_type": "code",
   "execution_count": 25,
   "id": "b301837a-9f6c-43d7-b1cc-f3dc64998bad",
   "metadata": {},
   "outputs": [
    {
     "name": "stdout",
     "output_type": "stream",
     "text": [
      "Each chunk descriptor is an object like: \n",
      "StoreInfo(chunk_offset=(0, 0, 0), filter_mask=0, byte_offset=4536, size=1972070)\n",
      "It represents a very small amount of data: 72 bytes.\n",
      "All 4096 frames, weighting 9892.177 MB, can be represented by 327.960 kB\n"
     ]
    }
   ],
   "source": [
    "with h5py.File(filename, \"r\") as h:\n",
    "    ds = h[h5path]\n",
    "    res = [ds.id.get_chunk_info(i) for i in range(ds.id.get_num_chunks())]\n",
    "print(f\"Each chunk descriptor is an object like: \\n{res[0]}\")\n",
    "print(f\"It represents a very small amount of data: {sys.getsizeof(res[0])} bytes.\")\n",
    "print(f\"All {nbframes} frames, weighting {size/1e6:.3f} MB, can be represented by {(sys.getsizeof(res)+sys.getsizeof(res[0])*nbframes)/1000:.3f} kB\")"
   ]
  },
  {
   "cell_type": "code",
   "execution_count": 26,
   "id": "5201a9dd-fd9e-4e87-a2bf-f045b8029c08",
   "metadata": {},
   "outputs": [
    {
     "data": {
      "text/plain": [
       "<TimeitResult : 303 ms ± 0 ns per loop (mean ± std. dev. of 1 run, 1 loop each)>"
      ]
     },
     "execution_count": 26,
     "metadata": {},
     "output_type": "execute_result"
    }
   ],
   "source": [
    "%%timeit -r1 -n1 -o -q\n",
    "#Parsing speed\n",
    "with h5py.File(filename, \"r\") as h:\n",
    "    ds = h[h5path]\n",
    "    res = [ds.id.get_chunk_info(i) for i in range(ds.id.get_num_chunks())]"
   ]
  },
  {
   "cell_type": "code",
   "execution_count": 27,
   "id": "27a4d511-7aa0-491a-8f01-37125c9e2fe5",
   "metadata": {},
   "outputs": [
    {
     "name": "stdout",
     "output_type": "stream",
     "text": [
      "Parse speed: 32664.618 MB/s of compressed data.\n",
      "HDF5 parse speed (without reading): 13525.261 fps.\n"
     ]
    }
   ],
   "source": [
    "timing_parse = _\n",
    "print(f\"Parse speed: {size/(1e6*timing_parse.best):.3f} MB/s of compressed data.\")\n",
    "print(f\"HDF5 parse speed (without reading): {nbframes/timing_parse.best:.3f} fps.\")"
   ]
  },
  {
   "cell_type": "code",
   "execution_count": 28,
   "id": "e112c3a7-060b-4cce-a6e1-6bb060bb21b8",
   "metadata": {},
   "outputs": [
    {
     "name": "stdout",
     "output_type": "stream",
     "text": [
      "f4cec5d5a605a2c25f998d22de481e055d968c88 using HDF5\n",
      "f4cec5d5a605a2c25f998d22de481e055d968c88 using direct file access\n"
     ]
    }
   ],
   "source": [
    "# Validation that the data read by HDF5 and via the file interface matches\n",
    "import hashlib\n",
    "idx = 10\n",
    "with h5py.File(filename, \"r\") as h:\n",
    "    ds = h[h5path]\n",
    "    indexes = [ds.id.get_chunk_info(i) for i in range(ds.id.get_num_chunks())]\n",
    "    filter_mask, ref = ds.id.read_direct_chunk(indexes[idx].chunk_offset)\n",
    "# and validate the indexes\n",
    "with open(filename, \"rb\") as f:\n",
    "    item = indexes[idx]\n",
    "    f.seek(item.byte_offset)\n",
    "    res = f.read(item.size)\n",
    "print(f\"{hashlib.sha1(ref).hexdigest()} using HDF5\\n{hashlib.sha1(res).hexdigest()} using direct file access\")"
   ]
  },
  {
   "cell_type": "markdown",
   "id": "cebd4b8d-f11c-4f65-9a8e-6f270ce0a9f4",
   "metadata": {},
   "source": [
    "So the HDF5 chunk parsing is the only part of the code needing to be serial, so the maximum achievable speed is very high: 12 kfps.\n",
    "\n",
    "If Amdahl's law is providing us with the upper performance limit, one should take care to optimize all the code to be run in parallel. \n",
    "\n",
    "Here are two ways to read the different chunks, either using the `Python file` interface or `numpy.memmap`. \n",
    "Their performances are expected to be similar to what `HDF5 direct chunk read` provides, the idea is to use them to bypass the locks in `HDF5`.\n",
    "\n",
    "### 5.4 Benchmark the chunk reading using the `h5py` direct chunk read"
   ]
  },
  {
   "cell_type": "code",
   "execution_count": 29,
   "id": "4f5a31a7-b5ab-4d68-b55f-76f3159f3cb7",
   "metadata": {},
   "outputs": [
    {
     "data": {
      "text/plain": [
       "<TimeitResult : 956 ms ± 0 ns per loop (mean ± std. dev. of 1 run, 1 loop each)>"
      ]
     },
     "execution_count": 29,
     "metadata": {},
     "output_type": "execute_result"
    }
   ],
   "source": [
    "%%timeit -r1 -n1 -o -q\n",
    "#Reading all frames without decompressing them\n",
    "with h5py.File(filename, \"r\") as h:\n",
    "    ds = h[h5path]\n",
    "    for chunk_descr in indexes:\n",
    "        filter_mask, chunk = ds.id.read_direct_chunk(chunk_descr.chunk_offset)"
   ]
  },
  {
   "cell_type": "code",
   "execution_count": 30,
   "id": "64a1861b-e09b-4753-afe0-16db72131408",
   "metadata": {},
   "outputs": [
    {
     "name": "stdout",
     "output_type": "stream",
     "text": [
      "Read speed (h5py direct chunk read): 10351.494 MB/s of compressed data.\n",
      "Chunk read (from h5py) speed (without decompression): 4286.187 fps.\n"
     ]
    }
   ],
   "source": [
    "timing_read2a = _\n",
    "print(f\"Read speed (h5py direct chunk read): {size/(1e6*timing_read2a.best):.3f} MB/s of compressed data.\")\n",
    "print(f\"Chunk read (from h5py) speed (without decompression): {nbframes/timing_read2a.best:.3f} fps.\")"
   ]
  },
  {
   "cell_type": "markdown",
   "id": "177bd11f-1a31-4965-9ae1-23985a2ed084",
   "metadata": {},
   "source": [
    "### 5.5 Benchmark the chunk reading using the Python file interface"
   ]
  },
  {
   "cell_type": "code",
   "execution_count": 31,
   "id": "e06a3939-fe2a-485f-b774-229c75565334",
   "metadata": {},
   "outputs": [
    {
     "data": {
      "text/plain": [
       "<TimeitResult : 930 ms ± 0 ns per loop (mean ± std. dev. of 1 run, 1 loop each)>"
      ]
     },
     "execution_count": 31,
     "metadata": {},
     "output_type": "execute_result"
    }
   ],
   "source": [
    "%%timeit -r1 -n1 -o -q\n",
    "#Reading all frames without using the HDF5 library (neither decompressing them)\n",
    "with open(filename, \"rb\") as f:\n",
    "    for chunk_descr in indexes:\n",
    "        f.seek(chunk_descr.byte_offset)\n",
    "        chunk = f.read(chunk_descr.size)"
   ]
  },
  {
   "cell_type": "code",
   "execution_count": 32,
   "id": "ae59eaeb-0b0b-4f36-a4f7-990b7c61100f",
   "metadata": {},
   "outputs": [
    {
     "name": "stdout",
     "output_type": "stream",
     "text": [
      "Read speed (Python file): 10640.575 MB/s of compressed data.\n",
      "File read (from Python) speed (without decompression): 4405.885 fps.\n",
      "Pure reading using the Python (file interface) is 2.8 % faster than HDF5 direct chunk read.\n",
      "But it removes the file-locking issue from HDF5 !\n"
     ]
    }
   ],
   "source": [
    "timing_read3 = _\n",
    "print(f\"Read speed (Python file): {size/(1e6*timing_read3.best):.3f} MB/s of compressed data.\")\n",
    "print(f\"File read (from Python) speed (without decompression): {nbframes/timing_read3.best:.3f} fps.\")\n",
    "print(f\"Pure reading using the Python (file interface) is {100*timing_read2a.best/(timing_read3.best)-100:.1f} % faster than HDF5 direct chunk read.\")\n",
    "print(\"But it removes the file-locking issue from HDF5 !\")"
   ]
  },
  {
   "cell_type": "markdown",
   "id": "47590db3-de63-4179-9921-1d88d6a0a64b",
   "metadata": {},
   "source": [
    "### 5.5 Benchmark the chunk reading using `numpy.memmap`"
   ]
  },
  {
   "cell_type": "code",
   "execution_count": 33,
   "id": "59e6da20-bc46-42dd-830c-6f9b46c6e367",
   "metadata": {},
   "outputs": [
    {
     "data": {
      "text/plain": [
       "<TimeitResult : 1.24 s ± 0 ns per loop (mean ± std. dev. of 1 run, 1 loop each)>"
      ]
     },
     "execution_count": 33,
     "metadata": {},
     "output_type": "execute_result"
    }
   ],
   "source": [
    "%%timeit -r1 -n1 -o -q\n",
    "#Reading positions via HDF5 but chunks are read via numpy.memmap\n",
    "f = numpy.memmap(filename, mode=\"r\")\n",
    "for chunk_descr in indexes:\n",
    "    chunk = numpy.array(f[chunk_descr.byte_offset:chunk_descr.byte_offset+chunk_descr.size])\n",
    "del f"
   ]
  },
  {
   "cell_type": "code",
   "execution_count": 34,
   "id": "06209e35-1813-44f4-b340-b3e60b359a8d",
   "metadata": {},
   "outputs": [
    {
     "name": "stdout",
     "output_type": "stream",
     "text": [
      "Read speed (numpy.memmap): 7997.228 MB/s of compressed data.\n",
      "File read (numpy.memmap) speed (without decompression): 3311.369 fps.\n",
      "Pure reading using the numpy.memmap is -22.7 % faster than using the h5py/HDF5 interface\n",
      "This removes the file-locking issue from HDF5 !\n"
     ]
    }
   ],
   "source": [
    "timing_read4 = _\n",
    "print(f\"Read speed (numpy.memmap): {size/(1e6*timing_read4.best):.3f} MB/s of compressed data.\")\n",
    "print(f\"File read (numpy.memmap) speed (without decompression): {nbframes/timing_read4.best:.3f} fps.\")\n",
    "print(f\"Pure reading using the numpy.memmap is {100*timing_read2a.best/(timing_read4.best)-100:.1f} % faster than using the h5py/HDF5 interface\")\n",
    "print(\"This removes the file-locking issue from HDF5 !\")"
   ]
  },
  {
   "cell_type": "markdown",
   "id": "3cdcc158-260c-445c-acbb-8da51e3be6ca",
   "metadata": {},
   "source": [
    "Numpy's memmap apprears to be much slow than the equivalent python file read.\n",
    "\n",
    "We found out that the reading of data, initially in the order of 1 minute can be decomposed into:\n",
    "\n",
    " * 0.3s for the reading of the chunk description\n",
    " * 1s for the reading of the chunks themselves\n",
    " * 1 minute for the decompression of the data.\n",
    "\n",
    "Two parallelization schemes appear clearly:\n",
    "1. read chunks in serial mode with h5py and decompress+integrate in parallel.\n",
    "2. read chunk descriptos in serial mode with h5py and parallelize the reading, decompression and integration.\n",
    "\n",
    "But be for we can investigate those two routes, we first need to establish some baseline for the complete serial processing.\n",
    "\n",
    "## 6. Azimuthal integration\n",
    "\n",
    "### 6.1 Serial workflow\n"
   ]
  },
  {
   "cell_type": "markdown",
   "id": "9fccb178-94db-4bb4-a5e1-9cab60af0aeb",
   "metadata": {},
   "source": [
    "#### 6.1.1 Prepare the azimuthal integrator\n",
    "To allow the full parallelization of different integrators working in parallel, one must limit the number of Python call performed, this is why we need to extract the Cython integrator from AzimuthalIntegator. The integrator used here is a sparse matrix multiplication one with a CSC representation which is single-threaded. This engine is usually not the fastest but it is multitheading friendly.\n",
    "\n",
    "The figures obtained should be similar to the one obtaind in chapter 2, the overhead from the azimuthal integrator being tuned to be minimal."
   ]
  },
  {
   "cell_type": "code",
   "execution_count": 38,
   "id": "0814ccb4-2906-44e6-9061-bb36c5139b3e",
   "metadata": {},
   "outputs": [
    {
     "name": "stdout",
     "output_type": "stream",
     "text": [
      "Timing for the direct azimuthal integration 47.4 ms ± 586 µs per loop (mean ± std. dev. of 7 runs, 10 loops each)\n",
      "The maximum achievable integration speed on a single core is 21.347 fps which does not look fancy.\n",
      "but parallelized over 16 threads, it could reach: 341.556 fps!\n"
     ]
    }
   ],
   "source": [
    "geo = {\"detector\": det, \n",
    "       \"wavelength\": 1e-10}\n",
    "ai = pyFAI.load(geo)\n",
    "omega = ai.solidAngleArray()\n",
    "res0 = ai.integrate1d(frame, nbins, method=(\"full\", \"csc\", \"cython\"))\n",
    "engine = ai.engines[res0.method].engine\n",
    "#This is how the engine works:\n",
    "res1 = engine.integrate_ng(frame, solidangle=omega)\n",
    "assert numpy.allclose(res0.intensity, res1.intensity)  # validates the equivalence of both approaches:\n",
    "print(\"Timing for the direct azimuthal integration: \", end=\"\")\n",
    "timing_integration = %timeit -o engine.integrate_ng(frame, solidangle=omega)\n",
    "print(f\"The maximum achievable integration speed on a single core is {1/timing_integration.best:.3f} fps which does not look fancy.\")\n",
    "print(f\"But parallelized over {nbthreads} threads, it could reach: {nbthreads/timing_integration.best:.3f} fps!\")"
   ]
  },
  {
   "cell_type": "markdown",
   "id": "6178d4b3-86f0-4428-a147-90cff651ebd3",
   "metadata": {},
   "source": [
    "### 6.1.2 Benchmarking of the serial workflow\n",
    "\n",
    "This code tries to be simple and elegant. \n",
    "It provides the reference values on the one hand and the baseline performances on the other."
   ]
  },
  {
   "cell_type": "code",
   "execution_count": 41,
   "id": "59e5bc41-f960-47a3-a9d2-133c2131e60d",
   "metadata": {},
   "outputs": [
    {
     "data": {
      "text/plain": [
       "<TimeitResult : 4min 12s ± 0 ns per loop (mean ± std. dev. of 1 run, 1 loop each)>"
      ]
     },
     "execution_count": 41,
     "metadata": {},
     "output_type": "execute_result"
    }
   ],
   "source": [
    "%%timeit -o -r1 -n1 -q\n",
    "#Naive implementation ... read+integrate\n",
    "result0 = numpy.empty((nbframes, nbins), dtype=numpy.float32)\n",
    "method = (\"full\", \"csc\", \"cython\")\n",
    "\n",
    "with h5py.File(filename, \"r\") as h:\n",
    "    ds = h[h5path]\n",
    "    for i, frame in enumerate(ds):\n",
    "        result0[i] = ai.integrate1d(frame, nbins, method=method).intensity"
   ]
  },
  {
   "cell_type": "code",
   "execution_count": 44,
   "id": "ce61a7ec-577e-4e6a-bf59-e0cc8f60478d",
   "metadata": {},
   "outputs": [
    {
     "name": "stdout",
     "output_type": "stream",
     "text": [
      "A naive implementation provides only 16.248 fps.\n"
     ]
    }
   ],
   "source": [
    "timing_naive = _\n",
    "# print(f\"The maximum achievable decompression+integration speed is {1/(timing_decompress.best+timing_integration.best):.3f} fps in serial \\n\\\n",
    "# and {nbthreads*1/(timing_decompress.best+timing_integration.best):.3f} fps in parallel on {nbthreads} threads\\n\\\n",
    "print(f\"A naive implementation provides only {nbframes/(timing_naive.best):.3f} fps.\")"
   ]
  },
  {
   "cell_type": "markdown",
   "id": "0131a856-0a8b-4845-91a8-287abc0edf01",
   "metadata": {},
   "source": [
    "## 6.2 Pool of threads, queues, \n",
    "\n",
    "Unlike processes, threads share the same memory space (with the GIL preventing read/write collision)\n",
    "Threads are a great idea which allow multiple flow of execution to occure in parallel but threads come with a cost.\n",
    "Thus it is stupid to have as many threads as tasks to perform. \n",
    "It is better to have a limited number of threads, on the order of the number of cores, and have them processing several frames.\n",
    "\n",
    "We will define a pool of threads, a list of threads, started and ready to crunch some data.\n",
    "Communication between threads can be made via `Queues`.\n",
    "Each worker waits on the input-queue (`qin`) for something to process and puts the result into the output queue (`qout`).\n",
    "Since we want the processing to tidy up at the end, if a worker gets a `None` this means it is time to end the thread. \n",
    "This is sometimes called a \"kill-pill\". \n",
    "The `end_pool` function distributes as many \"kill-pills\" as needed to end all threads in the pool. \n",
    "\n",
    "In this section we define some tools to create and stop a pool of worker and also a dummy_worker which does nothing:"
   ]
  },
  {
   "cell_type": "code",
   "execution_count": 96,
   "id": "def90b10-3d93-4051-98c4-6de6e7db3e37",
   "metadata": {},
   "outputs": [
    {
     "name": "stdout",
     "output_type": "stream",
     "text": [
      "None\n",
      "None\n",
      "None\n",
      "None\n"
     ]
    }
   ],
   "source": [
    "# a few of utility functions\n",
    "def dummy_worker(qin, qout, funct=lambda item: item):\n",
    "    \"\"\"Dummy worker which takes something in qin, applies funct on it and puts the result in qout\"\"\"\n",
    "    while True:\n",
    "        item = qin.get()\n",
    "        if item is None:\n",
    "            qout.put(None)\n",
    "            qin.task_done()\n",
    "            return\n",
    "        qout.put(funct(item))\n",
    "        qin.task_done()\n",
    "\n",
    "def build_pool(nbthreads, qin, qout, worker=None, funct=None):\n",
    "    \"\"\"Build a pool of threads with workers, and starts them\"\"\"\n",
    "    pool = []\n",
    "    for i in range(nbthreads):\n",
    "        if funct is not None:\n",
    "            worker = dummy_worker\n",
    "            thread = threading.Thread(target=worker, name=f\"{worker.__name__}_{i:02d}\", args=(qin, qout, funct))\n",
    "        elif worker is None:\n",
    "            worker = dummy_worker\n",
    "            thread = threading.Thread(target=worker, name=f\"{worker.__name__}_{i:02d}\", args=(qin, qout))\n",
    "        else:\n",
    "            thread = threading.Thread(target=worker, name=f\"{worker.__name__}_{i:02d}\", args=(qin, qout, filename))\n",
    "        thread.start()\n",
    "        pool.append(thread)\n",
    "    return pool\n",
    "\n",
    "def end_pool(pool):\n",
    "    \"\"\"Ends all threads from a pool by sending them a \"kill-pill\"\"\"\n",
    "    for thread in pool:\n",
    "        qin.put(None)\n",
    "\n",
    "\n",
    "#Small validation to check it works: \n",
    "qin = Queue()\n",
    "qout = Queue()\n",
    "pool=build_pool(4, qin, qout, dummy_worker)\n",
    "end_pool(pool)\n",
    "qin.join()\n",
    "while not qout.empty():\n",
    "    print(qout.get())\n",
    "    qout.task_done()\n",
    "qout.join()"
   ]
  },
  {
   "cell_type": "markdown",
   "id": "dc93cd8b-3f93-4f21-b8a9-97e4bd08ca93",
   "metadata": {},
   "source": [
    "### 6.3 Parallelize decompression + processing\n",
    "\n",
    "In this example, all chunks are read by the HDF5 library and put in a queue for the processing.\n",
    "As a consequence, all chunks are likely to be held in memory at the same time, which is equivalent of the size of the compressed HDF5 file, 10GB. \n",
    "This could be a problem on many computer and we choose to limit the number of chunks in memory to ~10x more than the number of threads.\n",
    "The implementation of the the slow-down mechanism is done via the size of the input queue (into which the reader puts chunks).\n"
   ]
  },
  {
   "cell_type": "code",
   "execution_count": 112,
   "id": "b0cffcf6-ede0-4cf0-8e38-f247e8c15352",
   "metadata": {},
   "outputs": [],
   "source": [
    "def reader_chunks(filename, h5path, queue):\n",
    "    \"\"\"Function reading the HDF5 file and enqueuing raw-chunks into the queue.\n",
    "    \n",
    "    :param filename: name of the HDF5 file\n",
    "    :param h5path: path to the dataset within the HDF5 file\n",
    "    :param queue: queue where to put read chunks\n",
    "    :return: number of chunks\"\"\"\n",
    "    with h5py.File(filename, \"r\") as h:\n",
    "        ds = h[h5path]\n",
    "        for i in range(ds.id.get_num_chunks()):\n",
    "            filter_mask, chunk = ds.id.read_direct_chunk(ds.id.get_chunk_info(i).chunk_offset)\n",
    "            if filter_mask==0:\n",
    "                while queue.full():\n",
    "                    # slow down to prevent filling up memory\n",
    "                    os.sched_yield()\n",
    "                queue.put(Item(i, chunk))\n",
    "    return i+1"
   ]
  },
  {
   "cell_type": "code",
   "execution_count": 113,
   "id": "098b0fc0-4c60-4e73-80a6-3a1e3f5ed867",
   "metadata": {},
   "outputs": [],
   "source": [
    "def decompress_integrate_funct(item):\n",
    "    \"function to be used within a dummy_worker: takes an item and returns an item\"\n",
    "    frame = decompress_bslz4_chunk(item.data, dtype, shape)\n",
    "    return Item(item.index, engine.integrate_ng(frame, solidangle=omega).intensity)\n"
   ]
  },
  {
   "cell_type": "code",
   "execution_count": 114,
   "id": "bf81e2e9-a2d0-45fb-8108-446549a27ba0",
   "metadata": {},
   "outputs": [],
   "source": [
    "def parallel_decompress_integrate(filename, h5path, nbthreads):\n",
    "    qin = Queue(nbthreads*10)\n",
    "    qout = Queue()\n",
    "    pool = build_pool(nbthreads, qin, qout, funct=decompress_integrate_funct)\n",
    "    nchunks = reader_chunks(filename, h5path, qin)\n",
    "    output = numpy.empty((nchunks, nbins), numpy.float32)\n",
    "    end_pool(pool)\n",
    "    qin.join()\n",
    "    while not qout.empty():\n",
    "        item = qout.get()\n",
    "        if item is not None:\n",
    "            output[item.index] = item.data\n",
    "        qout.task_done()\n",
    "    qout.join()\n",
    "    return output\n",
    "    \n",
    "# parallel_decompress_integrate(filename, h5path, nbthreads)"
   ]
  },
  {
   "cell_type": "code",
   "execution_count": 115,
   "id": "3b510f2f-49b3-41a2-8b71-81a41f725ec0",
   "metadata": {},
   "outputs": [
    {
     "name": "stdout",
     "output_type": "stream",
     "text": [
      "Timimg of serial read (h5py direct) and 16x(decompression+integration): \n",
      "27.4 s ± 0 ns per loop (mean ± std. dev. of 1 run, 1 loop each)\n",
      "Direct read + // integration reaches 149.411 fps.\n",
      "The speed-up is 9.196x for a computer with 16.\n"
     ]
    }
   ],
   "source": [
    "print(f\"Timimg of serial read (h5py direct) and {nbthreads}x(decompression+integration): \")\n",
    "timing_dcr = %timeit -o -r1 -n1 parallel_decompress_integrate(filename, h5path, nbthreads)\n",
    "print(f\"Direct read + // integration reaches {nbframes/(timing_dcr.best):.3f} fps.\")\n",
    "print(f\"The speed-up is {timing_naive.best/timing_dcr.best:.3f}x for a computer with {nbthreads}.\")"
   ]
  },
  {
   "cell_type": "markdown",
   "id": "8cdf7557-f6fe-46d7-bdca-770e2e62c194",
   "metadata": {},
   "source": [
    "### 6.3 Parallelize read + decompression + processing\n",
    "We will now investigate the case where even the reading is made in the worker thread.\n",
    "One advantage is that all chunk-descriptions can be hosted in memory (hundreeds of kilobytes) and one does not need to take care of memory filling up with raw data.\n",
    "\n",
    "Here is the reader for such type of processing:"
   ]
  },
  {
   "cell_type": "code",
   "execution_count": 86,
   "id": "82e58870-ebb0-45ff-aec2-f203f25a9f44",
   "metadata": {},
   "outputs": [],
   "source": [
    "def reader_descr(filename, h5path, queue):\n",
    "    \"\"\"Function reading the HDF5 file and enqueuing chunk-descriptor into the queue.\n",
    "    \n",
    "    :param filename: name of the HDF5 file\n",
    "    :param h5path: path to the dataset within the HDF5 file\n",
    "    :param queue: queue where to put read chunks\n",
    "    :return: number of chunks\"\"\"\n",
    "    with h5py.File(filename, \"r\") as h:\n",
    "        ds = h[h5path]\n",
    "        for i in range(ds.id.get_num_chunks()):\n",
    "            queue.put(Item(i, ds.id.get_chunk_info(i)))\n",
    "    return i+1"
   ]
  },
  {
   "cell_type": "code",
   "execution_count": 88,
   "id": "24158f69-2577-42c6-9cc1-8e9a1ad74581",
   "metadata": {},
   "outputs": [
    {
     "name": "stdout",
     "output_type": "stream",
     "text": [
      "The reader is providing performances close to those benchmarked at section #5.3:\n",
      "314 ms ± 3.81 ms per loop (mean ± std. dev. of 7 runs, 1 loop each)\n",
      "It is measured 2.821 % slower.\n",
      "The reader is able to reach 13154.152 fps\n"
     ]
    }
   ],
   "source": [
    "print(\"The reader is providing performances close to those benchmarked at section #5.3:\")\n",
    "timing_reader_descr = %timeit -o reader_descr(filename, h5path, Queue())\n",
    "print(f\"It is measured {100*(timing_reader_descr.best/timing_parse.best-1):.3f} % slower.\")\n",
    "print(f\"The reader is able to reach {nbframes/timing_reader_descr.best:.3f} fps\")"
   ]
  },
  {
   "cell_type": "markdown",
   "id": "4fee001e-da99-4e3d-b266-0dd8fd18e08f",
   "metadata": {},
   "source": [
    "#### 6.3.1 Parallelize read + decompression + processing using the Python file interface"
   ]
  },
  {
   "cell_type": "code",
   "execution_count": 102,
   "id": "13b0dd04-9f28-412f-98d6-1511eb163698",
   "metadata": {},
   "outputs": [],
   "source": [
    "def worker_python(qin, qout, filename):\n",
    "    with open(filename, \"rb\") as f:\n",
    "        while True:\n",
    "            item = qin.get()                \n",
    "            qin.task_done()\n",
    "            if item is None:\n",
    "                return\n",
    "            idx, chunk_descr = item\n",
    "            f.seek(chunk_descr.byte_offset)\n",
    "            chunk = f.read(chunk_descr.size)\n",
    "            frame = decompress_bslz4_chunk(chunk, dtype, shape)\n",
    "            qout.put(Item(idx, engine.integrate_ng(frame, solidangle=omega).intensity))\n",
    "            del chunk, frame"
   ]
  },
  {
   "cell_type": "code",
   "execution_count": 103,
   "id": "1147ec52-99be-474e-b7c8-1c456c05e091",
   "metadata": {},
   "outputs": [],
   "source": [
    "def parallel_read_decompress_integrate(filename, h5path, nbthreads, worker):\n",
    "    qin = Queue()\n",
    "    qout = Queue()\n",
    "    pool = build_pool(nbthreads, qin, qout, worker=worker)\n",
    "    nchunks = reader_descr(filename, h5path, qin)\n",
    "    output = numpy.empty((nchunks, nbins), numpy.float32)\n",
    "    end_pool(pool)\n",
    "    qin.join()\n",
    "    while not qout.empty():\n",
    "        item = qout.get()\n",
    "        if item is not None:\n",
    "            output[item.index] = item.data\n",
    "        qout.task_done()\n",
    "    qout.join()\n",
    "    return output"
   ]
  },
  {
   "cell_type": "code",
   "execution_count": 105,
   "id": "72ee1bc4-5d8a-4eaf-99e8-a9323b0d1c93",
   "metadata": {},
   "outputs": [
    {
     "name": "stdout",
     "output_type": "stream",
     "text": [
      "Timimg of serial descriptor read and 16x(read+decompression+integration): \n",
      "26.6 s ± 0 ns per loop (mean ± std. dev. of 1 run, 1 loop each)\n",
      "Parallel read+integration reaches 153.710 fps.\n",
      "The speed-up is 9.460x for a computer with 16.\n"
     ]
    }
   ],
   "source": [
    "print(f\"Timimg of serial descriptor read and {nbthreads}x(read+decompression+integration): \")\n",
    "timing_python_file = %timeit -o -r1 -n1 parallel_read_decompress_integrate(filename, h5path, nbthreads, worker_python)\n",
    "print(f\"Parallel read+integration reaches {nbframes/(timing_python_file.best):.3f} fps.\")\n",
    "print(f\"The speed-up is {timing_naive.best/timing_python_file.best:.3f}x for a computer with {nbthreads}.\")"
   ]
  },
  {
   "cell_type": "markdown",
   "id": "aa63fdcd-1d58-4ca1-b51f-6d0ab3bbaf0a",
   "metadata": {},
   "source": [
    "#### 6.3.1 Parallelize read + decompression + processing using the `numpy.memmap` interface"
   ]
  },
  {
   "cell_type": "code",
   "execution_count": 106,
   "id": "8001b38d-1837-45a5-838c-15e12abd0995",
   "metadata": {},
   "outputs": [],
   "source": [
    "def worker_numpy(qin, qout, filename):\n",
    "    f = numpy.memmap(filename, mode=\"r\")\n",
    "    while True:\n",
    "        item = qin.get()                \n",
    "        qin.task_done()\n",
    "        if item is None:\n",
    "            del f\n",
    "            return\n",
    "        idx, chunk_descr = item\n",
    "        chunk = f[chunk_descr.byte_offset:chunk_descr.byte_offset+chunk_descr.size]\n",
    "        frame = decompress_bslz4_chunk(chunk, dtype, shape)\n",
    "        qout.put(Item(idx, engine.integrate_ng(frame, solidangle=omega).intensity))\n",
    "        del chunk, frame"
   ]
  },
  {
   "cell_type": "code",
   "execution_count": 107,
   "id": "a0906da8-4b10-452b-b4a5-9fa0f49159a9",
   "metadata": {},
   "outputs": [
    {
     "name": "stdout",
     "output_type": "stream",
     "text": [
      "Timimg of serial descriptor read and 16x(read+decompression+integration): \n",
      "26.4 s ± 0 ns per loop (mean ± std. dev. of 1 run, 1 loop each)\n",
      "Parallel read+integration reaches 155.323 fps.\n",
      "The speed-up is 9.559x for a computer with 16.\n"
     ]
    }
   ],
   "source": [
    "print(f\"Timimg of serial descriptor read and {nbthreads}x(read+decompression+integration): \")\n",
    "timing_numpy_file = %timeit -o -r1 -n1 parallel_read_decompress_integrate(filename, h5path, nbthreads, worker_numpy)\n",
    "print(f\"Parallel read+integration reaches {nbframes/(timing_numpy_file.best):.3f} fps.\")\n",
    "print(f\"The speed-up is {timing_naive.best/timing_numpy_file.best:.3f}x for a computer with {nbthreads}.\")"
   ]
  },
  {
   "cell_type": "code",
   "execution_count": null,
   "id": "c95b18e9-5f51-41ca-9552-57d03ddff822",
   "metadata": {},
   "outputs": [],
   "source": [
    "Effective implementation using multithreading:\n",
    "One reader which reads the dataset chunk-by-chunk and makes them available via an input-queue, called qin.\n",
    "A pool of workers: pool of the size of the number of cores. Each worker is doing the decompression of one chunk into one frame and the azimuthal integration of that frame. The integrated result is put into an output-queue, called qout.\n",
    "2 queues: qin and qout, the former is limited in size to prevent the filling-up of the memory, but large enough to feed the workers.\n",
    "The gathering of the data is performed in the main thread but it could also be in a separated thread. Each piece of data is associated with its index in the dataset using the Item named-tuple.\n",
    "\n",
    "Nota: I had a hard time to perform both reading and writing with HDF5 (even in different files). This is why the result is reconstructed in memory and the saving performed at the very end. Could be a bug in h5py.\n",
    "\n"
   ]
  },
  {
   "cell_type": "markdown",
   "id": "769fd274-e668-4065-ba8f-681a56906838",
   "metadata": {},
   "source": [
    "## 7. Display some results\n",
    "Since the input data were all synthetic and similar, no great science is expected from this... but one can ensure each frame differs slightly from the neighbors with a pattern of 500 frames. "
   ]
  },
  {
   "cell_type": "code",
   "execution_count": 108,
   "id": "478cf30b-a1ca-4c62-8031-c364c2543816",
   "metadata": {},
   "outputs": [
    {
     "name": "stdout",
     "output_type": "stream",
     "text": [
      "CPU times: user 6min 27s, sys: 12.2 s, total: 6min 39s\n",
      "Wall time: 26.9 s\n"
     ]
    },
    {
     "data": {
      "text/plain": [
       "<matplotlib.image.AxesImage at 0x7fbad0278350>"
      ]
     },
     "execution_count": 108,
     "metadata": {},
     "output_type": "execute_result"
    },
    {
     "data": {
      "image/png": "[encoded data removed]",
      "text/plain": [
       "<Figure size 800x800 with 1 Axes>"
      ]
     },
     "metadata": {},
     "output_type": "display_data"
    }
   ],
   "source": [
    "%time result = parallel_read_decompress_integrate(filename, h5path, nbthreads, worker_numpy)\n",
    "fig,ax = subplots(figsize=(8,8))\n",
    "ax.imshow(result)"
   ]
  },
  {
   "cell_type": "markdown",
   "id": "d52a13fe-3265-4e74-866e-8056e105dce5",
   "metadata": {},
   "source": [
    "## 7. Evolution of the performances with the number of threads"
   ]
  },
  {
   "cell_type": "code",
   "execution_count": 109,
   "id": "a89e908a-d950-48d6-8ff2-2b39cdda629e",
   "metadata": {},
   "outputs": [
    {
     "name": "stderr",
     "output_type": "stream",
     "text": [
      "Exception in thread dummy_worker_00:\n",
      "Traceback (most recent call last):\n",
      "  File \"/usr/lib/python3.11/threading.py\", line 1038, in _bootstrap_inner\n",
      "Exception in thread dummy_worker_07:\n",
      "Traceback (most recent call last):\n",
      "  File \"/usr/lib/python3.11/threading.py\", line 1038, in _bootstrap_inner\n",
      "Exception in thread dummy_worker_08:\n",
      "Traceback (most recent call last):\n",
      "  File \"/usr/lib/python3.11/threading.py\", line 1038, in _bootstrap_inner\n",
      "Exception in thread dummy_worker_10:\n",
      "Traceback (most recent call last):\n",
      "  File \"/usr/lib/python3.11/threading.py\", line 1038, in _bootstrap_inner\n",
      "Exception in thread dummy_worker_13:\n",
      "Traceback (most recent call last):\n",
      "  File \"/usr/lib/python3.11/threading.py\", line 1038, in _bootstrap_inner\n",
      "Exception in thread dummy_worker_14:\n",
      "Traceback (most recent call last):\n",
      "  File \"/usr/lib/python3.11/threading.py\", line 1038, in _bootstrap_inner\n",
      "Exception in thread dummy_worker_15:\n",
      "Traceback (most recent call last):\n",
      "  File \"/usr/lib/python3.11/threading.py\", line 1038, in _bootstrap_inner\n",
      "Exception in thread dummy_worker_01:\n",
      "Traceback (most recent call last):\n",
      "  File \"/usr/lib/python3.11/threading.py\", line 1038, in _bootstrap_inner\n",
      "Exception in thread dummy_worker_03:\n",
      "Traceback (most recent call last):\n",
      "  File \"/usr/lib/python3.11/threading.py\", line 1038, in _bootstrap_inner\n",
      "Exception in thread dummy_worker_04:\n",
      "Traceback (most recent call last):\n",
      "  File \"/usr/lib/python3.11/threading.py\", line 1038, in _bootstrap_inner\n",
      "Exception in thread dummy_worker_05:\n",
      "Traceback (most recent call last):\n",
      "  File \"/usr/lib/python3.11/threading.py\", line 1038, in _bootstrap_inner\n",
      "Exception in thread dummy_worker_12:\n",
      "Traceback (most recent call last):\n",
      "  File \"/usr/lib/python3.11/threading.py\", line 1038, in _bootstrap_inner\n",
      "    self.run()\n",
      "  File \"/usr/lib/python3.11/threading.py\", line 975, in run\n",
      "Exception in thread dummy_worker_11:\n",
      "Traceback (most recent call last):\n",
      "  File \"/usr/lib/python3.11/threading.py\", line 1038, in _bootstrap_inner\n",
      "    self.run()\n",
      "  File \"/usr/lib/python3.11/threading.py\", line 975, in run\n",
      "    self.run()\n",
      "  File \"/usr/lib/python3.11/threading.py\", line 975, in run\n",
      "    self.run()\n",
      "  File \"/usr/lib/python3.11/threading.py\", line 975, in run\n",
      "    self.run()\n",
      "  File \"/usr/lib/python3.11/threading.py\", line 975, in run\n",
      "Exception in thread dummy_worker_06:\n",
      "Traceback (most recent call last):\n",
      "  File \"/usr/lib/python3.11/threading.py\", line 1038, in _bootstrap_inner\n",
      "    self.run()\n",
      "  File \"/usr/lib/python3.11/threading.py\", line 975, in run\n",
      "    self._target(*self._args, **self._kwargs)\n",
      "  File \"/tmp/ipykernel_2766197/3626388736.py\", line 10, in dummy_worker\n",
      "    self.run()\n",
      "  File \"/usr/lib/python3.11/threading.py\", line 975, in run\n",
      "    self._target(*self._args, **self._kwargs)\n",
      "  File \"/tmp/ipykernel_2766197/3626388736.py\", line 10, in dummy_worker\n",
      "    self._target(*self._args, **self._kwargs)\n",
      "  File \"/tmp/ipykernel_2766197/3626388736.py\", line 10, in dummy_worker\n",
      "    self.run()\n",
      "  File \"/usr/lib/python3.11/threading.py\", line 975, in run\n",
      "  File \"/tmp/ipykernel_2766197/302080813.py\", line 3, in decompress_integrate_funct\n",
      "Exception in thread dummy_worker_02:\n",
      "Traceback (most recent call last):\n",
      "  File \"/usr/lib/python3.11/threading.py\", line 1038, in _bootstrap_inner\n",
      "    self.run()\n",
      "  File \"/usr/lib/python3.11/threading.py\", line 975, in run\n",
      "    self._target(*self._args, **self._kwargs)\n",
      "  File \"/tmp/ipykernel_2766197/3626388736.py\", line 10, in dummy_worker\n",
      "Exception in thread dummy_worker_09:\n",
      "Traceback (most recent call last):\n",
      "  File \"/usr/lib/python3.11/threading.py\", line 1038, in _bootstrap_inner\n",
      "    self._target(*self._args, **self._kwargs)\n",
      "  File \"/tmp/ipykernel_2766197/3626388736.py\", line 10, in dummy_worker\n",
      "  File \"/tmp/ipykernel_2766197/302080813.py\", line 3, in decompress_integrate_funct\n",
      "    self._target(*self._args, **self._kwargs)\n",
      "  File \"/tmp/ipykernel_2766197/3626388736.py\", line 10, in dummy_worker\n",
      "    self._target(*self._args, **self._kwargs)\n",
      "  File \"/tmp/ipykernel_2766197/3626388736.py\", line 10, in dummy_worker\n",
      "    self._target(*self._args, **self._kwargs)\n",
      "  File \"/tmp/ipykernel_2766197/3626388736.py\", line 10, in dummy_worker\n",
      "    self.run()\n",
      "  File \"/usr/lib/python3.11/threading.py\", line 975, in run\n",
      "    self.run()\n",
      "  File \"/usr/lib/python3.11/threading.py\", line 975, in run\n",
      "  File \"/tmp/ipykernel_2766197/302080813.py\", line 3, in decompress_integrate_funct\n",
      "    self.run()\n",
      "  File \"/usr/lib/python3.11/threading.py\", line 975, in run\n",
      "    self.run()\n",
      "  File \"/usr/lib/python3.11/threading.py\", line 975, in run\n",
      "    self.run()\n",
      "  File \"/usr/lib/python3.11/threading.py\", line 975, in run\n",
      "    self._target(*self._args, **self._kwargs)\n",
      "  File \"/tmp/ipykernel_2766197/3626388736.py\", line 10, in dummy_worker\n",
      "    self._target(*self._args, **self._kwargs)\n",
      "  File \"/tmp/ipykernel_2766197/3626388736.py\", line 10, in dummy_worker\n",
      "    self.run()\n",
      "  File \"/usr/lib/python3.11/threading.py\", line 975, in run\n",
      "    self.run()\n",
      "  File \"/usr/lib/python3.11/threading.py\", line 975, in run\n",
      "    self._target(*self._args, **self._kwargs)\n",
      "  File \"/tmp/ipykernel_2766197/3626388736.py\", line 10, in dummy_worker\n",
      "  File \"/tmp/ipykernel_2766197/302080813.py\", line 3, in decompress_integrate_funct\n",
      "    self._target(*self._args, **self._kwargs)\n",
      "  File \"/tmp/ipykernel_2766197/3626388736.py\", line 10, in dummy_worker\n",
      "    self._target(*self._args, **self._kwargs)\n",
      "  File \"/tmp/ipykernel_2766197/3626388736.py\", line 10, in dummy_worker\n",
      "  File \"/tmp/ipykernel_2766197/1941032232.py\", line 9, in decompress_bslz4_chunk\n",
      "  File \"/tmp/ipykernel_2766197/302080813.py\", line 3, in decompress_integrate_funct\n",
      "  File \"/tmp/ipykernel_2766197/1941032232.py\", line 9, in decompress_bslz4_chunk\n",
      "  File \"/tmp/ipykernel_2766197/302080813.py\", line 3, in decompress_integrate_funct\n",
      "    self._target(*self._args, **self._kwargs)\n",
      "  File \"/tmp/ipykernel_2766197/3626388736.py\", line 10, in dummy_worker\n",
      "  File \"/tmp/ipykernel_2766197/1941032232.py\", line 9, in decompress_bslz4_chunk\n",
      "    self._target(*self._args, **self._kwargs)\n",
      "  File \"/tmp/ipykernel_2766197/3626388736.py\", line 10, in dummy_worker\n",
      "  File \"/tmp/ipykernel_2766197/302080813.py\", line 3, in decompress_integrate_funct\n",
      "    self._target(*self._args, **self._kwargs)\n",
      "  File \"/tmp/ipykernel_2766197/3626388736.py\", line 10, in dummy_worker\n",
      "  File \"/tmp/ipykernel_2766197/1941032232.py\", line 9, in decompress_bslz4_chunk\n",
      "  File \"/tmp/ipykernel_2766197/302080813.py\", line 3, in decompress_integrate_funct\n",
      "  File \"/tmp/ipykernel_2766197/302080813.py\", line 3, in decompress_integrate_funct\n",
      "TypeError: a bytes-like object is required, not 'tuple'\n",
      "  File \"/tmp/ipykernel_2766197/1941032232.py\", line 9, in decompress_bslz4_chunk\n",
      "  File \"/tmp/ipykernel_2766197/302080813.py\", line 3, in decompress_integrate_funct\n",
      "  File \"/tmp/ipykernel_2766197/302080813.py\", line 3, in decompress_integrate_funct\n",
      "  File \"/tmp/ipykernel_2766197/302080813.py\", line 3, in decompress_integrate_funct\n",
      "  File \"/tmp/ipykernel_2766197/1941032232.py\", line 9, in decompress_bslz4_chunk\n",
      "  File \"/tmp/ipykernel_2766197/1941032232.py\", line 9, in decompress_bslz4_chunk\n",
      "  File \"/tmp/ipykernel_2766197/1941032232.py\", line 9, in decompress_bslz4_chunk\n",
      "  File \"/tmp/ipykernel_2766197/302080813.py\", line 3, in decompress_integrate_funct\n",
      "TypeError: a bytes-like object is required, not 'tuple'\n",
      "TypeError: a bytes-like object is required, not 'tuple'\n",
      "TypeError: a bytes-like object is required, not 'tuple'\n",
      "  File \"/tmp/ipykernel_2766197/1941032232.py\", line 9, in decompress_bslz4_chunk\n",
      "  File \"/tmp/ipykernel_2766197/1941032232.py\", line 9, in decompress_bslz4_chunk\n",
      "  File \"/tmp/ipykernel_2766197/1941032232.py\", line 9, in decompress_bslz4_chunk\n",
      "  File \"/tmp/ipykernel_2766197/1941032232.py\", line 9, in decompress_bslz4_chunk\n",
      "TypeError: a bytes-like object is required, not 'tuple'\n",
      "TypeError: a bytes-like object is required, not 'tuple'\n",
      "  File \"/tmp/ipykernel_2766197/302080813.py\", line 3, in decompress_integrate_funct\n",
      "TypeError: a bytes-like object is required, not 'tuple'\n",
      "  File \"/tmp/ipykernel_2766197/302080813.py\", line 3, in decompress_integrate_funct\n",
      "  File \"/tmp/ipykernel_2766197/1941032232.py\", line 9, in decompress_bslz4_chunk\n",
      "TypeError: a bytes-like object is required, not 'tuple'\n",
      "  File \"/tmp/ipykernel_2766197/1941032232.py\", line 9, in decompress_bslz4_chunk\n",
      "  File \"/tmp/ipykernel_2766197/302080813.py\", line 3, in decompress_integrate_funct\n",
      "TypeError: a bytes-like object is required, not 'tuple'\n",
      "TypeError: a bytes-like object is required, not 'tuple'\n",
      "TypeError: a bytes-like object is required, not 'tuple'\n",
      "TypeError: a bytes-like object is required, not 'tuple'\n",
      "TypeError: a bytes-like object is required, not 'tuple'\n",
      "  File \"/tmp/ipykernel_2766197/1941032232.py\", line 9, in decompress_bslz4_chunk\n",
      "TypeError: a bytes-like object is required, not 'tuple'\n",
      "TypeError: a bytes-like object is required, not 'tuple'\n",
      "  File \"/tmp/ipykernel_2766197/1941032232.py\", line 9, in decompress_bslz4_chunk\n",
      "TypeError: a bytes-like object is required, not 'tuple'\n"
     ]
    },
    {
     "name": "stdout",
     "output_type": "stream",
     "text": [
      "Using 16 threads\n"
     ]
    },
    {
     "ename": "KeyboardInterrupt",
     "evalue": "",
     "output_type": "error",
     "traceback": [
      "\u001b[0;31m---------------------------------------------------------------------------\u001b[0m",
      "\u001b[0;31mKeyboardInterrupt\u001b[0m                         Traceback (most recent call last)",
      "Cell \u001b[0;32mIn[109], line 7\u001b[0m\n\u001b[1;32m      4\u001b[0m \u001b[38;5;28;01mfor\u001b[39;00m i \u001b[38;5;129;01min\u001b[39;00m (\u001b[38;5;241m16\u001b[39m, \u001b[38;5;241m12\u001b[39m, \u001b[38;5;241m8\u001b[39m, \u001b[38;5;241m4\u001b[39m, \u001b[38;5;241m2\u001b[39m, \u001b[38;5;241m1\u001b[39m):\n\u001b[1;32m      5\u001b[0m     \u001b[38;5;28mprint\u001b[39m(\u001b[38;5;124mf\u001b[39m\u001b[38;5;124m\"\u001b[39m\u001b[38;5;124mUsing \u001b[39m\u001b[38;5;132;01m{\u001b[39;00mi\u001b[38;5;132;01m}\u001b[39;00m\u001b[38;5;124m threads\u001b[39m\u001b[38;5;124m\"\u001b[39m)\n\u001b[0;32m----> 7\u001b[0m     t \u001b[38;5;241m=\u001b[39m \u001b[43mget_ipython\u001b[49m\u001b[43m(\u001b[49m\u001b[43m)\u001b[49m\u001b[38;5;241;43m.\u001b[39;49m\u001b[43mrun_line_magic\u001b[49m\u001b[43m(\u001b[49m\u001b[38;5;124;43m'\u001b[39;49m\u001b[38;5;124;43mtimeit\u001b[39;49m\u001b[38;5;124;43m'\u001b[39;49m\u001b[43m,\u001b[49m\u001b[43m \u001b[49m\u001b[38;5;124;43m'\u001b[39;49m\u001b[38;5;124;43m-r1 -n1 -o parallel_decompress_integrate(filename, h5path, i)\u001b[39;49m\u001b[38;5;124;43m'\u001b[39;49m\u001b[43m)\u001b[49m\n\u001b[1;32m      8\u001b[0m     performances_h5py[i] \u001b[38;5;241m=\u001b[39m nbframes\u001b[38;5;241m/\u001b[39mt\u001b[38;5;241m.\u001b[39mbest\n\u001b[1;32m     10\u001b[0m     t \u001b[38;5;241m=\u001b[39m get_ipython()\u001b[38;5;241m.\u001b[39mrun_line_magic(\u001b[38;5;124m'\u001b[39m\u001b[38;5;124mtimeit\u001b[39m\u001b[38;5;124m'\u001b[39m, \u001b[38;5;124m'\u001b[39m\u001b[38;5;124m-r1 -n1 -o parallel_read_decompress_integrate(filename, h5path, i, worker_python)\u001b[39m\u001b[38;5;124m'\u001b[39m)\n",
      "File \u001b[0;32m~/.venv/py311/lib/python3.11/site-packages/IPython/core/interactiveshell.py:2432\u001b[0m, in \u001b[0;36mInteractiveShell.run_line_magic\u001b[0;34m(self, magic_name, line, _stack_depth)\u001b[0m\n\u001b[1;32m   2430\u001b[0m     kwargs[\u001b[38;5;124m'\u001b[39m\u001b[38;5;124mlocal_ns\u001b[39m\u001b[38;5;124m'\u001b[39m] \u001b[38;5;241m=\u001b[39m \u001b[38;5;28mself\u001b[39m\u001b[38;5;241m.\u001b[39mget_local_scope(stack_depth)\n\u001b[1;32m   2431\u001b[0m \u001b[38;5;28;01mwith\u001b[39;00m \u001b[38;5;28mself\u001b[39m\u001b[38;5;241m.\u001b[39mbuiltin_trap:\n\u001b[0;32m-> 2432\u001b[0m     result \u001b[38;5;241m=\u001b[39m \u001b[43mfn\u001b[49m\u001b[43m(\u001b[49m\u001b[38;5;241;43m*\u001b[39;49m\u001b[43margs\u001b[49m\u001b[43m,\u001b[49m\u001b[43m \u001b[49m\u001b[38;5;241;43m*\u001b[39;49m\u001b[38;5;241;43m*\u001b[39;49m\u001b[43mkwargs\u001b[49m\u001b[43m)\u001b[49m\n\u001b[1;32m   2434\u001b[0m \u001b[38;5;66;03m# The code below prevents the output from being displayed\u001b[39;00m\n\u001b[1;32m   2435\u001b[0m \u001b[38;5;66;03m# when using magics with decorator @output_can_be_silenced\u001b[39;00m\n\u001b[1;32m   2436\u001b[0m \u001b[38;5;66;03m# when the last Python token in the expression is a ';'.\u001b[39;00m\n\u001b[1;32m   2437\u001b[0m \u001b[38;5;28;01mif\u001b[39;00m \u001b[38;5;28mgetattr\u001b[39m(fn, magic\u001b[38;5;241m.\u001b[39mMAGIC_OUTPUT_CAN_BE_SILENCED, \u001b[38;5;28;01mFalse\u001b[39;00m):\n",
      "File \u001b[0;32m~/.venv/py311/lib/python3.11/site-packages/IPython/core/magics/execution.py:1189\u001b[0m, in \u001b[0;36mExecutionMagics.timeit\u001b[0;34m(self, line, cell, local_ns)\u001b[0m\n\u001b[1;32m   1186\u001b[0m         \u001b[38;5;28;01mif\u001b[39;00m time_number \u001b[38;5;241m>\u001b[39m\u001b[38;5;241m=\u001b[39m \u001b[38;5;241m0.2\u001b[39m:\n\u001b[1;32m   1187\u001b[0m             \u001b[38;5;28;01mbreak\u001b[39;00m\n\u001b[0;32m-> 1189\u001b[0m all_runs \u001b[38;5;241m=\u001b[39m \u001b[43mtimer\u001b[49m\u001b[38;5;241;43m.\u001b[39;49m\u001b[43mrepeat\u001b[49m\u001b[43m(\u001b[49m\u001b[43mrepeat\u001b[49m\u001b[43m,\u001b[49m\u001b[43m \u001b[49m\u001b[43mnumber\u001b[49m\u001b[43m)\u001b[49m\n\u001b[1;32m   1190\u001b[0m best \u001b[38;5;241m=\u001b[39m \u001b[38;5;28mmin\u001b[39m(all_runs) \u001b[38;5;241m/\u001b[39m number\n\u001b[1;32m   1191\u001b[0m worst \u001b[38;5;241m=\u001b[39m \u001b[38;5;28mmax\u001b[39m(all_runs) \u001b[38;5;241m/\u001b[39m number\n",
      "File \u001b[0;32m/usr/lib/python3.11/timeit.py:206\u001b[0m, in \u001b[0;36mTimer.repeat\u001b[0;34m(self, repeat, number)\u001b[0m\n\u001b[1;32m    204\u001b[0m r \u001b[38;5;241m=\u001b[39m []\n\u001b[1;32m    205\u001b[0m \u001b[38;5;28;01mfor\u001b[39;00m i \u001b[38;5;129;01min\u001b[39;00m \u001b[38;5;28mrange\u001b[39m(repeat):\n\u001b[0;32m--> 206\u001b[0m     t \u001b[38;5;241m=\u001b[39m \u001b[38;5;28;43mself\u001b[39;49m\u001b[38;5;241;43m.\u001b[39;49m\u001b[43mtimeit\u001b[49m\u001b[43m(\u001b[49m\u001b[43mnumber\u001b[49m\u001b[43m)\u001b[49m\n\u001b[1;32m    207\u001b[0m     r\u001b[38;5;241m.\u001b[39mappend(t)\n\u001b[1;32m    208\u001b[0m \u001b[38;5;28;01mreturn\u001b[39;00m r\n",
      "File \u001b[0;32m~/.venv/py311/lib/python3.11/site-packages/IPython/core/magics/execution.py:173\u001b[0m, in \u001b[0;36mTimer.timeit\u001b[0;34m(self, number)\u001b[0m\n\u001b[1;32m    171\u001b[0m gc\u001b[38;5;241m.\u001b[39mdisable()\n\u001b[1;32m    172\u001b[0m \u001b[38;5;28;01mtry\u001b[39;00m:\n\u001b[0;32m--> 173\u001b[0m     timing \u001b[38;5;241m=\u001b[39m \u001b[38;5;28;43mself\u001b[39;49m\u001b[38;5;241;43m.\u001b[39;49m\u001b[43minner\u001b[49m\u001b[43m(\u001b[49m\u001b[43mit\u001b[49m\u001b[43m,\u001b[49m\u001b[43m \u001b[49m\u001b[38;5;28;43mself\u001b[39;49m\u001b[38;5;241;43m.\u001b[39;49m\u001b[43mtimer\u001b[49m\u001b[43m)\u001b[49m\n\u001b[1;32m    174\u001b[0m \u001b[38;5;28;01mfinally\u001b[39;00m:\n\u001b[1;32m    175\u001b[0m     \u001b[38;5;28;01mif\u001b[39;00m gcold:\n",
      "File \u001b[0;32m<magic-timeit>:1\u001b[0m, in \u001b[0;36minner\u001b[0;34m(_it, _timer)\u001b[0m\n",
      "Cell \u001b[0;32mIn[73], line 5\u001b[0m, in \u001b[0;36mparallel_decompress_integrate\u001b[0;34m(filename, h5path, nbthreads)\u001b[0m\n\u001b[1;32m      3\u001b[0m qout \u001b[38;5;241m=\u001b[39m Queue()\n\u001b[1;32m      4\u001b[0m pool \u001b[38;5;241m=\u001b[39m build_pool(nbthreads, qin, qout, funct\u001b[38;5;241m=\u001b[39mdecompress_integrate_funct)\n\u001b[0;32m----> 5\u001b[0m nchunks \u001b[38;5;241m=\u001b[39m \u001b[43mreader_chunks\u001b[49m\u001b[43m(\u001b[49m\u001b[43mfilename\u001b[49m\u001b[43m,\u001b[49m\u001b[43m \u001b[49m\u001b[43mh5path\u001b[49m\u001b[43m,\u001b[49m\u001b[43m \u001b[49m\u001b[43mqin\u001b[49m\u001b[43m)\u001b[49m\n\u001b[1;32m      6\u001b[0m output \u001b[38;5;241m=\u001b[39m numpy\u001b[38;5;241m.\u001b[39mempty((nchunks, nbins), numpy\u001b[38;5;241m.\u001b[39mfloat32)\n\u001b[1;32m      7\u001b[0m end_pool(pool)\n",
      "Cell \u001b[0;32mIn[81], line 11\u001b[0m, in \u001b[0;36mreader_chunks\u001b[0;34m(filename, h5path, queue)\u001b[0m\n\u001b[1;32m      9\u001b[0m     ds \u001b[38;5;241m=\u001b[39m h[h5path]\n\u001b[1;32m     10\u001b[0m     \u001b[38;5;28;01mfor\u001b[39;00m i \u001b[38;5;129;01min\u001b[39;00m \u001b[38;5;28mrange\u001b[39m(ds\u001b[38;5;241m.\u001b[39mid\u001b[38;5;241m.\u001b[39mget_num_chunks()):\n\u001b[0;32m---> 11\u001b[0m         \u001b[43mqueue\u001b[49m\u001b[38;5;241;43m.\u001b[39;49m\u001b[43mput\u001b[49m\u001b[43m(\u001b[49m\u001b[43mItem\u001b[49m\u001b[43m(\u001b[49m\u001b[43mi\u001b[49m\u001b[43m,\u001b[49m\u001b[43m \u001b[49m\u001b[43mds\u001b[49m\u001b[38;5;241;43m.\u001b[39;49m\u001b[43mid\u001b[49m\u001b[38;5;241;43m.\u001b[39;49m\u001b[43mget_chunk_info\u001b[49m\u001b[43m(\u001b[49m\u001b[43mi\u001b[49m\u001b[43m)\u001b[49m\u001b[43m)\u001b[49m\u001b[43m)\u001b[49m\n\u001b[1;32m     12\u001b[0m \u001b[38;5;28;01mreturn\u001b[39;00m i\u001b[38;5;241m+\u001b[39m\u001b[38;5;241m1\u001b[39m\n",
      "File \u001b[0;32m/usr/lib/python3.11/queue.py:140\u001b[0m, in \u001b[0;36mQueue.put\u001b[0;34m(self, item, block, timeout)\u001b[0m\n\u001b[1;32m    138\u001b[0m \u001b[38;5;28;01melif\u001b[39;00m timeout \u001b[38;5;129;01mis\u001b[39;00m \u001b[38;5;28;01mNone\u001b[39;00m:\n\u001b[1;32m    139\u001b[0m     \u001b[38;5;28;01mwhile\u001b[39;00m \u001b[38;5;28mself\u001b[39m\u001b[38;5;241m.\u001b[39m_qsize() \u001b[38;5;241m>\u001b[39m\u001b[38;5;241m=\u001b[39m \u001b[38;5;28mself\u001b[39m\u001b[38;5;241m.\u001b[39mmaxsize:\n\u001b[0;32m--> 140\u001b[0m         \u001b[38;5;28;43mself\u001b[39;49m\u001b[38;5;241;43m.\u001b[39;49m\u001b[43mnot_full\u001b[49m\u001b[38;5;241;43m.\u001b[39;49m\u001b[43mwait\u001b[49m\u001b[43m(\u001b[49m\u001b[43m)\u001b[49m\n\u001b[1;32m    141\u001b[0m \u001b[38;5;28;01melif\u001b[39;00m timeout \u001b[38;5;241m<\u001b[39m \u001b[38;5;241m0\u001b[39m:\n\u001b[1;32m    142\u001b[0m     \u001b[38;5;28;01mraise\u001b[39;00m \u001b[38;5;167;01mValueError\u001b[39;00m(\u001b[38;5;124m\"\u001b[39m\u001b[38;5;124m'\u001b[39m\u001b[38;5;124mtimeout\u001b[39m\u001b[38;5;124m'\u001b[39m\u001b[38;5;124m must be a non-negative number\u001b[39m\u001b[38;5;124m\"\u001b[39m)\n",
      "File \u001b[0;32m/usr/lib/python3.11/threading.py:320\u001b[0m, in \u001b[0;36mCondition.wait\u001b[0;34m(self, timeout)\u001b[0m\n\u001b[1;32m    318\u001b[0m \u001b[38;5;28;01mtry\u001b[39;00m:    \u001b[38;5;66;03m# restore state no matter what (e.g., KeyboardInterrupt)\u001b[39;00m\n\u001b[1;32m    319\u001b[0m     \u001b[38;5;28;01mif\u001b[39;00m timeout \u001b[38;5;129;01mis\u001b[39;00m \u001b[38;5;28;01mNone\u001b[39;00m:\n\u001b[0;32m--> 320\u001b[0m         \u001b[43mwaiter\u001b[49m\u001b[38;5;241;43m.\u001b[39;49m\u001b[43macquire\u001b[49m\u001b[43m(\u001b[49m\u001b[43m)\u001b[49m\n\u001b[1;32m    321\u001b[0m         gotit \u001b[38;5;241m=\u001b[39m \u001b[38;5;28;01mTrue\u001b[39;00m\n\u001b[1;32m    322\u001b[0m     \u001b[38;5;28;01melse\u001b[39;00m:\n",
      "\u001b[0;31mKeyboardInterrupt\u001b[0m: "
     ]
    }
   ],
   "source": [
    "performances_h5py = {}\n",
    "performances_file = {}\n",
    "performances_memmap = {}\n",
    "for i in (16, 12, 8, 4, 2, 1):\n",
    "    print(f\"Using {i} threads\")\n",
    "    \n",
    "    t = %timeit -r1 -n1 -o parallel_decompress_integrate(filename, h5path, i)\n",
    "    performances_h5py[i] = nbframes/t.best\n",
    "\n",
    "    t = %timeit -r1 -n1 -o parallel_read_decompress_integrate(filename, h5path, i, worker_python)\n",
    "    performances_file[i] = nbframes/t.best\n",
    "\n",
    "    t = %timeit -r1 -n1 -o parallel_read_decompress_integrate(filename, h5path, i, worker_numpy)\n",
    "    performances_memmap[i] = nbframes/t.best\n"
   ]
  },
  {
   "cell_type": "markdown",
   "id": "094b673d-f373-431b-92ed-4c9ef9ff3c79",
   "metadata": {},
   "source": [
    "## 8. Conclusion\n",
    "\n",
    "Reading Bitshuffle-LZ4 data can be parallelized using multi-threading in Python. \n",
    "\n",
    "The procedure is a bit tedious but not out of reach for a Python programmer: few threads and a couple of queues. \n",
    "This burden is worth when coupling decompression with azimuthal integration to reduce the amount of data  stored in memory.\n",
    "\n",
    "The performances obtained on a 64-core computer are close to what can be obtained from a GPU: ~500 fps\n",
    "The speed-up obtained with the procedure is 30x on a 64-core computer versus single threaded implementation, which demonstrates multithreading is worth the burden."
   ]
  },
  {
   "cell_type": "markdown",
   "id": "0d2b8105-71d9-4440-93f9-0a30f8f507cc",
   "metadata": {},
   "source": [
    "Thanks again to the French-CRG for the computer."
   ]
  },
  {
   "cell_type": "code",
   "execution_count": null,
   "id": "b90f5458-9fd4-4d83-bfbd-017e3a9365dd",
   "metadata": {},
   "outputs": [],
   "source": [
    "print(f\"Total processing time: {time.time()-start_time:.3f} s\")"
   ]
  }
 ],
 "metadata": {
  "kernelspec": {
   "display_name": "Python 3 (ipykernel)",
   "language": "python",
   "name": "python3"
  },
  "language_info": {
   "codemirror_mode": {
    "name": "ipython",
    "version": 3
   },
   "file_extension": ".py",
   "mimetype": "text/x-python",
   "name": "python",
   "nbconvert_exporter": "python",
   "pygments_lexer": "ipython3",
   "version": "3.11.2"
  }
 },
 "nbformat": 4,
 "nbformat_minor": 5
}
