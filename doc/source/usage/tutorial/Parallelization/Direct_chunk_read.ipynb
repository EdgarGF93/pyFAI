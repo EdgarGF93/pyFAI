{
 "cells": [
  {
   "cell_type": "markdown",
   "id": "c38240c3-7646-497b-a3ac-d9cfa6c974f2",
   "metadata": {},
   "source": [
    "# Parallel processing of a stack of data stored in HDF5 with multi-threading\n",
    "\n",
    "This tutorial explains how it is possible to treat in parallel a large HDF5 dataset which does not fit into the computer memory.\n",
    "\n",
    "For this tutorial, a very recent version of pyFAI is needed, newer than summer 2022. It demonstrates features wich will only be available in release 0.22.\n",
    "\n",
    "This tutorial expains how to take benefit from multi-threading. This framework is not very popular in the Python world due to the [Global Interpreter Lock (GIL)](https://wiki.python.org/moin/GlobalInterpreterLock), but properly written C-code which does release the GIL can be very fast, sometimes as fast as GPU code (on large computers).\n",
    "\n",
    "**Credits:**\n",
    "\n",
    "* Thomas Vincent (ESRF) for the parallel decompression of HDF5 chunks and the Jupyter-slurm\n",
    "* Pierre Paleo (ESRF) for struggling with this kind of stuff with GPUs\n",
    "* Jon Wright (ESRF) for the CSC integrator, while implemented in serial is multithreading friendly\n",
    "* The French-CRG for providing a manycore computer (2 x 32-core AMD EPYC 75F3)\n",
    "\n",
    "**Nota:** No GPU is needed for this tutorial!\n",
    "\n",
    "**Important:** the `bitshuffle` module needs to be compiled without OpenMP, since the tutorial aims at demonstrating that Python threads can be almost as efficient as OpenMP. If you have a doubt about OpenMP, please uncomment the environment variable OMP_NUM_THREADS reset in the second cell. This will unfortunately bias the performance measurement of pyFAI with the CSR sparse-matrix multiplication."
   ]
  },
  {
   "cell_type": "code",
   "execution_count": 1,
   "id": "5eb5f112-bf32-4413-85ea-67eb88bf7ee9",
   "metadata": {},
   "outputs": [],
   "source": [
    "%matplotlib inline\n",
    "# use `widget` for better user experience; `inline` is for documentation generation"
   ]
  },
  {
   "cell_type": "code",
   "execution_count": 2,
   "id": "638e4966-b05e-47e2-a4b0-5843b1b5ff93",
   "metadata": {},
   "outputs": [],
   "source": [
    "import sys, os, collections, struct, time\n",
    "# Ensure OpenMP is disabled\n",
    "os.environ[\"OMP_NUM_THREADS\"] = \"1\"\n",
    "import numpy, pyFAI\n",
    "import h5py, hdf5plugin\n",
    "from queue import Queue\n",
    "import threading\n",
    "import bitshuffle\n",
    "from matplotlib.pyplot import subplots\n",
    "start_time = time.time()\n",
    "Item = collections.namedtuple(\"Item\", \"index data\")"
   ]
  },
  {
   "cell_type": "code",
   "execution_count": 3,
   "id": "210e4de4-184b-4c64-872e-5c1aaf080501",
   "metadata": {},
   "outputs": [
    {
     "name": "stdout",
     "output_type": "stream",
     "text": [
      "Working with 12 threads. Mind OpenMP needs to be disabled in the bitshuffle code !\n"
     ]
    }
   ],
   "source": [
    "nbthreads = len(os.sched_getaffinity(0))\n",
    "print(f\"Working with {nbthreads} threads. Mind OpenMP needs to be disabled in the bitshuffle code !\")"
   ]
  },
  {
   "cell_type": "code",
   "execution_count": 4,
   "id": "8e649b79-f024-4635-ac8f-fc68827c60aa",
   "metadata": {},
   "outputs": [
    {
     "name": "stdout",
     "output_type": "stream",
     "text": [
      "Architecture:            x86_64\n",
      "  CPU op-mode(s):        32-bit, 64-bit\n",
      "  Address sizes:         46 bits physical, 48 bits virtual\n",
      "  Byte Order:            Little Endian\n",
      "CPU(s):                  12\n",
      "  On-line CPU(s) list:   0-11\n",
      "Vendor ID:               GenuineIntel\n",
      "  Model name:            Intel(R) Xeon(R) CPU E5-1650 v4 @ 3.60GHz\n",
      "    CPU family:          6\n",
      "    Model:               79\n",
      "    Thread(s) per core:  2\n",
      "    Core(s) per socket:  6\n",
      "    Socket(s):           1\n",
      "    Stepping:            1\n",
      "    CPU(s) scaling MHz:  63%\n",
      "    CPU max MHz:         4000.0000\n",
      "    CPU min MHz:         1200.0000\n",
      "    BogoMIPS:            7183.16\n",
      "    Flags:               fpu vme de pse tsc msr pae mce cx8 apic sep mtrr pge mc\n",
      "                         a cmov pat pse36 clflush dts acpi mmx fxsr sse sse2 ss \n",
      "                         ht tm pbe syscall nx pdpe1gb rdtscp lm constant_tsc arc\n",
      "                         h_perfmon pebs bts rep_good nopl xtopology nonstop_tsc \n",
      "                         cpuid aperfmperf pni pclmulqdq dtes64 monitor ds_cpl vm\n",
      "                         x smx est tm2 ssse3 sdbg fma cx16 xtpr pdcm pcid dca ss\n",
      "                         e4_1 sse4_2 x2apic movbe popcnt tsc_deadline_timer aes \n",
      "                         xsave avx f16c rdrand lahf_lm abm 3dnowprefetch cpuid_f\n",
      "                         ault epb cat_l3 cdp_l3 invpcid_single pti intel_ppin ss\n",
      "                         bd ibrs ibpb stibp tpr_shadow vnmi flexpriority ept vpi\n",
      "                         d ept_ad fsgsbase tsc_adjust bmi1 hle avx2 smep bmi2 er\n",
      "                         ms invpcid rtm cqm rdt_a rdseed adx smap intel_pt xsave\n",
      "                         opt cqm_llc cqm_occup_llc cqm_mbm_total cqm_mbm_local d\n",
      "                         therm ida arat pln pts md_clear flush_l1d\n",
      "Virtualization features: \n",
      "  Virtualization:        VT-x\n",
      "Caches (sum of all):     \n",
      "  L1d:                   192 KiB (6 instances)\n",
      "  L1i:                   192 KiB (6 instances)\n",
      "  L2:                    1.5 MiB (6 instances)\n",
      "  L3:                    15 MiB (1 instance)\n",
      "NUMA:                    \n",
      "  NUMA node(s):          1\n",
      "  NUMA node0 CPU(s):     0-11\n",
      "Vulnerabilities:         \n",
      "  Gather data sampling:  Not affected\n",
      "  Itlb multihit:         KVM: Mitigation: VMX disabled\n",
      "  L1tf:                  Mitigation; PTE Inversion; VMX conditional cache flushe\n",
      "                         s, SMT vulnerable\n",
      "  Mds:                   Mitigation; Clear CPU buffers; SMT vulnerable\n",
      "  Meltdown:              Mitigation; PTI\n",
      "  Mmio stale data:       Mitigation; Clear CPU buffers; SMT vulnerable\n",
      "  Retbleed:              Not affected\n",
      "  Spec rstack overflow:  Not affected\n",
      "  Spec store bypass:     Mitigation; Speculative Store Bypass disabled via prctl\n",
      "  Spectre v1:            Mitigation; usercopy/swapgs barriers and __user pointer\n",
      "                          sanitization\n",
      "  Spectre v2:            Mitigation; Retpolines, IBPB conditional, IBRS_FW, STIB\n",
      "                         P conditional, RSB filling, PBRSB-eIBRS Not affected\n",
      "  Srbds:                 Not affected\n",
      "  Tsx async abort:       Mitigation; Clear CPU buffers; SMT vulnerable\n"
     ]
    }
   ],
   "source": [
    "!lscpu"
   ]
  },
  {
   "cell_type": "markdown",
   "id": "d2c54705-4b6c-444b-b9f1-b763f6a8d915",
   "metadata": {},
   "source": [
    "## Setup the enviroment:\n",
    "\n",
    "This is a purely virtual experiment, we will use an Eiger 4M detector with data integrated over 1000 bins. Those parameters can be tuned.\n",
    "\n",
    "Random data are generated, to keep this file fairly small, it is generated with small numbers which compress nicely. The speed of the drive where you will put the file is likely to have a huge impact !"
   ]
  },
  {
   "cell_type": "code",
   "execution_count": 6,
   "id": "1cd22d82-d4fb-4d28-9960-0442989ca18c",
   "metadata": {},
   "outputs": [
    {
     "data": {
      "text/plain": [
       "HDF5PluginBuildConfig(openmp=False, native=False, bmi2=False, sse2=True, avx2=False, avx512=False, cpp11=True, cpp14=True, ipp=False, filter_file_extension='.so', embedded_filters=('blosc', 'blosc2', 'bshuf', 'bzip2', 'fcidecomp', 'lz4', 'sz', 'sz3', 'zfp', 'zstd'))"
      ]
     },
     "execution_count": 6,
     "metadata": {},
     "output_type": "execute_result"
    }
   ],
   "source": [
    "det = pyFAI.detector_factory(\"eiger_4M\")\n",
    "shape = det.shape\n",
    "dtype = numpy.dtype(\"uint32\")\n",
    "filename = \"/tmp/big.h5\"\n",
    "nbins = 1000\n",
    "cmp = hdf5plugin.Bitshuffle()\n",
    "hdf5plugin.get_config().build_config"
   ]
  },
  {
   "cell_type": "code",
   "execution_count": 7,
   "id": "daf4eec8-e364-43b6-b5af-8f279c6aed38",
   "metadata": {},
   "outputs": [
    {
     "name": "stdout",
     "output_type": "stream",
     "text": [
      "Number of frames the computer can host in memory: 3753.324\n"
     ]
    }
   ],
   "source": [
    "mem_bytes = os.sysconf('SC_PAGE_SIZE') * os.sysconf('SC_PHYS_PAGES')\n",
    "print(f\"Number of frames the computer can host in memory: {mem_bytes/(numpy.prod(shape)*dtype.itemsize):.3f}\")\n",
    "if os.environ.get('SLURM_MEM_PER_NODE'):\n",
    "    print(f\"Number of frames the computer can host in memory with SLURM restrictions: {int(os.environ['SLURM_MEM_PER_NODE'])*(1<<20)/(numpy.prod(shape)*dtype.itemsize):.3f}\")"
   ]
  },
  {
   "cell_type": "code",
   "execution_count": 8,
   "id": "bd038dc8-1e6d-4bd6-95b3-303f2d0f250b",
   "metadata": {},
   "outputs": [],
   "source": [
    "#The computer being limited to 64G of RAM, the number of frames actually possible is 3800.\n",
    "nbframes = 4096 # slightly larger than the maximum achievable ! Such a dataset should not host in memory."
   ]
  },
  {
   "cell_type": "code",
   "execution_count": 9,
   "id": "a32bd8fb-9b64-4564-9a69-67a759bf3427",
   "metadata": {},
   "outputs": [],
   "source": [
    "#Prepare a frame with little count so that it compresses well\n",
    "geo = {\"detector\": det, \n",
    "       \"wavelength\": 1e-10, \n",
    "       \"rot3\":0} #work around a bug https://github.com/silx-kit/pyFAI/pull/1749\n",
    "ai = pyFAI.load(geo)\n",
    "q = numpy.arange(15)\n",
    "img = ai.calcfrom1d(q, 100/(1+q*q))\n",
    "frame = numpy.random.poisson(img).astype(dtype)"
   ]
  },
  {
   "cell_type": "code",
   "execution_count": 10,
   "id": "53b49350-6b0c-4c3b-ba5b-ece50cd6fe98",
   "metadata": {},
   "outputs": [
    {
     "data": {
      "text/plain": [
       "<matplotlib.image.AxesImage at 0x7feb6260fb90>"
      ]
     },
     "execution_count": 10,
     "metadata": {},
     "output_type": "execute_result"
    },
    {
     "data": {
      "image/png": "[encoded data removed]",
      "text/plain": [
       "<Figure size 640x480 with 1 Axes>"
      ]
     },
     "metadata": {},
     "output_type": "display_data"
    }
   ],
   "source": [
    "# display the image\n",
    "fig,ax = subplots()\n",
    "ax.imshow(frame)"
   ]
  },
  {
   "cell_type": "code",
   "execution_count": 11,
   "id": "17e3d7e2-de22-4d40-8230-39295f04e239",
   "metadata": {},
   "outputs": [
    {
     "name": "stdout",
     "output_type": "stream",
     "text": [
      "Performances of the different algorithms for azimuthal integration of Eiger 4M image\n",
      "Using algorithm histogram : 639 ms ± 3.66 ms per loop (mean ± std. dev. of 7 runs, 1 loop each)\n",
      "Using algorithm csc       : 53.7 ms ± 154 µs per loop (mean ± std. dev. of 7 runs, 1 loop each)\n",
      "Using algorithm csr       : 57 ms ± 210 µs per loop (mean ± std. dev. of 7 runs, 1 loop each)\n"
     ]
    }
   ],
   "source": [
    "print(\"Performances of the different algorithms for azimuthal integration of Eiger 4M image\")\n",
    "for algo in (\"histogram\", \"csc\", \"csr\"):\n",
    "    print(f\"Using algorithm {algo:10s}:\", end=\" \")\n",
    "    %timeit ai.integrate1d(img, nbins, method=(\"full\", algo, \"cython\"))"
   ]
  },
  {
   "cell_type": "markdown",
   "id": "22969c56-1d10-4950-aebe-699da628858e",
   "metadata": {},
   "source": [
    "**Note:** The full pixel splitting is time consuming and handicaps the histogram algorithm while both sparse-matrix methods are much faster since they cache this calculation in the sparse matrix.\n",
    "\n",
    "The compared performances of sparse-matrix methods is rather surprizing since the CSC algorithm, single threaded, is faster than the CSR which runs in parallel over 2x32 cores.\n",
    "This result is the combination of two facotors:\n",
    "\n",
    "1. The computer is built with two processors/sockets controling each its own memory. We call this a **Non Uniform Memory Access** computer and can be checked with `numactrl --hardware`. The CSR matrix multiplication will dispatch work on both processors and thus, needs to transfer part of the image from one NUMA subsystem (socket) to the other, which is slow (3.2x slower compared to a single-socket access, according to the output of numactl). \n",
    "\n",
    "2. The very large cache of this processor: 512MB are reported by `lscpu`, but a more precise tool, `lstopo` describes them as 32MB of L3 cache shared between 4 cores. This very large cache allows the complete frame and the sparse matrix to be pre-fetched which is a great advantage for the CSC algorithm.\n",
    "\n",
    "Running the very same benchmark on an Intel 2-socket server would remove the point 2, while running on a singe socket intel workstation would remove both points and the normal results would be that CSR should be faster than CSC. The best performances on can get with the CSR algorithm should be obtained when using 4 cores (sharing the same cache L3) out of 64 on this computer. This can be done by setting the environment variable **OMP_NUM_THREADS**. Unfortunately, it also requires to restart the process, thus cannot be demonstrated easily in the notebook (without restarting). \n",
    "\n",
    "**The first message to take home is that without the knownledge of the actual computer, no high-performace computing is possible**"
   ]
  },
  {
   "cell_type": "code",
   "execution_count": 12,
   "id": "97da69b1-f59d-4bf7-99ff-19b426cdccce",
   "metadata": {},
   "outputs": [
    {
     "name": "stdout",
     "output_type": "stream",
     "text": [
      "available: 1 nodes (0)\n",
      "node 0 cpus: 0 1 2 3 4 5 6 7 8 9 10 11\n",
      "node 0 size: 64225 MB\n",
      "node 0 free: 45565 MB\n",
      "node distances:\n",
      "node   0 \n",
      "  0:  10 \n"
     ]
    }
   ],
   "source": [
    "!numactl --hardware"
   ]
  },
  {
   "cell_type": "code",
   "execution_count": 13,
   "id": "345903ed-e336-4b37-b520-34790b95252d",
   "metadata": {},
   "outputs": [
    {
     "name": "stdout",
     "output_type": "stream",
     "text": [
      "Machine (63GB total)\n",
      "  Package L#0\n",
      "    NUMANode L#0 (P#0 63GB)\n",
      "    L3 L#0 (15MB)\n",
      "      L2 L#0 (256KB) + L1d L#0 (32KB) + L1i L#0 (32KB) + Core L#0\n",
      "        PU L#0 (P#0)\n",
      "        PU L#1 (P#6)\n",
      "      L2 L#1 (256KB) + L1d L#1 (32KB) + L1i L#1 (32KB) + Core L#1\n",
      "        PU L#2 (P#1)\n",
      "        PU L#3 (P#7)\n",
      "      L2 L#2 (256KB) + L1d L#2 (32KB) + L1i L#2 (32KB) + Core L#2\n",
      "        PU L#4 (P#2)\n",
      "        PU L#5 (P#8)\n",
      "      L2 L#3 (256KB) + L1d L#3 (32KB) + L1i L#3 (32KB) + Core L#3\n",
      "        PU L#6 (P#3)\n",
      "        PU L#7 (P#9)\n",
      "      L2 L#4 (256KB) + L1d L#4 (32KB) + L1i L#4 (32KB) + Core L#4\n",
      "        PU L#8 (P#4)\n",
      "        PU L#9 (P#10)\n",
      "      L2 L#5 (256KB) + L1d L#5 (32KB) + L1i L#5 (32KB) + Core L#5\n",
      "        PU L#10 (P#5)\n",
      "        PU L#11 (P#11)\n",
      "  HostBridge\n",
      "    PCIBridge\n",
      "      PCI 01:00.0 (NVMExp)\n",
      "        Block(Disk) \"nvme0n1\"\n",
      "    PCIBridge\n",
      "      PCI 03:00.0 (VGA)\n",
      "    PCIBridge\n",
      "      PCI 04:00.0 (VGA)\n",
      "    PCI 00:11.4 (SATA)\n",
      "      Block(Removable Media Device) \"sr0\"\n",
      "      Block(Disk) \"sda\"\n",
      "    PCI 00:16.2 (IDE)\n",
      "    PCI 00:19.0 (Ethernet)\n",
      "      Net \"eth1\"\n",
      "    PCIBridge\n",
      "      PCIBridge\n",
      "        PCI 07:02.0 (Ethernet)\n",
      "          Net \"eth2\"\n",
      "        PCI 07:02.1 (Ethernet)\n",
      "          Net \"eth3\"\n",
      "    PCIBridge\n",
      "      PCI 08:00.0 (Ethernet)\n",
      "        Net \"eth4\"\n",
      "    PCI 00:1f.2 (SATA)\n",
      "      Block(Disk) \"sdd\"\n",
      "      Block(Disk) \"sdb\"\n",
      "      Block(Disk) \"sdc\"\n"
     ]
    }
   ],
   "source": [
    "!lstopo --of console"
   ]
  },
  {
   "cell_type": "code",
   "execution_count": 14,
   "id": "a98654ed-372a-4886-9292-32b31ae4ec2a",
   "metadata": {},
   "outputs": [],
   "source": [
    "#Does not work unless one restarts the process\n",
    "\n",
    "# print(\"Performances of the different algorithms for azimuthal integration of Eiger 4M image when using only 4 cores\")\n",
    "# mask = os.sched_getaffinity(0)\n",
    "# os.sched_setaffinity(0, [0,1,2,3])\n",
    "# for algo in (\"histogram\", \"csc\", \"csr\"):\n",
    "#     print(f\"Using algorithm {algo}:\", end=\" \")\n",
    "#     %timeit ai.integrate1d(img, nbins, method=(\"full\", algo, \"cython\"))\n",
    "# os.sched_setaffinity(0, mask)"
   ]
  },
  {
   "cell_type": "code",
   "execution_count": 16,
   "id": "32d5ebc6-3473-49a2-93e7-76e7bb8f17f1",
   "metadata": {},
   "outputs": [
    {
     "data": {
      "text/plain": [
       "<TimeitResult : 382 µs ± 0 ns per loop (mean ± std. dev. of 1 run, 1 loop each)>"
      ]
     },
     "execution_count": 16,
     "metadata": {},
     "output_type": "execute_result"
    }
   ],
   "source": [
    "%%timeit -r1 -n1 -o -q\n",
    "#Saving of a HDF5 file with many frames ...\n",
    "if not os.path.exists(filename):\n",
    "    with h5py.File(filename, \"w\") as h:\n",
    "        ds = h.create_dataset(\"data\", shape=(nbframes,)+shape, chunks=(1,)+shape, dtype=dtype, **cmp) \n",
    "        for i in range(nbframes):\n",
    "            ds[i] = frame + i%500 #Each frame has a different value to prevent caching effects"
   ]
  },
  {
   "cell_type": "code",
   "execution_count": 17,
   "id": "f82b2daf-77c2-4720-9848-6ca9c273707f",
   "metadata": {},
   "outputs": [
    {
     "name": "stdout",
     "output_type": "stream",
     "text": [
      "File size 9.214 GB with a compression ratio of 7.428x\n",
      "Write speed: 192416753.372 MB/s of uncompressed data, or 10723921.703 fps.\n"
     ]
    }
   ],
   "source": [
    "timing_write = _\n",
    "size=os.stat(filename).st_size\n",
    "print(f\"File size {size/(1024**3):.3f} GB with a compression ratio of {nbframes*numpy.prod(shape)*dtype.itemsize/size:.3f}x\")\n",
    "print(f\"Write speed: {nbframes*numpy.prod(shape)*dtype.itemsize/(1e6*timing_write.best):.3f} MB/s of uncompressed data, or {nbframes/timing_write.best:.3f} fps.\")"
   ]
  },
  {
   "cell_type": "markdown",
   "id": "dc086333-96da-47eb-8477-9a0a5f60bc20",
   "metadata": {},
   "source": [
    "Reading all data from HDF5 file is as slow as, if not slower than, writing. This is mostly due to the decompression and to the many memory allocation performed."
   ]
  },
  {
   "cell_type": "code",
   "execution_count": 18,
   "id": "a643e63d-1709-45b1-aaad-a542792b5a62",
   "metadata": {},
   "outputs": [
    {
     "data": {
      "text/plain": [
       "<TimeitResult : 43.2 s ± 0 ns per loop (mean ± std. dev. of 1 run, 1 loop each)>"
      ]
     },
     "execution_count": 18,
     "metadata": {},
     "output_type": "execute_result"
    }
   ],
   "source": [
    "%%timeit -r1 -n1 -o -q\n",
    "#Reading all frames and decompressing them\n",
    "buffer = numpy.zeros(shape, dtype=dtype)\n",
    "with h5py.File(filename, \"r\") as h:\n",
    "    ds = h[\"data\"]\n",
    "    for i in range(nbframes):\n",
    "        ds.read_direct(buffer, numpy.s_[i,:,:], numpy.s_[:,:])"
   ]
  },
  {
   "cell_type": "code",
   "execution_count": 19,
   "id": "847240c6-f9df-4626-b1a3-2197f535897c",
   "metadata": {},
   "outputs": [
    {
     "name": "stdout",
     "output_type": "stream",
     "text": [
      "Read speed: 1700.883 MB/s of uncompressed data, or 94.795 fps.\n"
     ]
    }
   ],
   "source": [
    "timing_read1 = _\n",
    "print(f\"Read speed: {nbframes*numpy.prod(shape)*dtype.itemsize/(1e6*timing_read1.best):.3f} MB/s of uncompressed data, or {nbframes/timing_read1.best:.3f} fps.\")"
   ]
  },
  {
   "cell_type": "code",
   "execution_count": 20,
   "id": "341d4b27-bbc3-4010-a577-820d20f89d72",
   "metadata": {},
   "outputs": [],
   "source": [
    "def decompress_bslz4_chunk(payload, dtype, chunk_shape):\n",
    "    \"\"\"This function decompresses ONE chunk with bitshuffle-LZ4. \n",
    "    The library needs to be compiled without OpenMP when using threads !\n",
    "    \n",
    "    :param payload: string with the compressed data as read by h5py.\n",
    "    :param dtype: data type of the stored content\n",
    "    :param chunk_shape: shape of one chunk\n",
    "    :return: decompressed chunk\"\"\"\n",
    "    total_nbytes, block_nbytes = struct.unpack(\">QI\", payload[:12])\n",
    "    block_size = block_nbytes // dtype.itemsize\n",
    "\n",
    "    arr = numpy.frombuffer(payload, dtype=numpy.uint8, offset=12)  # No copy here\n",
    "    chunk_data = bitshuffle.decompress_lz4(arr, chunk_shape, dtype, block_size)\n",
    "    return chunk_data"
   ]
  },
  {
   "cell_type": "code",
   "execution_count": 21,
   "id": "3492bfe6-c71e-40a2-98c4-7fd2cd7d7560",
   "metadata": {},
   "outputs": [
    {
     "data": {
      "text/plain": [
       "<TimeitResult : 1.75 s ± 0 ns per loop (mean ± std. dev. of 1 run, 1 loop each)>"
      ]
     },
     "execution_count": 21,
     "metadata": {},
     "output_type": "execute_result"
    }
   ],
   "source": [
    "%%timeit -r1 -n1 -o -q\n",
    "#Reading all frames without decompressing them\n",
    "with h5py.File(filename, \"r\") as h:\n",
    "    ds = h[\"data\"]\n",
    "    for i in range(ds.id.get_num_chunks()):\n",
    "        filter_mask, chunk = ds.id.read_direct_chunk(ds.id.get_chunk_info(i).chunk_offset)"
   ]
  },
  {
   "cell_type": "code",
   "execution_count": 22,
   "id": "95cccf4c-f63f-4ecb-9155-41e2a1821380",
   "metadata": {},
   "outputs": [
    {
     "name": "stdout",
     "output_type": "stream",
     "text": [
      "Read speed: 5651.281 MB/s of compressed data.\n",
      "HDF5 read speed (without decompression): 2339.686 fps.\n"
     ]
    }
   ],
   "source": [
    "timing_read2 = _\n",
    "print(f\"Read speed: {size/(1e6*timing_read2.best):.3f} MB/s of compressed data.\")\n",
    "print(f\"HDF5 read speed (without decompression): {nbframes/timing_read2.best:.3f} fps.\")"
   ]
  },
  {
   "cell_type": "markdown",
   "id": "8e1a4654-45d3-4ade-bda5-1d33ebd125a0",
   "metadata": {},
   "source": [
    "The reading part data is fairly fast, let's check the parsing of the HDF5 structure of the dataset:"
   ]
  },
  {
   "cell_type": "code",
   "execution_count": 23,
   "id": "5201a9dd-fd9e-4e87-a2bf-f045b8029c08",
   "metadata": {},
   "outputs": [
    {
     "data": {
      "text/plain": [
       "<TimeitResult : 353 ms ± 0 ns per loop (mean ± std. dev. of 1 run, 1 loop each)>"
      ]
     },
     "execution_count": 23,
     "metadata": {},
     "output_type": "execute_result"
    }
   ],
   "source": [
    "%%timeit -r1 -n1 -o -q\n",
    "#Parsing speed\n",
    "with h5py.File(filename, \"r\") as h:\n",
    "    ds = h[\"data\"]\n",
    "    res = [ds.id.get_chunk_info(i) for i in range(ds.id.get_num_chunks())]"
   ]
  },
  {
   "cell_type": "code",
   "execution_count": 24,
   "id": "27a4d511-7aa0-491a-8f01-37125c9e2fe5",
   "metadata": {},
   "outputs": [
    {
     "name": "stdout",
     "output_type": "stream",
     "text": [
      "Parse speed: 27998.567 MB/s of compressed data.\n",
      "HDF5 parse speed (without reading): 2339.686 fps.\n"
     ]
    }
   ],
   "source": [
    "timing_parse = _\n",
    "print(f\"Parse speed: {size/(1e6*timing_parse.best):.3f} MB/s of compressed data.\")\n",
    "print(f\"HDF5 parse speed (without reading): {nbframes/timing_read2.best:.3f} fps.\")"
   ]
  },
  {
   "cell_type": "code",
   "execution_count": 25,
   "id": "e112c3a7-060b-4cce-a6e1-6bb060bb21b8",
   "metadata": {},
   "outputs": [
    {
     "name": "stdout",
     "output_type": "stream",
     "text": [
      "9201f7da044d22f0246962379d954499c59614ba using HDF5\n",
      "9201f7da044d22f0246962379d954499c59614ba using direct file access\n"
     ]
    }
   ],
   "source": [
    "#Parsing  only: read position of the different chuncks within a HDF5 file:\n",
    "import hashlib\n",
    "idx = 10\n",
    "with h5py.File(filename, \"r\") as h:\n",
    "    ds = h[\"data\"]\n",
    "    indexes = [ds.id.get_chunk_info(i) for i in range(ds.id.get_num_chunks())]\n",
    "    filter_mask, chunk = ds.id.read_direct_chunk(indexes[idx].chunk_offset)\n",
    "    ref = hashlib.sha1(chunk).hexdigest()\n",
    "# and validate the indexes\n",
    "with open(filename, \"rb\") as f:\n",
    "    item = indexes[idx]\n",
    "    f.seek(item.byte_offset)\n",
    "    res = hashlib.sha1(f.read(item.size)).hexdigest()\n",
    "print(f\"{ref} using HDF5\\n{res} using direct file access\")"
   ]
  },
  {
   "cell_type": "code",
   "execution_count": 26,
   "id": "e06a3939-fe2a-485f-b774-229c75565334",
   "metadata": {},
   "outputs": [
    {
     "data": {
      "text/plain": [
       "<TimeitResult : 1.43 s ± 0 ns per loop (mean ± std. dev. of 1 run, 1 loop each)>"
      ]
     },
     "execution_count": 26,
     "metadata": {},
     "output_type": "execute_result"
    }
   ],
   "source": [
    "%%timeit -r1 -n1 -o -q\n",
    "#Reading all frames without using the HDF5 library (neither decompressing them)\n",
    "with open(filename, \"rb\") as f:\n",
    "    for item in indexes:\n",
    "        f.seek(item.byte_offset)\n",
    "        chunk = f.read(item.size)"
   ]
  },
  {
   "cell_type": "code",
   "execution_count": 27,
   "id": "ae59eaeb-0b0b-4f36-a4f7-990b7c61100f",
   "metadata": {},
   "outputs": [
    {
     "name": "stdout",
     "output_type": "stream",
     "text": [
      "Read speed: 6910.717 MB/s of compressed data.\n",
      "File read speed (without decompression): 2861.104 fps.\n",
      "Pure reading using the Python (file interface) is -1.9 % faster than using the h5py/HDF5 interface and removes the file-locking issue from HDF5 !\n"
     ]
    }
   ],
   "source": [
    "timing_read3 = _\n",
    "print(f\"Read speed: {size/(1e6*timing_read3.best):.3f} MB/s of compressed data.\")\n",
    "print(f\"File read speed (without decompression): {nbframes/timing_read3.best:.3f} fps.\")\n",
    "print(f\"Pure reading using the Python (file interface) is {100*timing_read2.best/(timing_read3.best+timing_parse.best)-100:.1f} % faster than using the h5py/HDF5 interface\"\n",
    "     \" and removes the file-locking issue from HDF5 !\")"
   ]
  },
  {
   "cell_type": "code",
   "execution_count": 28,
   "id": "59e6da20-bc46-42dd-830c-6f9b46c6e367",
   "metadata": {},
   "outputs": [
    {
     "data": {
      "text/plain": [
       "<TimeitResult : 1.78 s ± 0 ns per loop (mean ± std. dev. of 1 run, 1 loop each)>"
      ]
     },
     "execution_count": 28,
     "metadata": {},
     "output_type": "execute_result"
    }
   ],
   "source": [
    "%%timeit -r1 -n1 -o -q\n",
    "#Reading positions via HDF5 but frames are read directly\n",
    "with open(filename, \"rb\") as f:\n",
    "    with h5py.File(f, \"r\") as h:\n",
    "        ds = h[\"data\"]\n",
    "        for i in range(ds.id.get_num_chunks()):\n",
    "            frame_desc = ds.id.get_chunk_info(i)\n",
    "            f.seek(frame_desc.byte_offset)\n",
    "            chunk = f.read(frame_desc.size)"
   ]
  },
  {
   "cell_type": "code",
   "execution_count": 29,
   "id": "06209e35-1813-44f4-b340-b3e60b359a8d",
   "metadata": {},
   "outputs": [
    {
     "name": "stdout",
     "output_type": "stream",
     "text": [
      "Read speed: 5548.904 MB/s of compressed data.\n",
      "File read speed (without decompression): 2297.301 fps.\n",
      "Pure reading using the Python (file interface) is -1.8 % faster than using the h5py/HDF5 interface and removes the file-locking issue from HDF5 !\n"
     ]
    }
   ],
   "source": [
    "timing_read4 = _\n",
    "print(f\"Read speed: {size/(1e6*timing_read4.best):.3f} MB/s of compressed data.\")\n",
    "print(f\"File read speed (without decompression): {nbframes/timing_read4.best:.3f} fps.\")\n",
    "print(f\"Pure reading using the Python (file interface) is {100*timing_read2.best/(timing_read4.best)-100:.1f} % faster than using the h5py/HDF5 interface\"\n",
    "     \" and removes the file-locking issue from HDF5 !\")"
   ]
  },
  {
   "cell_type": "markdown",
   "id": "3cdcc158-260c-445c-acbb-8da51e3be6ca",
   "metadata": {},
   "source": [
    "## Parallel readers"
   ]
  },
  {
   "cell_type": "code",
   "execution_count": 46,
   "id": "def90b10-3d93-4051-98c4-6de6e7db3e37",
   "metadata": {},
   "outputs": [],
   "source": [
    "# a couple of utility functions\n",
    "def dummy_worker(qin, qout, funct=lambda item: item):\n",
    "    while True:\n",
    "        item = qin.get()\n",
    "        if item is None:\n",
    "            \n",
    "            qout.put(None)\n",
    "            qin.task_done()\n",
    "            return\n",
    "        qout.put(funct(item))\n",
    "        qin.task_done()\n",
    "\n",
    "def build_pool(nbthreads, qin, qout, worker=dummy_worker):\n",
    "    \"\"\"Build a pool of threads with workers, and starts them\"\"\"\n",
    "    pool = [threading.Thread(target=worker, name=f\"{worker.__name__}_{i:02d}\", args=(qin, qout)) for i in range(nbthreads)]\n",
    "    for thread in pool:\n",
    "        thread.start()\n",
    "    return pool\n",
    "\n",
    "def end_pool(pool):\n",
    "    \"\"\"Ends all threads from a pool by sending them a \"kill-pill\"\"\"\n",
    "    for thread in pool:\n",
    "        qin.put(None)\n",
    "\n",
    "\n",
    "#Small validation to check it works: \n",
    "qin = Queue()\n",
    "qout = Queue()\n",
    "pool=build_pool(4, qin, qout, dummy_worker)\n",
    "end_pool(pool)\n",
    "qin.join()"
   ]
  },
  {
   "cell_type": "code",
   "execution_count": 49,
   "id": "b9007ff3-99b1-4fb3-b72b-fca2e80f4a0c",
   "metadata": {},
   "outputs": [],
   "source": [
    "def parallel_reader(worker, nbthreads=nbthreads, wait=True):\n",
    "    qin = Queue()\n",
    "    qout = Queue()\n",
    "    pool = build_pool(nbthreads, qin, qout, worker=worker)\n",
    "    with h5py.File(filename, \"r\") as h:\n",
    "        ds = h[\"data\"]\n",
    "        for i in range(ds.id.get_num_chunks()):\n",
    "            qin.put(ds.id.get_chunk_info(i))\n",
    "    end_pool(pool)\n",
    "    if wait:\n",
    "        qin.join()\n",
    "    return qout"
   ]
  },
  {
   "cell_type": "code",
   "execution_count": 32,
   "id": "ac379e9d-07c3-4531-95c8-2eb506c06381",
   "metadata": {},
   "outputs": [
    {
     "name": "stdout",
     "output_type": "stream",
     "text": [
      "1.06 s ± 0 ns per loop (mean ± std. dev. of 1 run, 1 loop each)\n",
      "Read speed: 9290.658 MB/s of compressed data.\n",
      "File read speed (without decompression): 3846.423 fps.\n",
      "Pure reading using the Python (file interface) is 64.4 % faster than using the h5py/HDF5 interface\n"
     ]
    }
   ],
   "source": [
    "def reader_only1(qin, qout):\n",
    "    \"\"\"Read file using the Python file API\n",
    "    \n",
    "    :param qin: input queue, expects Item with chunk description\n",
    "    :param qout: output queue: puts item with index and integrated intensity\n",
    "    :return: nothing, used in a thread.\n",
    "    \"\"\"\n",
    "    with open(filename, \"rb\") as f:\n",
    "        while True:\n",
    "            item = qin.get()                \n",
    "            if item is None:\n",
    "                qin.task_done()\n",
    "                return\n",
    "            f.seek(item.byte_offset)\n",
    "            raw = f.read(item.size)\n",
    "            qin.task_done()\n",
    "            del raw\n",
    "\n",
    "timing_parallel_read1 =  %timeit -r1 -n1 -o parallel_reader(reader_only1)\n",
    "\n",
    "print(f\"Read speed: {size/(1e6*timing_parallel_read1.best):.3f} MB/s of compressed data.\")\n",
    "print(f\"File read speed (without decompression): {nbframes/timing_parallel_read1.best:.3f} fps.\")\n",
    "print(f\"Pure reading using the Python (file interface) is {100*timing_read2.best/(timing_parallel_read1.best)-100:.1f} % faster than using the h5py/HDF5 interface\")"
   ]
  },
  {
   "cell_type": "code",
   "execution_count": 33,
   "id": "2a2d2658-9176-4964-a7b8-d79423531110",
   "metadata": {},
   "outputs": [
    {
     "name": "stdout",
     "output_type": "stream",
     "text": [
      "1.06 s ± 0 ns per loop (mean ± std. dev. of 1 run, 1 loop each)\n",
      "Read speed: 9353.484 MB/s of compressed data.\n",
      "File read speed (without decompression): 3872.434 fps.\n",
      "Pure reading using the Python (file interface) is 65.5 % faster than using the h5py/HDF5 interface\n"
     ]
    }
   ],
   "source": [
    "def reader_only2(qin, qout):\n",
    "    \"\"\"Function representing one worker, used in a pool of worker.\n",
    "    \n",
    "    :param qin: input queue, expects Item with chunk description\n",
    "    :param qout: output queue: puts item with index and integrated intensity\n",
    "    :return: nothing, used in a thread.\n",
    "    \"\"\"\n",
    "    f = numpy.memmap(filename, dtype=numpy.uint8, mode=\"r\")\n",
    "    while True:\n",
    "        item = qin.get()                \n",
    "        if item is None:\n",
    "            qin.task_done()\n",
    "            del f\n",
    "            return\n",
    "        raw = numpy.array(f[item.byte_offset:item.byte_offset+item.size])\n",
    "        qin.task_done()\n",
    "        del raw\n",
    "        \n",
    "timing_parallel_read2 =  %timeit -r1 -n1 -o parallel_reader(reader_only2)\n",
    "\n",
    "print(f\"Read speed: {size/(1e6*timing_parallel_read2.best):.3f} MB/s of compressed data.\")\n",
    "print(f\"File read speed (without decompression): {nbframes/timing_parallel_read2.best:.3f} fps.\")\n",
    "print(f\"Pure reading using the Python (file interface) is {100*timing_read2.best/(timing_parallel_read2.best)-100:.1f} % faster than using the h5py/HDF5 interface\")"
   ]
  },
  {
   "cell_type": "code",
   "execution_count": 34,
   "id": "cc77c30b-ecff-430d-a036-b175ed30a861",
   "metadata": {},
   "outputs": [
    {
     "name": "stdout",
     "output_type": "stream",
     "text": [
      "Decompression speed of a single chunk/frame, filter_mask=0 should be null.\n",
      "7.5 ms ± 10.8 µs per loop (mean ± std. dev. of 3 runs, 100 loops each)\n",
      "The maximum decompression speed is 133.538 fps, single threaded, \n",
      "and could reach 1602.452 fps in parallel over 12 threads.\n"
     ]
    }
   ],
   "source": [
    "#Decompression speed:\n",
    "with h5py.File(filename, \"r\") as h:\n",
    "    ds = h[\"data\"]\n",
    "    filter_mask, chunk = ds.id.read_direct_chunk(ds.id.get_chunk_info(1).chunk_offset)\n",
    "print(f\"Decompression speed of a single chunk/frame, filter_mask={filter_mask} should be null.\")\n",
    "timing_decompress = %timeit -r3 -o decompress_bslz4_chunk(chunk, dtype, shape)\n",
    "print(f\"The maximum decompression speed is {1/timing_decompress.best:.3f} fps, single threaded, \\nand could reach {nbthreads/timing_decompress.best:.3f} fps in parallel over {nbthreads} threads.\")"
   ]
  },
  {
   "cell_type": "code",
   "execution_count": 36,
   "id": "a6070428-1ccc-46be-89e2-939aff4f8237",
   "metadata": {},
   "outputs": [
    {
     "data": {
      "text/plain": [
       "<TimeitResult : 1.68 s ± 0 ns per loop (mean ± std. dev. of 1 run, 1 loop each)>"
      ]
     },
     "execution_count": 36,
     "metadata": {},
     "output_type": "execute_result"
    }
   ],
   "source": [
    "%%timeit -r1 -n1 -o -q\n",
    "#Reading all frames without decompressing them (v2 using output buffer)\n",
    "cmp_buffer = numpy.empty(numpy.prod(shape)*dtype.itemsize, \"uint8\")\n",
    "with h5py.File(filename, \"r\") as h:\n",
    "    ds = h[\"data\"]\n",
    "    for i in range(ds.id.get_num_chunks()):\n",
    "        filter_mask, chunk = ds.id.read_direct_chunk(ds.id.get_chunk_info(i).chunk_offset, out=cmp_buffer)"
   ]
  },
  {
   "cell_type": "code",
   "execution_count": 37,
   "id": "18858110-02c0-4fdc-b2b7-eed0c8d77174",
   "metadata": {},
   "outputs": [
    {
     "name": "stdout",
     "output_type": "stream",
     "text": [
      "Read speed: 5902.938 MB/s of compressed data.\n",
      "HDF5 read speed (without decompression): 2443.874 fps.\n"
     ]
    }
   ],
   "source": [
    "timing_read2o = _\n",
    "print(f\"Read speed: {size/(1e6*timing_read2o.best):.3f} MB/s of compressed data.\")\n",
    "print(f\"HDF5 read speed (without decompression): {nbframes/timing_read2o.best:.3f} fps.\")"
   ]
  },
  {
   "cell_type": "markdown",
   "id": "9c04a3ee-ab2e-45f6-a179-0949de1baa24",
   "metadata": {},
   "source": [
    "## parallel reading+decompression"
   ]
  },
  {
   "cell_type": "code",
   "execution_count": 38,
   "id": "54a27741-438e-460c-9996-bf25102d9148",
   "metadata": {},
   "outputs": [
    {
     "name": "stdout",
     "output_type": "stream",
     "text": [
      "4.65 s ± 0 ns per loop (mean ± std. dev. of 1 run, 1 loop each)\n",
      "Read speed: 2129.609 MB/s of compressed data.\n",
      "File read speed (without decompression): 881.679 fps.\n",
      "Pure reading using the Python (file interface) is 830.1 % faster than using the h5py/HDF5 interface\n"
     ]
    }
   ],
   "source": [
    "def reader_decomp1(qin, qout):\n",
    "    \"\"\"read frames and decompress them\n",
    "    \n",
    "    :param qin: input queue, expects Item with chunk description\n",
    "    :param qout: output queue: puts item with index and integrated intensity\n",
    "    :return: nothing, used in a thread.\n",
    "    \"\"\"\n",
    "    with open(filename, \"rb\") as f:\n",
    "        while True:\n",
    "            item = qin.get()                \n",
    "            if item is None:\n",
    "                qin.task_done()\n",
    "                return\n",
    "            f.seek(item.byte_offset)\n",
    "            chunk = f.read(item.size)\n",
    "            frame = decompress_bslz4_chunk(chunk, dtype, shape)\n",
    "            del chunk\n",
    "            qin.task_done()\n",
    "            del frame\n",
    "            \n",
    "timing_parallel_read3 =  %timeit -r1 -n1 -o parallel_reader(reader_decomp1)\n",
    "\n",
    "print(f\"Read speed: {size/(1e6*timing_parallel_read3.best):.3f} MB/s of compressed data.\")\n",
    "print(f\"File read speed (without decompression): {nbframes/timing_parallel_read3.best:.3f} fps.\")\n",
    "print(f\"Pure reading using the Python (file interface) is {100*timing_read1.best/(timing_parallel_read3.best)-100:.1f} % faster than using the h5py/HDF5 interface\")"
   ]
  },
  {
   "cell_type": "code",
   "execution_count": 39,
   "id": "42fc1cdc-8df7-4446-bc78-4eb0fc16b361",
   "metadata": {},
   "outputs": [
    {
     "name": "stdout",
     "output_type": "stream",
     "text": [
      "4.23 s ± 0 ns per loop (mean ± std. dev. of 1 run, 1 loop each)\n",
      "Read speed: 2339.932 MB/s of compressed data.\n",
      "File read speed (without decompression): 968.755 fps.\n",
      "Pure reading using the Python (file interface) is 921.9 % faster than using the h5py/HDF5 interface\n"
     ]
    }
   ],
   "source": [
    "def reader_decomp2(qin, qout):\n",
    "    \"\"\"read frames and decompress them\n",
    "    \n",
    "    :param qin: input queue, expects Item with chunk description\n",
    "    :param qout: output queue: puts item with index and integrated intensity\n",
    "    :return: nothing, used in a thread.\n",
    "    \"\"\"\n",
    "    f = numpy.memmap(filename, dtype=numpy.uint8, mode=\"r\")\n",
    "    while True:\n",
    "        item = qin.get()                \n",
    "        if item is None:\n",
    "            qin.task_done()\n",
    "            del f\n",
    "            return\n",
    "        frame = decompress_bslz4_chunk(f[item.byte_offset:item.byte_offset+item.size], dtype, shape)\n",
    "        qin.task_done()\n",
    "        del frame\n",
    "            \n",
    "timing_parallel_read4 =  %timeit -r1 -n1 -o parallel_reader(reader_decomp2)\n",
    "\n",
    "print(f\"Read speed: {size/(1e6*timing_parallel_read4.best):.3f} MB/s of compressed data.\")\n",
    "print(f\"File read speed (without decompression): {nbframes/timing_parallel_read4.best:.3f} fps.\")\n",
    "print(f\"Pure reading using the Python (file interface) is {100*timing_read1.best/(timing_parallel_read4.best)-100:.1f} % faster than using the h5py/HDF5 interface\")"
   ]
  },
  {
   "cell_type": "markdown",
   "id": "9fccb178-94db-4bb4-a5e1-9cab60af0aeb",
   "metadata": {},
   "source": [
    "## Prepare the azimuthal integrator\n",
    "To allow the full parallelization of different integrators working in parallel, one must limit the number of Python call performed, this is why we need to extract the Cython integrator from AzimuthalIntegator. The integrator used here is a sparse matrix multiplication one with a CSC representation which is single-threaded. This engine is usually not the fastest but it is multitheading friendly."
   ]
  },
  {
   "cell_type": "code",
   "execution_count": 40,
   "id": "0814ccb4-2906-44e6-9061-bb36c5139b3e",
   "metadata": {},
   "outputs": [
    {
     "name": "stdout",
     "output_type": "stream",
     "text": [
      "54.2 ms ± 2.05 ms per loop (mean ± std. dev. of 3 runs, 10 loops each)\n",
      "The maximum achievable integration speed on a single core is 18.975 fps which does not look fancy,\n",
      "but parallelized over 12 threads, it could reach: 227.697 fps!\n"
     ]
    }
   ],
   "source": [
    "geo = {\"detector\": det, \n",
    "       \"wavelength\": 1e-10, \n",
    "       }\n",
    "ai = pyFAI.load(geo)\n",
    "omega = ai.solidAngleArray()\n",
    "res0 = ai.integrate1d(frame, nbins, method=(\"full\", \"csc\", \"cython\"))\n",
    "engine = ai.engines[res0.method].engine\n",
    "#This is how the engine works:\n",
    "res1 = engine.integrate_ng(frame, solidangle=omega)\n",
    "assert numpy.allclose(res0.intensity, res1.intensity)  # validates the equivalence of both approaches:\n",
    "timing_integration = %timeit -r3 -o engine.integrate_ng(frame, solidangle=omega)\n",
    "print(f\"The maximum achievable integration speed on a single core is {1/timing_integration.best:.3f} fps which does not look fancy,\\n\\\n",
    "but parallelized over {nbthreads} threads, it could reach: {nbthreads/timing_integration.best:.3f} fps!\")"
   ]
  },
  {
   "cell_type": "code",
   "execution_count": 41,
   "id": "59e5bc41-f960-47a3-a9d2-133c2131e60d",
   "metadata": {},
   "outputs": [
    {
     "data": {
      "text/plain": [
       "<TimeitResult : 4min 35s ± 0 ns per loop (mean ± std. dev. of 1 run, 1 loop each)>"
      ]
     },
     "execution_count": 41,
     "metadata": {},
     "output_type": "execute_result"
    }
   ],
   "source": [
    "%%timeit -o -r1 -n1 -q\n",
    "#Naive implementation ... read+integrate\n",
    "result0 = numpy.zeros((nbframes, nbins), dtype=numpy.float32)\n",
    "method = (\"full\", \"csr\", \"cython\")\n",
    "buffer = numpy.zeros(shape, dtype=dtype)\n",
    "with h5py.File(filename, \"r\") as h:\n",
    "    ds = h[\"data\"]\n",
    "    for i in range(nbframes):\n",
    "        ds.read_direct(buffer, numpy.s_[i,:,:], numpy.s_[:,:])\n",
    "        result0[i] = ai.integrate1d(buffer, nbins, method=method).intensity"
   ]
  },
  {
   "cell_type": "code",
   "execution_count": 42,
   "id": "ce61a7ec-577e-4e6a-bf59-e0cc8f60478d",
   "metadata": {},
   "outputs": [
    {
     "name": "stdout",
     "output_type": "stream",
     "text": [
      "The maximum achievable decompression+integration speed is 16.614 fps in serial \n",
      "and 199.368 fps in parallel on 12 threads\n",
      "but a naive implementation provides only 14.858 fps.\n"
     ]
    }
   ],
   "source": [
    "timing_naive = _\n",
    "print(f\"The maximum achievable decompression+integration speed is {1/(timing_decompress.best+timing_integration.best):.3f} fps in serial \\n\\\n",
    "and {nbthreads*1/(timing_decompress.best+timing_integration.best):.3f} fps in parallel on {nbthreads} threads\\n\\\n",
    "but a naive implementation provides only {nbframes/(timing_naive.best):.3f} fps.\")"
   ]
  },
  {
   "cell_type": "markdown",
   "id": "bbce30f0-4ed2-4f55-aa05-25c44446af7c",
   "metadata": {},
   "source": [
    "## Effective implementation using multithreading:\n",
    "* One `reader` which reads the dataset chunk-by-chunk and makes them available via an input-queue, called `qin`.\n",
    "* A pool of `worker`s: pool of the size of the number of cores. Each `worker` is doing the decompression of one chunk into one frame and the azimuthal integration of that frame. The integrated result is put into an output-queue, called `qout`.\n",
    "* 2 queues: `qin` and `qout`, the former is limited in size to prevent the filling-up of the memory, but large enough to feed the workers.\n",
    "\n",
    "The gathering of the data is performed in the main thread but it could also be in a separated thread.\n",
    "Each piece of data is associated with its index in the dataset using the `Item` named-tuple.\n",
    "\n",
    "Nota: I had a hard time to perform both reading and writing with HDF5 (even in different files). This is why the result is reconstructed in memory and the saving performed at the very end. Could be a bug in h5py."
   ]
  },
  {
   "cell_type": "code",
   "execution_count": 43,
   "id": "b0cffcf6-ede0-4cf0-8e38-f247e8c15352",
   "metadata": {},
   "outputs": [],
   "source": [
    "def reader(filename, h5path, queue, nbworkers):\n",
    "    \"\"\"Function reading the HDF5 file and enqueuing raw-chunks into the queue.\n",
    "    Used in a thread.\n",
    "    \n",
    "    :param filename: name of the HDF5 file\n",
    "    :param h5path: path to the dataset within the HDF5 file\n",
    "    :param queue: queue where to put read chunks\n",
    "    :return: nothing, used in a thread.\"\"\"\n",
    "    with h5py.File(filename, \"r\") as h:\n",
    "        ds = h[\"data\"]\n",
    "        for i in range(ds.id.get_num_chunks()):\n",
    "            filter_mask, chunk = ds.id.read_direct_chunk(ds.id.get_chunk_info(i).chunk_offset)\n",
    "            if filter_mask==0:\n",
    "                while queue.full():\n",
    "                    # slow down to prevent filling up memory\n",
    "                    os.sched_yield()\n",
    "                queue.put(Item(i, chunk))\n",
    "        #kills all worker when done\n",
    "        for i in range(nbworkers):\n",
    "            while queue.full():\n",
    "                os.sched_yield()\n",
    "            queue.put(Item(None, None))"
   ]
  },
  {
   "cell_type": "code",
   "execution_count": 44,
   "id": "f65a66c2-c8ed-4863-963a-ca76047db0c1",
   "metadata": {},
   "outputs": [],
   "source": [
    "def worker(qin, qout):\n",
    "    \"\"\"Function representing one worker, used in a pool of worker.\n",
    "    \n",
    "    :param qin: input queue, expects Item with index and compressed chunk\n",
    "    :param qout: output queue: puts item with index and integrated intensity\n",
    "    :return: nothing, used in a thread.\n",
    "    \"\"\"\n",
    "    while True:\n",
    "        item = qin.get()\n",
    "        index = item.index\n",
    "        if index is None: \n",
    "            qin.task_done()\n",
    "            qout.put(item)\n",
    "            return\n",
    "        frame = decompress_bslz4_chunk(item.data, dtype, shape)\n",
    "        qout.put(Item(index, engine.integrate_ng(frame, solidangle=omega).intensity))\n",
    "        qin.task_done()"
   ]
  },
  {
   "cell_type": "markdown",
   "id": "098d1606-9a59-49ab-9f50-0f950646a5f8",
   "metadata": {},
   "source": [
    "This cell contains all the processing for a serial reader + parallel (decompression+integration)"
   ]
  },
  {
   "cell_type": "code",
   "execution_count": 47,
   "id": "4852391c-3367-44e9-8d73-a53704c39ec2",
   "metadata": {},
   "outputs": [
    {
     "data": {
      "text/plain": [
       "<TimeitResult : 42.1 s ± 0 ns per loop (mean ± std. dev. of 1 run, 1 loop each)>"
      ]
     },
     "execution_count": 47,
     "metadata": {},
     "output_type": "execute_result"
    }
   ],
   "source": [
    "%%timeit -o -r1 -n1 -q\n",
    "# This is where all the magic is assembled\n",
    "\n",
    "# Define the two queues\n",
    "qin = Queue(maxsize=1000) # the size is used to slow-down the reading if needed\n",
    "qout = Queue()\n",
    "\n",
    "# Build the pool of workers\n",
    "pool=build_pool(nbthreads, qin, qout, worker=worker)\n",
    "# And start the reader who immediately starts filling the qin.\n",
    "threading.Thread(target=reader, name=\"reader\", args=(filename, \"data\", qin, len(pool))).start()\n",
    "\n",
    "#The main thread gathers the data in the `qout`\n",
    "result = numpy.zeros((nbframes, nbins), dtype=numpy.float32)\n",
    "remaining = len(pool) #Number of remaining active workers\n",
    "while remaining:\n",
    "    item = qout.get()\n",
    "    index = item.index\n",
    "    if index is None:\n",
    "        remaining -=1\n",
    "    else:\n",
    "        result[index] = item.data\n",
    "    qout.task_done()\n",
    "        \n",
    "# Finally ensure all tasks are done: this is redundant with remaining==0\n",
    "qin.join()\n",
    "qout.join()"
   ]
  },
  {
   "cell_type": "code",
   "execution_count": 48,
   "id": "e5c51b7f-7ebe-4f02-b142-4f06c1c52dba",
   "metadata": {},
   "outputs": [
    {
     "name": "stdout",
     "output_type": "stream",
     "text": [
      "Effective throughput: 97.266 fps and \n",
      "speed-up versus the naive version is 6.547x for a computer with 12 threads.\n"
     ]
    }
   ],
   "source": [
    "timing_parallel = _\n",
    "print(f\"Effective throughput: {nbframes/timing_parallel.best:.3f} fps and \\nspeed-up versus the naive version is {timing_naive.best/timing_parallel.best:0.3f}x for a computer with {nbthreads} threads.\")"
   ]
  },
  {
   "cell_type": "markdown",
   "id": "c0ad20b8-9d6c-43fa-a655-74ffd34f81bd",
   "metadata": {},
   "source": [
    "## Version bypassing the HDF5 reader"
   ]
  },
  {
   "cell_type": "code",
   "execution_count": 52,
   "id": "056704ff-f1b7-4165-a8aa-3ae99c2dc3a0",
   "metadata": {},
   "outputs": [
    {
     "name": "stdout",
     "output_type": "stream",
     "text": [
      "41.3 s ± 0 ns per loop (mean ± std. dev. of 1 run, 1 loop each)\n",
      "Effective throughput: 99.057 fps and \n",
      "speed-up versus the naive version is 6.667x for a computer with 12 threads.\n"
     ]
    }
   ],
   "source": [
    "def reader_decomp_integate1(qin, qout):\n",
    "    \"\"\"read frames and decompress them\n",
    "    \n",
    "    :param qin: input queue, expects Item with chunk description\n",
    "    :param qout: output queue: puts item with index and integrated intensity\n",
    "    :return: nothing, used in a thread.\n",
    "    \"\"\"\n",
    "    with open(filename, \"rb\") as f:\n",
    "        while True:\n",
    "            item = qin.get()                \n",
    "            if item is None:\n",
    "                qin.task_done()\n",
    "                return\n",
    "            f.seek(item.byte_offset)\n",
    "            chunk = f.read(item.size)\n",
    "            frame = decompress_bslz4_chunk(chunk, dtype, shape)\n",
    "            qout.put(Item(item[0][0], engine.integrate_ng(frame, solidangle=omega).intensity))\n",
    "            del chunk\n",
    "            del frame\n",
    "            qin.task_done()\n",
    "            \n",
    "\n",
    "def parallel_process(worker=dummy_worker):\n",
    "    qout = parallel_reader(worker)\n",
    "    result = numpy.zeros((nbframes, nbins), dtype=numpy.float32)\n",
    "    while qout.empty():\n",
    "        os.sched_yield()\n",
    "    frame_cnt = 0\n",
    "    while frame_cnt<nbframes:\n",
    "        item = qout.get()\n",
    "        qout.task_done()\n",
    "        index = item.index\n",
    "        if index is None:\n",
    "            continue\n",
    "        else:\n",
    "            result[index] = item.data\n",
    "            frame_cnt+=1\n",
    "    while not qout.empty():\n",
    "        qout.get()\n",
    "\n",
    "    qout.join()\n",
    "    return result\n",
    "\n",
    "timing_parallel_rdi1 =  %timeit -r1 -n1 -o parallel_process(reader_decomp_integate1)\n",
    "print(f\"Effective throughput: {nbframes/timing_parallel_rdi1.best:.3f} fps and \\nspeed-up versus the naive version is \\\n",
    "{timing_naive.best/timing_parallel_rdi1.best:0.3f}x for a computer with {nbthreads} threads.\")"
   ]
  },
  {
   "cell_type": "code",
   "execution_count": 55,
   "id": "c904333e-cfe6-4392-a47d-37e9d8d10fbe",
   "metadata": {},
   "outputs": [
    {
     "name": "stdout",
     "output_type": "stream",
     "text": [
      "39.8 s ± 0 ns per loop (mean ± std. dev. of 1 run, 1 loop each)\n",
      "Effective throughput: 102.851 fps and \n",
      "speed-up versus the naive version is        6.923x for a computer with 12 threads.\n"
     ]
    }
   ],
   "source": [
    "def reader_decomp_integate2(qin, qout):\n",
    "    \"\"\"read frames and decompress them\n",
    "    \n",
    "    :param qin: input queue, expects Item with chunk description\n",
    "    :param qout: output queue: puts item with index and integrated intensity\n",
    "    :return: nothing, used in a thread.\n",
    "    \"\"\"\n",
    "    f = numpy.memmap(filename, mode=\"r\")\n",
    "    while True:\n",
    "        item = qin.get()                \n",
    "        if item is None:\n",
    "            qin.task_done()\n",
    "            del f\n",
    "            return\n",
    "        frame = decompress_bslz4_chunk(f[item.byte_offset:item.byte_offset+item.size], dtype, shape)\n",
    "        qout.put(Item(item[0][0], engine.integrate_ng(frame, solidangle=omega).intensity))\n",
    "        del frame\n",
    "        qin.task_done()\n",
    "timing_parallel_rdi2 =  %timeit -r1 -n1 -o parallel_process(reader_decomp_integate2)\n",
    "print(f\"Effective throughput: {nbframes/timing_parallel_rdi2.best:.3f} fps and \\nspeed-up versus the naive version is \\\n",
    "       {timing_naive.best/timing_parallel_rdi2.best:0.3f}x for a computer with {nbthreads} threads.\")"
   ]
  },
  {
   "cell_type": "markdown",
   "id": "ad288c4c-c7df-40b1-81db-238a8fc3a626",
   "metadata": {},
   "source": [
    "## Final version\n",
    "\n",
    "One needs to replay the cell without the `timeit` decorator to retrieve the results (timeit discards them!). \n",
    "\n",
    "Here is a version in a function:"
   ]
  },
  {
   "cell_type": "code",
   "execution_count": 56,
   "id": "ffa40586-b043-424d-8d8f-096daad0573d",
   "metadata": {},
   "outputs": [
    {
     "name": "stdout",
     "output_type": "stream",
     "text": [
      "CPU times: user 7min 39s, sys: 10.3 s, total: 7min 49s\n",
      "Wall time: 41.3 s\n"
     ]
    }
   ],
   "source": [
    "# def integrate_hdf5(filename, dataset=\"/data\",nbthreads=nbthreads):\n",
    "\n",
    "#     return result\n",
    "\n",
    "%time result = parallel_process(reader_decomp_integate2)\n",
    "with h5py.File(\"results.h5\", \"w\") as results:\n",
    "    results.create_dataset(\"radial\", data=res0.radial)\n",
    "    results.create_dataset(\"integrated\", data=result)"
   ]
  },
  {
   "cell_type": "markdown",
   "id": "769fd274-e668-4065-ba8f-681a56906838",
   "metadata": {},
   "source": [
    "## Display some results\n",
    "Since the input data were all synthetic and similar, no great science is expected from this... but one can ensure each frame differs slightly from the neighbors with a pattern of 500 frames. "
   ]
  },
  {
   "cell_type": "code",
   "execution_count": 57,
   "id": "478cf30b-a1ca-4c62-8031-c364c2543816",
   "metadata": {},
   "outputs": [
    {
     "data": {
      "text/plain": [
       "<matplotlib.image.AxesImage at 0x7feb3b57b3d0>"
      ]
     },
     "execution_count": 57,
     "metadata": {},
     "output_type": "execute_result"
    },
    {
     "data": {
      "image/png": "[encoded data removed]",
      "text/plain": [
       "<Figure size 800x800 with 1 Axes>"
      ]
     },
     "metadata": {},
     "output_type": "display_data"
    }
   ],
   "source": [
    "fig,ax = subplots(figsize=(8,8))\n",
    "ax.imshow(result)"
   ]
  },
  {
   "cell_type": "markdown",
   "id": "094b673d-f373-431b-92ed-4c9ef9ff3c79",
   "metadata": {},
   "source": [
    "## Conclusion\n",
    "\n",
    "Reading Bitshuffle-LZ4 data can be parallelized using multi-threading in Python. \n",
    "\n",
    "The procedure is a bit tedious but not out of reach for a Python programmer: few threads and a couple of queues. \n",
    "This burden is worth when coupling decompression with azimuthal integration to reduce the amount of data  stored in memory.\n",
    "\n",
    "The performances obtained on a 64-core computer are close to what can be obtained from a GPU: ~500 fps\n",
    "The speed-up obtained with the procedure is 30x on a 64-core computer versus single threaded implementation, which demonstrates multithreading is worth the burden."
   ]
  },
  {
   "cell_type": "markdown",
   "id": "0d2b8105-71d9-4440-93f9-0a30f8f507cc",
   "metadata": {},
   "source": [
    "Thanks again to the French-CRG for the computer."
   ]
  },
  {
   "cell_type": "code",
   "execution_count": null,
   "id": "b90f5458-9fd4-4d83-bfbd-017e3a9365dd",
   "metadata": {},
   "outputs": [],
   "source": [
    "print(f\"Total processing time: {time.time()-start_time:.3f} s\")"
   ]
  }
 ],
 "metadata": {
  "kernelspec": {
   "display_name": "Python 3 (ipykernel)",
   "language": "python",
   "name": "python3"
  },
  "language_info": {
   "codemirror_mode": {
    "name": "ipython",
    "version": 3
   },
   "file_extension": ".py",
   "mimetype": "text/x-python",
   "name": "python",
   "nbconvert_exporter": "python",
   "pygments_lexer": "ipython3",
   "version": "3.11.0"
  }
 },
 "nbformat": 4,
 "nbformat_minor": 5
}
