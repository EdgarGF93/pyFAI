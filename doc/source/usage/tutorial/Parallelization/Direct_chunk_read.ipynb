{
 "cells": [
  {
   "cell_type": "markdown",
   "id": "c38240c3-7646-497b-a3ac-d9cfa6c974f2",
   "metadata": {},
   "source": [
    "# Parallel processing of a stack of data stored in HDF5\n",
    "\n",
    "This tutorial explains how it is possible to treat in parallel a large HDF5 dataset which does not fit into the computer memory.\n",
    "\n",
    "For this tutorial, a very recent version of pyFAI is needed, newer then summer 2022. It demonstrates features wich will only be available in release 0.22.\n",
    "\n",
    "This tutorial expains how to take benefit from Multithreading. This framework is not very popular in the Python world due to the GIL, but properly writted C-code which does release the GIL can be very fast, sometimes as fast as GPU code (on large computers).\n",
    "\n",
    "Credits:\n",
    "\n",
    "* Thomas Vincent (ESRF) for the parallel decompression of HDF5 chunks and the Jupyter-slurm\n",
    "* Pierre Paleo (ESRF) for struggling with this kind of stuff with GPUs\n",
    "* Jon Wright (ESRF) for the CSC integrator, while implemented in serial is multithreading friendly\n",
    "* The French-CRG for providing a manycore computer (2 x 32-core AMD EPYC 75F3)\n",
    "\n",
    "Nota: No GPU is needed for this tutorial !"
   ]
  },
  {
   "cell_type": "code",
   "execution_count": 1,
   "id": "638e4966-b05e-47e2-a4b0-5843b1b5ff93",
   "metadata": {},
   "outputs": [],
   "source": [
    "import sys, os, collections, struct, time\n",
    "import numpy, pyFAI\n",
    "import h5py, hdf5plugin\n",
    "from queue import Queue\n",
    "import threading\n",
    "import bitshuffle\n",
    "import multiprocessing\n",
    "start_time = time.time()\n",
    "Item = collections.namedtuple(\"Item\", \"index data\")\n",
    "# Ensure OpenMP is disabled\n",
    "os.environ[\"OMP_NUM_THREADS\"] = \"1\""
   ]
  },
  {
   "cell_type": "code",
   "execution_count": 2,
   "id": "210e4de4-184b-4c64-872e-5c1aaf080501",
   "metadata": {},
   "outputs": [
    {
     "name": "stdout",
     "output_type": "stream",
     "text": [
      "Working with 16 threads but OpenMP needs to be disabled !\n"
     ]
    }
   ],
   "source": [
    "nbthreads=multiprocessing.cpu_count()\n",
    "print(f\"Working with {nbthreads} threads but OpenMP needs to be disabled !\")"
   ]
  },
  {
   "cell_type": "code",
   "execution_count": 3,
   "id": "8e649b79-f024-4635-ac8f-fc68827c60aa",
   "metadata": {},
   "outputs": [
    {
     "name": "stdout",
     "output_type": "stream",
     "text": [
      "Architecture :                          x86_64\n",
      "Mode(s) opératoire(s) des processeurs : 32-bit, 64-bit\n",
      "Boutisme :                              Little Endian\n",
      "Tailles des adresses:                   43 bits physical, 48 bits virtual\n",
      "Processeur(s) :                         16\n",
      "Liste de processeur(s) en ligne :       0-15\n",
      "Thread(s) par cœur :                    2\n",
      "Cœur(s) par socket :                    8\n",
      "Socket(s) :                             1\n",
      "Nœud(s) NUMA :                          1\n",
      "Identifiant constructeur :              AuthenticAMD\n",
      "Famille de processeur :                 23\n",
      "Modèle :                                49\n",
      "Nom de modèle :                         AMD EPYC 7262 8-Core Processor\n",
      "Révision :                              0\n",
      "Accroissement de fréquence :            activé\n",
      "Vitesse du processeur en MHz :          1663.743\n",
      "Vitesse maximale du processeur en MHz : 3400,0000\n",
      "Vitesse minimale du processeur en MHz : 1500,0000\n",
      "BogoMIPS :                              6400.02\n",
      "Virtualisation :                        AMD-V\n",
      "Cache L1d :                             256 KiB\n",
      "Cache L1i :                             256 KiB\n",
      "Cache L2 :                              4 MiB\n",
      "Cache L3 :                              128 MiB\n",
      "Nœud NUMA 0 de processeur(s) :          0-15\n",
      "Vulnerability Itlb multihit:            Not affected\n",
      "Vulnerability L1tf:                     Not affected\n",
      "Vulnerability Mds:                      Not affected\n",
      "Vulnerability Meltdown:                 Not affected\n",
      "Vulnerability Mmio stale data:          Not affected\n",
      "Vulnerability Retbleed:                 Mitigation; untrained return thunk; SMT \n",
      "                                        enabled with STIBP protection\n",
      "Vulnerability Spec store bypass:        Mitigation; Speculative Store Bypass dis\n",
      "                                        abled via prctl and seccomp\n",
      "Vulnerability Spectre v1:               Mitigation; usercopy/swapgs barriers and\n",
      "                                         __user pointer sanitization\n",
      "Vulnerability Spectre v2:               Mitigation; Retpolines, IBPB conditional\n",
      "                                        , STIBP always-on, RSB filling, PBRSB-eI\n",
      "                                        BRS Not affected\n",
      "Vulnerability Srbds:                    Not affected\n",
      "Vulnerability Tsx async abort:          Not affected\n",
      "Drapeaux :                              fpu vme de pse tsc msr pae mce cx8 apic \n",
      "                                        sep mtrr pge mca cmov pat pse36 clflush \n",
      "                                        mmx fxsr sse sse2 ht syscall nx mmxext f\n",
      "                                        xsr_opt pdpe1gb rdtscp lm constant_tsc r\n",
      "                                        ep_good nopl nonstop_tsc cpuid extd_apic\n",
      "                                        id aperfmperf pni pclmulqdq monitor ssse\n",
      "                                        3 fma cx16 sse4_1 sse4_2 movbe popcnt ae\n",
      "                                        s xsave avx f16c rdrand lahf_lm cmp_lega\n",
      "                                        cy svm extapic cr8_legacy abm sse4a misa\n",
      "                                        lignsse 3dnowprefetch osvw ibs skinit wd\n",
      "                                        t tce topoext perfctr_core perfctr_nb bp\n",
      "                                        ext perfctr_llc mwaitx cpb cat_l3 cdp_l3\n",
      "                                         hw_pstate sme ssbd mba sev ibrs ibpb st\n",
      "                                        ibp vmmcall sev_es fsgsbase bmi1 avx2 sm\n",
      "                                        ep bmi2 cqm rdt_a rdseed adx smap clflus\n",
      "                                        hopt clwb sha_ni xsaveopt xsavec xgetbv1\n",
      "                                         xsaves cqm_llc cqm_occup_llc cqm_mbm_to\n",
      "                                        tal cqm_mbm_local clzero irperf xsaveerp\n",
      "                                        tr rdpru wbnoinvd amd_ppin arat npt lbrv\n",
      "                                         svm_lock nrip_save tsc_scale vmcb_clean\n",
      "                                         flushbyasid decodeassists pausefilter p\n",
      "                                        fthreshold avic v_vmsave_vmload vgif umi\n",
      "                                        p rdpid overflow_recov succor smca\n"
     ]
    }
   ],
   "source": [
    "!lscpu"
   ]
  },
  {
   "cell_type": "markdown",
   "id": "d2c54705-4b6c-444b-b9f1-b763f6a8d915",
   "metadata": {},
   "source": [
    "## Setup the enviroment:\n",
    "\n",
    "This is a purely virtual experiment, we will use an Eiger 4M detector with data integrated over 1000 bins. Those parameters can be tuned.\n",
    "\n",
    "Random data are generated, to keep this file fairly small, it is generated with small numbers which compress nicely. The speed of the drive where you will put the file is likely to have a huge impact !"
   ]
  },
  {
   "cell_type": "code",
   "execution_count": 4,
   "id": "1cd22d82-d4fb-4d28-9960-0442989ca18c",
   "metadata": {},
   "outputs": [
    {
     "data": {
      "text/plain": [
       "HDF5PluginBuildConfig(openmp=False, native=True, sse2=True, avx2=True, cpp11=True, filter_file_extension='.so', embedded_filters=('blosc', 'bshuf', 'bzip2', 'fcidecomp', 'lz4', 'zfp', 'zstd'))"
      ]
     },
     "execution_count": 4,
     "metadata": {},
     "output_type": "execute_result"
    }
   ],
   "source": [
    "det = pyFAI.detector_factory(\"eiger_4M\")\n",
    "shape = det.shape\n",
    "dtype = numpy.dtype(\"uint32\")\n",
    "filename = \"/tmp/big.h5\"\n",
    "nbins = 1000\n",
    "cmp = hdf5plugin.Bitshuffle()\n",
    "hdf5plugin.config"
   ]
  },
  {
   "cell_type": "code",
   "execution_count": 5,
   "id": "daf4eec8-e364-43b6-b5af-8f279c6aed38",
   "metadata": {},
   "outputs": [
    {
     "name": "stdout",
     "output_type": "stream",
     "text": [
      "Number of frames the computer can host in memory: 3754.675\n"
     ]
    }
   ],
   "source": [
    "mem_bytes = os.sysconf('SC_PAGE_SIZE') * os.sysconf('SC_PHYS_PAGES')\n",
    "print(f\"Number of frames the computer can host in memory: {mem_bytes/(numpy.prod(shape)*dtype.itemsize):.3f}\")\n",
    "if os.environ.get('SLURM_MEM_PER_NODE'):\n",
    "    print(f\"Number of frames the computer can host in memory with SLURM restrictions: {int(os.environ['SLURM_MEM_PER_NODE'])*(1<<20)/(numpy.prod(shape)*dtype.itemsize):.3f}\")"
   ]
  },
  {
   "cell_type": "code",
   "execution_count": 6,
   "id": "bd038dc8-1e6d-4bd6-95b3-303f2d0f250b",
   "metadata": {},
   "outputs": [],
   "source": [
    "#The computer being limited to 64G of RAM, the number of frames actually possible is 3800.\n",
    "nbframes = 4096 # slightly larger than the maximum achievable ! Such a dataset should not host in memory."
   ]
  },
  {
   "cell_type": "code",
   "execution_count": 7,
   "id": "a32bd8fb-9b64-4564-9a69-67a759bf3427",
   "metadata": {},
   "outputs": [],
   "source": [
    "#Prepare a frame with little count so that it compresses well\n",
    "frame = numpy.random.poisson(10, size=shape).astype(dtype)"
   ]
  },
  {
   "cell_type": "code",
   "execution_count": 8,
   "id": "32d5ebc6-3473-49a2-93e7-76e7bb8f17f1",
   "metadata": {},
   "outputs": [
    {
     "name": "stdout",
     "output_type": "stream",
     "text": [
      "1min 2s ± 0 ns per loop (mean ± std. dev. of 1 run, 1 loop each)\n"
     ]
    },
    {
     "data": {
      "text/plain": [
       "<TimeitResult : 1min 2s ± 0 ns per loop (mean ± std. dev. of 1 run, 1 loop each)>"
      ]
     },
     "execution_count": 8,
     "metadata": {},
     "output_type": "execute_result"
    }
   ],
   "source": [
    "%%timeit -r1 -n1 -o\n",
    "with h5py.File(filename, \"w\") as h:\n",
    "    ds = h.create_dataset(\"data\", shape=(nbframes,)+shape, chunks=(1,)+shape, dtype=dtype, **cmp) \n",
    "    for i in range(nbframes):\n",
    "        ds[i] = numpy.random.randint(0,10)+frame #Each frame a a different (random) value to prevent caching effects"
   ]
  },
  {
   "cell_type": "code",
   "execution_count": 9,
   "id": "f82b2daf-77c2-4720-9848-6ca9c273707f",
   "metadata": {},
   "outputs": [
    {
     "name": "stdout",
     "output_type": "stream",
     "text": [
      "File size 11.082 GB with a compression ratio of 6.176x\n",
      "Write speed: 1174.479 MB/s of uncompressed data\n"
     ]
    }
   ],
   "source": [
    "timing_write = _\n",
    "size=os.stat(filename).st_size\n",
    "print(f\"File size {size/(1024**3):.3f} GB with a compression ratio of {nbframes*numpy.prod(shape)*dtype.itemsize/size:.3f}x\")\n",
    "print(f\"Write speed: {nbframes*numpy.prod(shape)*dtype.itemsize/(1e6*timing_write.best):.3f} MB/s of uncompressed data\")"
   ]
  },
  {
   "cell_type": "markdown",
   "id": "dc086333-96da-47eb-8477-9a0a5f60bc20",
   "metadata": {},
   "source": [
    "Reading all data from HDF5 file is as slow if not slower than the writing. This is mostly due to the decompression and to the many memory allocation performed."
   ]
  },
  {
   "cell_type": "code",
   "execution_count": 10,
   "id": "a643e63d-1709-45b1-aaad-a542792b5a62",
   "metadata": {},
   "outputs": [
    {
     "name": "stdout",
     "output_type": "stream",
     "text": [
      "57.3 s ± 0 ns per loop (mean ± std. dev. of 1 run, 1 loop each)\n"
     ]
    },
    {
     "data": {
      "text/plain": [
       "<TimeitResult : 57.3 s ± 0 ns per loop (mean ± std. dev. of 1 run, 1 loop each)>"
      ]
     },
     "execution_count": 10,
     "metadata": {},
     "output_type": "execute_result"
    }
   ],
   "source": [
    "%%timeit -r1 -n1 -o\n",
    "#Reader\n",
    "buffer = numpy.zeros(shape, dtype=dtype)\n",
    "with h5py.File(filename, \"r\") as h:\n",
    "    ds = h[\"data\"]\n",
    "    for i in range(nbframes):\n",
    "        ds.read_direct(buffer, numpy.s_[i,:,:], numpy.s_[:,:])"
   ]
  },
  {
   "cell_type": "code",
   "execution_count": 11,
   "id": "847240c6-f9df-4626-b1a3-2197f535897c",
   "metadata": {},
   "outputs": [
    {
     "name": "stdout",
     "output_type": "stream",
     "text": [
      "Read speed: 1282.887 MB/s of uncompressed data.\n"
     ]
    }
   ],
   "source": [
    "timing_read1 = _\n",
    "print(f\"Read speed: {nbframes*numpy.prod(shape)*dtype.itemsize/(1e6*timing_read1.best):.3f} MB/s of uncompressed data.\")"
   ]
  },
  {
   "cell_type": "code",
   "execution_count": 12,
   "id": "341d4b27-bbc3-4010-a577-820d20f89d72",
   "metadata": {},
   "outputs": [],
   "source": [
    "def decompress_bslz4_chunk(payload, dtype, chunk_shape):\n",
    "    \"\"\"This function decompresses ONE chunk with bitshuffle-LZ4. \n",
    "    The library needs to be compiled without OpenMP when using threads !\n",
    "    \n",
    "    :param payload: string with the compressed data as read by h5py.\n",
    "    :param dtype: data type of the stored content\n",
    "    :param chunk_shape: shape of one chunk\n",
    "    :return: decompressed chunk\"\"\"\n",
    "    total_nbytes, block_nbytes = struct.unpack(\">QI\", payload[:12])\n",
    "    block_size = block_nbytes // dtype.itemsize\n",
    "\n",
    "    arr = numpy.frombuffer(payload, dtype=numpy.uint8, offset=12)  # No copy here\n",
    "    chunk_data = bitshuffle.decompress_lz4(arr, chunk_shape, dtype, block_size)\n",
    "    return chunk_data"
   ]
  },
  {
   "cell_type": "code",
   "execution_count": 13,
   "id": "3492bfe6-c71e-40a2-98c4-7fd2cd7d7560",
   "metadata": {},
   "outputs": [
    {
     "name": "stdout",
     "output_type": "stream",
     "text": [
      "3.07 s ± 0 ns per loop (mean ± std. dev. of 1 run, 1 loop each)\n"
     ]
    },
    {
     "data": {
      "text/plain": [
       "<TimeitResult : 3.07 s ± 0 ns per loop (mean ± std. dev. of 1 run, 1 loop each)>"
      ]
     },
     "execution_count": 13,
     "metadata": {},
     "output_type": "execute_result"
    }
   ],
   "source": [
    "%%timeit -r1 -n1 -o\n",
    "chunk = None\n",
    "with h5py.File(filename, \"r\") as h:\n",
    "    ds = h[\"data\"]\n",
    "    for i in range(ds.id.get_num_chunks()):\n",
    "        filter_mask, chunk = ds.id.read_direct_chunk(ds.id.get_chunk_info(i).chunk_offset)\n",
    "        # decompress_bslz4_chunk(chunk, dtype, shape)"
   ]
  },
  {
   "cell_type": "code",
   "execution_count": 14,
   "id": "95cccf4c-f63f-4ecb-9155-41e2a1821380",
   "metadata": {},
   "outputs": [
    {
     "name": "stdout",
     "output_type": "stream",
     "text": [
      "Read speed: 3879.348 MB/s of compressed data.\n",
      "HDF5 read speed (without decompression): 1335.318 fps\n"
     ]
    }
   ],
   "source": [
    "timing_read2 = _\n",
    "print(f\"Read speed: {size/(1e6*timing_read2.best):.3f} MB/s of compressed data.\")\n",
    "print(f\"HDF5 read speed (without decompression): {nbframes/timing_read2.best:.3f} fps\")"
   ]
  },
  {
   "cell_type": "markdown",
   "id": "8e1a4654-45d3-4ade-bda5-1d33ebd125a0",
   "metadata": {},
   "source": [
    "But the reading part data is fairly fast, if one does not decompress the data."
   ]
  },
  {
   "cell_type": "code",
   "execution_count": 15,
   "id": "cc77c30b-ecff-430d-a036-b175ed30a861",
   "metadata": {},
   "outputs": [
    {
     "name": "stdout",
     "output_type": "stream",
     "text": [
      "0\n",
      "16.5 ms ± 16 µs per loop (mean ± std. dev. of 3 runs, 100 loops each)\n",
      "The maximum decompression speed is 60.567 fps single threaded \n",
      "and could reach 969.067 fps in parallel.\n"
     ]
    }
   ],
   "source": [
    "#Decompression speed:\n",
    "with h5py.File(filename, \"r\") as h:\n",
    "    ds = h[\"data\"]\n",
    "    filter_mask, chunk = ds.id.read_direct_chunk(ds.id.get_chunk_info(1).chunk_offset)\n",
    "print(filter_mask)\n",
    "timing_decompress = %timeit -r3 -o decompress_bslz4_chunk(chunk, dtype, shape)\n",
    "print(f\"The maximum decompression speed is {1/timing_decompress.best:.3f} fps single threaded \\nand could reach {nbthreads/timing_decompress.best:.3f} fps in parallel.\")"
   ]
  },
  {
   "cell_type": "markdown",
   "id": "9fccb178-94db-4bb4-a5e1-9cab60af0aeb",
   "metadata": {},
   "source": [
    "## Prepare the azimuthal integrator\n",
    "To allow the full parallelization of different integrators working in parallel on must limit the number of Python call performed, this is why we need to extract the Cython integrator from AzimuthalIntegator. The integrator used here is a sparse matric multiplication one with a CSC representation which is single-threaded. This engine is usually not very fast but it is multitheading friendly as we will demonstrate."
   ]
  },
  {
   "cell_type": "code",
   "execution_count": 16,
   "id": "0814ccb4-2906-44e6-9061-bb36c5139b3e",
   "metadata": {},
   "outputs": [
    {
     "name": "stdout",
     "output_type": "stream",
     "text": [
      "48.8 ms ± 47.9 µs per loop (mean ± std. dev. of 3 runs, 10 loops each)\n",
      "The maximum achievable integration speed on a single core is 20.503 fps which does not look fancy,\n",
      "but parallelized it could reach: 328.045 fps\n"
     ]
    }
   ],
   "source": [
    "geo = {\"detector\": det, \n",
    "       \"wavelength\": 1e-10, \n",
    "       \"rot3\":0} #work around a bug https://github.com/silx-kit/pyFAI/pull/1749\n",
    "ai = pyFAI.load(geo)\n",
    "omega = ai.solidAngleArray()\n",
    "res0 = ai.integrate1d(frame, nbins, method=(\"full\", \"csc\", \"cython\"))\n",
    "engine = ai.engines[res0.method].engine\n",
    "#This is how the engine works:\n",
    "res1 = engine.integrate_ng(frame, solidangle=omega)\n",
    "assert numpy.allclose(res0.intensity, res1.intensity)  # validates the equivalence of both approaches:\n",
    "timing_integration = %timeit -r3 -o engine.integrate_ng(frame, solidangle=omega)\n",
    "print(f\"The maximum achievable integration speed on a single core is {1/timing_integration.best:.3f} fps which does not look fancy,\\n\\\n",
    "but parallelized it could reach: {nbthreads/timing_integration.best:.3f} fps\")"
   ]
  },
  {
   "cell_type": "code",
   "execution_count": 17,
   "id": "59e5bc41-f960-47a3-a9d2-133c2131e60d",
   "metadata": {},
   "outputs": [
    {
     "name": "stdout",
     "output_type": "stream",
     "text": [
      "5min 36s ± 0 ns per loop (mean ± std. dev. of 1 run, 1 loop each)\n"
     ]
    },
    {
     "data": {
      "text/plain": [
       "<TimeitResult : 5min 36s ± 0 ns per loop (mean ± std. dev. of 1 run, 1 loop each)>"
      ]
     },
     "execution_count": 17,
     "metadata": {},
     "output_type": "execute_result"
    }
   ],
   "source": [
    "%%timeit -o -r1 -n1\n",
    "#Naive implementation ... read+integrate\n",
    "result0 = numpy.zeros((nbframes, nbins), dtype=numpy.float32)\n",
    "method = (\"full\", \"csr\", \"cython\")\n",
    "buffer = numpy.zeros(shape, dtype=dtype)\n",
    "with h5py.File(filename, \"r\") as h:\n",
    "    ds = h[\"data\"]\n",
    "    for i in range(nbframes):\n",
    "        ds.read_direct(buffer, numpy.s_[i,:,:], numpy.s_[:,:])\n",
    "        result0[i] = ai.integrate1d(buffer, nbins, method=method).intensity"
   ]
  },
  {
   "cell_type": "code",
   "execution_count": 18,
   "id": "ce61a7ec-577e-4e6a-bf59-e0cc8f60478d",
   "metadata": {},
   "outputs": [
    {
     "name": "stdout",
     "output_type": "stream",
     "text": [
      "The maximum achievable decompression+integration speed is 15.318 fps in serial \n",
      "and 245.081 fps in parallel \n",
      "but a naive implementation provides only 12.174  fps\n"
     ]
    }
   ],
   "source": [
    "timing_naive = _\n",
    "print(f\"The maximum achievable decompression+integration speed is {1/(timing_decompress.best+timing_integration.best):.3f} fps in serial \\n\\\n",
    "and {nbthreads*1/(timing_decompress.best+timing_integration.best):.3f} fps in parallel \\n\\\n",
    "but a naive implementation provides only {nbframes/(timing_naive.best):.3f}  fps\")"
   ]
  },
  {
   "cell_type": "markdown",
   "id": "bbce30f0-4ed2-4f55-aa05-25c44446af7c",
   "metadata": {},
   "source": [
    "## Effective implementation using multithreading:\n",
    "* One `reader` which reads the dataset chunk-by-chunk and makes them available via an input-queue, called `qin`\n",
    "* A pool of `worker`s: pool of the size of the number of cores. Each `worker` is doing the decompression of one chunk into one frame and the azimuthal integration of that frame. The integrated result is put into an output-queue, called `qout`.\n",
    "* 2 queues: `qin` and `qout`\n",
    "\n",
    "The gathering of the data is performed in the main thread but it could also be in a separated thread.\n",
    "Each piece of data is associated with its index in the dataset using the `Item` named-tuple.\n",
    "\n",
    "Nota: I had a hard time to perform both reading and writing with HDF5 (even in different files). This is why the result is reconstructed in memory and the saving performed at the very end."
   ]
  },
  {
   "cell_type": "code",
   "execution_count": 19,
   "id": "f65a66c2-c8ed-4863-963a-ca76047db0c1",
   "metadata": {},
   "outputs": [],
   "source": [
    "def worker(qin, qout):\n",
    "    \"\"\"Function representing one worker, used in a pool of worker.\n",
    "    \n",
    "    :param qin: input queue, expects Item with index and compressed chunk\n",
    "    :param qout: output queue: puts item with index and integrated intensity\n",
    "    :return: nothing, used in a thread.\n",
    "    \"\"\"\n",
    "    while True:\n",
    "        item = qin.get()\n",
    "        index = item.index\n",
    "        if index<0: \n",
    "            # print(threading.current_thread().name + \" finished\")\n",
    "            qin.task_done()\n",
    "            qout.put(item)\n",
    "            return\n",
    "        frame = decompress_bslz4_chunk(item.data, dtype, shape)\n",
    "        qout.put(Item(index, engine.integrate_ng(frame, solidangle=omega).intensity))\n",
    "        qin.task_done()"
   ]
  },
  {
   "cell_type": "code",
   "execution_count": 20,
   "id": "b0cffcf6-ede0-4cf0-8e38-f247e8c15352",
   "metadata": {},
   "outputs": [],
   "source": [
    "def reader(filename, h5path, queue, nbworkers):\n",
    "    \"\"\"Function reading the HDF5 file and enqueuing raw-chunks into the queue.\n",
    "    Used in a thread.\n",
    "    \n",
    "    :param filename: name of the HDF5 file\n",
    "    :param h5path: path to the dataset within the HDF5 file\n",
    "    :param nbworker: number of worker to kill after the processing\n",
    "    :return: nothing, used in a thread.\"\"\"\n",
    "    with h5py.File(filename, \"r\") as h:\n",
    "        ds = h[\"data\"]\n",
    "        for i in range(ds.id.get_num_chunks()):\n",
    "            filter_mask, chunk = ds.id.read_direct_chunk(ds.id.get_chunk_info(i).chunk_offset)\n",
    "            if filter_mask==0:\n",
    "                while queue.qsize()>1000:\n",
    "                    #slow down to prevent filling up memory\n",
    "                    time.sleep(0.1)\n",
    "                queue.put(Item(i, chunk))\n",
    "        # print(threading.current_thread().name + \" finished\")\n",
    "        #kills all worker when done\n",
    "        for i in range(nbworkers):\n",
    "            queue.put(Item(-1, None))"
   ]
  },
  {
   "cell_type": "code",
   "execution_count": 21,
   "id": "7dae767c-ac68-48fa-9909-f46a9d783be1",
   "metadata": {},
   "outputs": [],
   "source": [
    "def build_pool(nbthreads, qin, qout):\n",
    "    \"\"\"Build a pool of threads with workers\"\"\"\n",
    "    pool = [threading.Thread(target=worker, name=f\"worker_{i:02d}\", args=(qin, qout)) for i in range(nbthreads)]\n",
    "    for thread in pool:\n",
    "        thread.start()\n",
    "    return pool\n",
    "\n",
    "def end_pool(pool):\n",
    "    \"\"\"Ends all threads from a pool by sending them a \"kill-pill\"\"\"\n",
    "    for thread in pool:\n",
    "        qin.put(Item(-1, None))\n",
    "        \n",
    "#Small validation to check it works: \n",
    "qin = Queue()\n",
    "qout = Queue()\n",
    "pool=build_pool(4, qin, qout)\n",
    "end_pool(pool)"
   ]
  },
  {
   "cell_type": "markdown",
   "id": "098d1606-9a59-49ab-9f50-0f950646a5f8",
   "metadata": {},
   "source": [
    "This cell contains all the processing for a serial reader + parallel (decompression+integration)"
   ]
  },
  {
   "cell_type": "code",
   "execution_count": 22,
   "id": "4852391c-3367-44e9-8d73-a53704c39ec2",
   "metadata": {},
   "outputs": [
    {
     "name": "stdout",
     "output_type": "stream",
     "text": [
      "30.4 s ± 0 ns per loop (mean ± std. dev. of 1 run, 1 loop each)\n"
     ]
    },
    {
     "data": {
      "text/plain": [
       "<TimeitResult : 30.4 s ± 0 ns per loop (mean ± std. dev. of 1 run, 1 loop each)>"
      ]
     },
     "execution_count": 22,
     "metadata": {},
     "output_type": "execute_result"
    }
   ],
   "source": [
    "%%timeit -o -r1 -n1\n",
    "# This is where all the magic is assembled\n",
    "\n",
    "# Define the two queues\n",
    "qin = Queue()\n",
    "qout = Queue()\n",
    "\n",
    "# Build the pool of workers\n",
    "pool=build_pool(nbthreads, qin, qout)\n",
    "# And start the reader who immediately starts filling the qin.\n",
    "threading.Thread(target=reader, name=\"reader\", args=(filename, \"data\", qin, len(pool))).start()\n",
    "\n",
    "#The main thread gathers the data in the `qout`\n",
    "result = numpy.zeros((nbframes, nbins), dtype=numpy.float32)\n",
    "remaining = len(pool) #Number of remaining active workers\n",
    "while remaining:\n",
    "    item = qout.get()\n",
    "    index = item.index\n",
    "    if index<0:\n",
    "        remaining -=1\n",
    "    else:\n",
    "        result[index] = item.data\n",
    "    qout.task_done()\n",
    "        \n",
    "# Finally ensure all tasks are done: this should be redundant with finished==len(pool)\n",
    "qin.join()\n",
    "qout.join()"
   ]
  },
  {
   "cell_type": "code",
   "execution_count": 23,
   "id": "e5c51b7f-7ebe-4f02-b142-4f06c1c52dba",
   "metadata": {},
   "outputs": [
    {
     "name": "stdout",
     "output_type": "stream",
     "text": [
      "Effective throughput: 134.684 fps and \n",
      "speed-up versus the naive version is 11.064x for a computer with 16 threaads.\n"
     ]
    }
   ],
   "source": [
    "timing_parallel = _\n",
    "print(f\"Effective throughput: {nbframes/timing_parallel.best:.3f} fps and \\nspeed-up versus the naive version is {timing_naive.best/timing_parallel.best:0.3f}x for a computer with {nbthreads} threaads.\")"
   ]
  },
  {
   "cell_type": "markdown",
   "id": "ad288c4c-c7df-40b1-81db-238a8fc3a626",
   "metadata": {},
   "source": [
    "One needs to replay the cell without the timeit to retrieve the results (timeit discards them!)"
   ]
  },
  {
   "cell_type": "code",
   "execution_count": 24,
   "id": "ffa40586-b043-424d-8d8f-096daad0573d",
   "metadata": {},
   "outputs": [],
   "source": [
    "# Build the pool of workers\n",
    "pool=build_pool(nbthreads, qin, qout)\n",
    "# And start the reader who immediately starts filling the qin.\n",
    "threading.Thread(target=reader, name=\"reader\", args=(filename, \"data\", qin, len(pool))).start()\n",
    "\n",
    "#The main thread gathers the data in the `qout`\n",
    "result = numpy.zeros((nbframes, nbins), dtype=numpy.float32)\n",
    "remaining = len(pool) #Number of remaining active workers\n",
    "while remaining:\n",
    "    item = qout.get()\n",
    "    index = item.index\n",
    "    if index<0:\n",
    "        remaining -=1\n",
    "    else:\n",
    "        result[index] = item.data\n",
    "    qout.task_done()\n",
    "#Save the results\n",
    "with h5py.File(\"results.h5\", \"w\") as results:\n",
    "    results.create_dataset(\"radial\", data=res0.radial)\n",
    "    results.create_dataset(\"integrated\", data=result)"
   ]
  },
  {
   "cell_type": "markdown",
   "id": "769fd274-e668-4065-ba8f-681a56906838",
   "metadata": {},
   "source": [
    "## Display some results\n",
    "Since the input data were all synthetic and similar, no great science is expected from this... but one can ensure each frame differs slightly from the neighbors. "
   ]
  },
  {
   "cell_type": "code",
   "execution_count": 25,
   "id": "478cf30b-a1ca-4c62-8031-c364c2543816",
   "metadata": {},
   "outputs": [
    {
     "data": {
      "text/plain": [
       "<matplotlib.image.AxesImage at 0x7f1ef0c668e0>"
      ]
     },
     "execution_count": 25,
     "metadata": {},
     "output_type": "execute_result"
    },
    {
     "data": {
      "image/png": "[encoded data removed]",
      "text/plain": [
       "<Figure size 432x288 with 1 Axes>"
      ]
     },
     "metadata": {
      "needs_background": "light"
     },
     "output_type": "display_data"
    }
   ],
   "source": [
    "%matplotlib inline\n",
    "from matplotlib.pyplot import subplots\n",
    "fig,ax = subplots()\n",
    "ax.imshow(result)"
   ]
  },
  {
   "cell_type": "markdown",
   "id": "094b673d-f373-431b-92ed-4c9ef9ff3c79",
   "metadata": {},
   "source": [
    "## Conclusion\n",
    "\n",
    "Reading Bitshuffle-LZ4 data can be parallelized using multithreading in Python. \n",
    "\n",
    "The procedure is a bit tedious but not out of reach for a Python programmer: few threads and a couple of queues. \n",
    "This burden is worth when coupling decompression with azmuthal integration of the frame to reduce the amount of data to store in memory.\n",
    "\n",
    "The performances obtained on a 64-core computer are close to what can be obtained from a GPU: 500 fps\n",
    "The speed-up obtained with the procedure is 26x on a 64 core computer version single threaded implementation, which demonstrates multithreading is worth the burden. The speed-up is far from being "
   ]
  },
  {
   "cell_type": "markdown",
   "id": "0d2b8105-71d9-4440-93f9-0a30f8f507cc",
   "metadata": {},
   "source": [
    "Thanks again to the French-CRG for the computer."
   ]
  },
  {
   "cell_type": "code",
   "execution_count": 26,
   "id": "b90f5458-9fd4-4d83-bfbd-017e3a9365dd",
   "metadata": {},
   "outputs": [
    {
     "name": "stdout",
     "output_type": "stream",
     "text": [
      "Total processing time: 537.061 s\n"
     ]
    }
   ],
   "source": [
    "print(f\"Total processing time: {time.time()-start_time:.3f} s\")"
   ]
  }
 ],
 "metadata": {
  "kernelspec": {
   "display_name": "Python 3 (ipykernel)",
   "language": "python",
   "name": "python3"
  },
  "language_info": {
   "codemirror_mode": {
    "name": "ipython",
    "version": 3
   },
   "file_extension": ".py",
   "mimetype": "text/x-python",
   "name": "python",
   "nbconvert_exporter": "python",
   "pygments_lexer": "ipython3",
   "version": "3.9.2"
  }
 },
 "nbformat": 4,
 "nbformat_minor": 5
}
