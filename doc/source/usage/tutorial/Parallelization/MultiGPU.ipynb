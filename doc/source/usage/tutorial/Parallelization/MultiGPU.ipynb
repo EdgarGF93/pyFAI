{
 "cells": [
  {
   "cell_type": "markdown",
   "id": "60736944-f728-4729-9275-0c55fa2b29ea",
   "metadata": {},
   "source": [
    "# Multiprocessing on GPU\n",
    "\n",
    "In this tutorial, the idea is to parallelized the reading of several HDF5 files in different processes and to perform the azimuthal integration on the GPU together with the Bitshuffle-LZ decompression.\n",
    "\n",
    "The size of the problem is 1000 files containing 1000 frames each of 4Mpix. Reduced data are 1000x1000x1000 in single precision float.\n",
    "\n",
    "This is an extreme case where we will try how to use all resources of the computer, so the first thing to do is to determine the topology of the computer:\n",
    "\n",
    "**Disclaimer:**\n",
    "* We use `multiprocess` instead of the `multiprocessing` library to be able to demonstrate the precedure with the jupuyter notebook."
   ]
  },
  {
   "cell_type": "code",
   "execution_count": 19,
   "id": "64ae7c41-c094-4b79-96ec-020bff748f40",
   "metadata": {},
   "outputs": [
    {
     "name": "stdout",
     "output_type": "stream",
     "text": [
      "Failed to open topo.png for writing (File exists)\n"
     ]
    }
   ],
   "source": [
    "%matplotlib inline\n",
    "#Topology of the computer:\n",
    "!lstopo topo.png"
   ]
  },
  {
   "cell_type": "markdown",
   "id": "b61fd2c7-a635-4f50-8689-b8da97c12a6e",
   "metadata": {},
   "source": [
    "![Computer topology](topo.png \"Computer topology\")"
   ]
  },
  {
   "cell_type": "code",
   "execution_count": 23,
   "id": "8dd653b1-3040-4f08-9bfe-1b1178cfcde4",
   "metadata": {},
   "outputs": [
    {
     "name": "stdout",
     "output_type": "stream",
     "text": [
      "pyFAI version:  0.22.0-dev10\n",
      "OpenCL devices:\n",
      "[0] NVIDIA CUDA: (0,0) NVIDIA RTX A5000, (0,1) Quadro M2000\n",
      "[1] Intel(R) OpenCL: (1,0) Intel(R) Xeon(R) CPU E5-1650 v4 @ 3.60GHz\n",
      "[2] Intel(R) OpenCL: (2,0) Intel(R) Xeon(R) CPU E5-1650 v4 @ 3.60GHz\n",
      "[3] Intel(R) FPGA Emulation Platform for OpenCL(TM): (3,0) Intel(R) FPGA Emulation Device\n"
     ]
    }
   ],
   "source": [
    "import os\n",
    "import glob\n",
    "import concurrent\n",
    "import time\n",
    "import json\n",
    "from matplotlib.pyplot import subplots\n",
    "import multiprocess\n",
    "from multiprocess import Process, Value, Array\n",
    "if \"mpctx\" in globals():\n",
    "    mpctx = multiprocess.get_context('spawn')\n",
    "else:\n",
    "    multiprocess.set_start_method('spawn')\n",
    "    mpctx = multiprocess.get_context('spawn')\n",
    "import numpy\n",
    "import hdf5plugin\n",
    "import h5py\n",
    "import pyFAI\n",
    "print(\"pyFAI version: \", pyFAI.version)\n",
    "import SharedArray\n",
    "from silx.opencl import ocl\n",
    "from silx.opencl.codec.bitshuffle_lz4 import BitshuffleLz4\n",
    "import inspect\n",
    "import collections\n",
    "Item = collections.namedtuple(\"Item\", \"index filename\")\n",
    "MAIN_PROCESS = multiprocess.parent_process() is None\n",
    "print(ocl)"
   ]
  },
  {
   "cell_type": "code",
   "execution_count": 27,
   "id": "7c6aaba7-377d-4478-87b4-45b1b85c7ce8",
   "metadata": {},
   "outputs": [
    {
     "data": {
      "text/plain": [
       "'/tmp/big_????.h5'"
      ]
     },
     "execution_count": 27,
     "metadata": {},
     "output_type": "execute_result"
    }
   ],
   "source": [
    "#This cell contains the parameters for all the processing\n",
    "params = {\n",
    "    \"DEVICES\": [[0,0],[0,1]],\n",
    "    \"NWORKERS\": 32,\n",
    "    \"FRAME_PER_FILE\": 1000,\n",
    "    \"NFILES\" : 1000,\n",
    "    \"NBINS\" : 1000,\n",
    "    \"DETECTOR\":\"Eiger_4M\",\n",
    "    \"pathname\" : \"/tmp/big_%04d.h5\",\n",
    "    \"pathmask\" : \"/tmp/big_????.h5\",\n",
    "    \"dtype\" : \"float32\",\n",
    "    \"SHARED_NAME\" : \"shm://multigpu\",\n",
    "    \"array_shape\" : [1000, 1000, 1000],\n",
    "    }\n",
    "with open(\"param.json\", \"w\") as w: w.write(json.dumps(params, indent=2))\n",
    "for k,v in params.items():\n",
    "    globals()[k] = v"
   ]
  },
  {
   "cell_type": "code",
   "execution_count": 4,
   "id": "0f58cd73-78b5-4b6e-a6cd-2d553d35f3fd",
   "metadata": {},
   "outputs": [],
   "source": [
    "def build_integrator(detector=DETECTOR):\n",
    "    \"Build an azimuthal integrator with a dummy geometry\"\n",
    "    geo = {\"detector\": detector, \n",
    "           \"wavelength\": 1e-10, \n",
    "           \"rot3\":0} #work around a bug https://github.com/silx-kit/pyFAI/pull/1749\n",
    "    ai = pyFAI.load(geo)\n",
    "    return ai"
   ]
  },
  {
   "cell_type": "code",
   "execution_count": 5,
   "id": "1d4a5604-4c2d-4bdb-aea8-63114f9e43c4",
   "metadata": {},
   "outputs": [
    {
     "data": {
      "text/plain": [
       "['/tmp/big_0000.h5',\n",
       " '/tmp/big_0001.h5',\n",
       " '/tmp/big_0002.h5',\n",
       " '/tmp/big_0003.h5',\n",
       " '/tmp/big_0004.h5']"
      ]
     },
     "execution_count": 5,
     "metadata": {},
     "output_type": "execute_result"
    }
   ],
   "source": [
    "# Generate a set of files\n",
    "def generate_one_frame(ai, unit=\"q_nm^-1\", dtype=\"uint32\"):\n",
    "    \"\"\"Prepare a frame with little count so that it compresses well\"\"\"\n",
    "    qmax = ai.array_from_unit(unit=unit).max()\n",
    "    q = numpy.linspace(0, qmax, 100)\n",
    "    img = ai.calcfrom1d(q, 100/(1+q*q))\n",
    "    frame = numpy.random.poisson(img).astype(dtype)\n",
    "    return frame\n",
    "\n",
    "def generate_files(img):\n",
    "    cmp = hdf5plugin.Bitshuffle()\n",
    "    filename = pathname%0\n",
    "    shape = img.shape\n",
    "    with h5py.File(filename, \"w\") as h:\n",
    "        ds = h.create_dataset(\"data\", shape=(FRAME_PER_FILE,)+shape, chunks=(1,)+shape, dtype=img.dtype, **cmp) \n",
    "        for i in range(FRAME_PER_FILE):\n",
    "            ds[i] = img + i%500 #Each frame has a different value to prevent caching effects\n",
    "    res = [filename]\n",
    "    for i in range(1, NFILES):\n",
    "        new_file = pathname%i\n",
    "        os.link(filename,new_file)\n",
    "        res.append(new_file)\n",
    "    return res\n",
    "\n",
    "# Create a set of files with dummy data in them:\n",
    "if len(glob.glob(pathmask)) == NFILES: \n",
    "    input_files = glob.glob(pathmask)\n",
    "    input_files.sort()\n",
    "else:\n",
    "    for f in glob.glob(pathmask):\n",
    "        os.remove(f)\n",
    "    input_files = generate_files(generate_one_frame(build_integrator(DETECTOR)))\n",
    "input_files[:5]"
   ]
  },
  {
   "cell_type": "code",
   "execution_count": 6,
   "id": "89a5845f-1ce6-41e9-9b1a-4ce532058d4d",
   "metadata": {},
   "outputs": [],
   "source": [
    "#This is allows to create and destroy shared numpy arrays\n",
    "\n",
    "def create_shared_array(shape, dtype=\"float32\", name=SHARED_NAME, create=False):\n",
    "    if create:\n",
    "        ary = SharedArray.create(name, shape, dtype=dtype)\n",
    "    else:\n",
    "        ary = SharedArray.attach(name)\n",
    "    return ary\n",
    "\n",
    "def release_shared(name=SHARED_NAME):\n",
    "    if MAIN_PROCESS:\n",
    "        SharedArray.delete(name)\n",
    "\n",
    "result_array = create_shared_array(array_shape, dtype, SHARED_NAME, create=MAIN_PROCESS)"
   ]
  },
  {
   "cell_type": "code",
   "execution_count": 7,
   "id": "dc73341d-85d8-4a60-9085-3a556312a8a2",
   "metadata": {},
   "outputs": [],
   "source": [
    "def worker(rank, queue, shm_name, counter):\n",
    "    \"\"\"Function representing one worker, used in a pool of worker.\n",
    "    \n",
    "    :param rank: integer, index of the worker.\n",
    "    :param queue: input queue, expects Item with index and name of the file to process\n",
    "    :param shm_name: name of the output shared memory to put integrated intensities\n",
    "    :param counter: decremented when quits\n",
    "    :return: nothing, used in a process.\n",
    "    \"\"\"\n",
    "    def new_engine(engine, wg):\n",
    "        \"Change workgroup size of an engine\"\n",
    "        return engine.__class__((engine._data, engine._indices, engine._indptr), \n",
    "                              engine.size, empty=engine.empty, unit=engine.unit, \n",
    "                              bin_centers=engine.bin_centers, azim_centers = engine.azim_centers,  \n",
    "                              ctx=engine.ctx, block_size=wg)\n",
    "    #imports:\n",
    "    import pyFAI\n",
    "    import numpy\n",
    "    import SharedArray\n",
    "    from silx.opencl.codec.bitshuffle_lz4 import BitshuffleLz4\n",
    "    import h5py\n",
    "    import json\n",
    "    #load parameters:\n",
    "    for k,v in json.load(open(\"param.json\")).items():\n",
    "        globals()[k] = v\n",
    "    #Start up the integrator:\n",
    "    ai = pyFAI.load({\"detector\": DETECTOR, \n",
    "                     \"wavelength\": 1e-10, \n",
    "                     \"rot3\":0})\n",
    "    blank = numpy.zeros(ai.detector.shape, dtype=\"uint32\")\n",
    "    method = (\"full\", \"csr\", \"opencl\", DEVICES[rank%len(DEVICES)])\n",
    "    res = ai.integrate1d(blank, param.NBINS, method=method)\n",
    "    omega = ai.solidAngleArray()\n",
    "    engine = ai.engines[res.method].engine\n",
    "    print(res.method)\n",
    "    omega_crc = engine.on_device[\"solidangle\"]\n",
    "    engine = new_engine(engine, 512)\n",
    "   \n",
    "    gpu_decompressor = BitshuffleLz4(2000000, size, dtype=blank.dtype, ctx=engine.ctx)\n",
    "    gpu_decompressor.block_size = 128\n",
    "    result_array = SharedArray.attach(SHARED_NAME)\n",
    "    \n",
    "    while True:\n",
    "        item = queue.get()\n",
    "        print(f\"{rank}: got {item}\")\n",
    "        index = item.index\n",
    "        if index<0: \n",
    "            with counter.get_lock():\n",
    "                counter.value -= 1\n",
    "            return\n",
    "        with h5py.File(item.filename, \"r\") as h5:\n",
    "            ds = h5[\"data\"]\n",
    "            for i in range(ds.id.get_num_chunks()):\n",
    "                filter_mask, chunk = ds.id.read_direct_chunk(ds.id.get_chunk_info(i).chunk_offset)\n",
    "                if filter_mask == 0:\n",
    "                    # print(f\"{rank}: process frame #{i}\")\n",
    "                    dec = gpu_decompressor(chunk)\n",
    "                    intensity = engine.integrate_ng(dec, solidangle=omega, solidangle_checksum=omega_crc).intensity\n",
    "                    result_array[index, i,:] = intensity.astype(param.dtype)"
   ]
  },
  {
   "cell_type": "code",
   "execution_count": 8,
   "id": "c80957b0-fbe3-4692-8536-a56e321b5ba4",
   "metadata": {},
   "outputs": [],
   "source": [
    "def build_pool(nbprocess, queue, shm_name, counter):\n",
    "    \"\"\"Build a pool of processes with workers, and starts them\"\"\"\n",
    "    pool = [Process(target=worker, name=f\"worker_{i:02d}\", args=(i, queue, shm_name, counter)) for i in range(nbprocess)]\n",
    "    for process in pool:\n",
    "        process.start()\n",
    "    return pool\n",
    "\n",
    "def end_pool(pool, queue):\n",
    "    \"\"\"Ends all processes from a pool by sending them a \"kill-pill\"\"\"\n",
    "    for process in pool:\n",
    "        queue.put(Item(-1, None))\n"
   ]
  },
  {
   "cell_type": "code",
   "execution_count": 9,
   "id": "6d5d1cf8-a8c6-4e42-b9c3-34d008f25825",
   "metadata": {},
   "outputs": [
    {
     "data": {
      "text/plain": [
       "[<Process name='worker_00' parent=1618548 initial>,\n",
       " <Process name='worker_01' parent=1618548 initial>,\n",
       " <Process name='worker_02' parent=1618548 initial>,\n",
       " <Process name='worker_03' parent=1618548 initial>,\n",
       " <Process name='worker_04' parent=1618548 initial>,\n",
       " <Process name='worker_05' parent=1618548 initial>]"
      ]
     },
     "execution_count": 9,
     "metadata": {},
     "output_type": "execute_result"
    }
   ],
   "source": [
    "# Build the pool of workers\n",
    "start_time = time.perf_counter()\n",
    "queue = mpctx.Queue()\n",
    "counter = mpctx.Value(\"i\", NWORKERS)\n",
    "pool = [Process(target=worker, name=f\"worker_{i:02d}\", args=(i, queue, SHARED_NAME, counter)) for i in range(NWORKERS)]\n",
    "pool"
   ]
  },
  {
   "cell_type": "code",
   "execution_count": 10,
   "id": "afb18b69-77ac-442e-b624-1ecb5ec7d9a0",
   "metadata": {},
   "outputs": [
    {
     "data": {
      "text/plain": [
       "[<Process name='worker_00' pid=1618575 parent=1618548 started>,\n",
       " <Process name='worker_01' pid=1618576 parent=1618548 started>,\n",
       " <Process name='worker_02' pid=1618577 parent=1618548 started>,\n",
       " <Process name='worker_03' pid=1618578 parent=1618548 started>,\n",
       " <Process name='worker_04' pid=1618579 parent=1618548 started>,\n",
       " <Process name='worker_05' pid=1618580 parent=1618548 started>]"
      ]
     },
     "execution_count": 10,
     "metadata": {},
     "output_type": "execute_result"
    }
   ],
   "source": [
    "for p in pool: p.start()\n",
    "pool"
   ]
  },
  {
   "cell_type": "code",
   "execution_count": 11,
   "id": "9b9ef84b-650b-4b8e-87df-104d6aea6953",
   "metadata": {},
   "outputs": [
    {
     "data": {
      "text/plain": [
       "[<Process name='worker_00' pid=1618575 parent=1618548 started>,\n",
       " <Process name='worker_01' pid=1618576 parent=1618548 started>,\n",
       " <Process name='worker_02' pid=1618577 parent=1618548 started>,\n",
       " <Process name='worker_03' pid=1618578 parent=1618548 started>,\n",
       " <Process name='worker_04' pid=1618579 parent=1618548 started>,\n",
       " <Process name='worker_05' pid=1618580 parent=1618548 started>]"
      ]
     },
     "execution_count": 11,
     "metadata": {},
     "output_type": "execute_result"
    }
   ],
   "source": [
    "for idx, fn in enumerate(input_files):        queue.put(Item(idx, fn))\n",
    "pool"
   ]
  },
  {
   "cell_type": "code",
   "execution_count": 12,
   "id": "0a1491ab-d03c-4685-8adf-0b0de570a033",
   "metadata": {},
   "outputs": [
    {
     "name": "stdout",
     "output_type": "stream",
     "text": [
      "run-time: 141.852s\n"
     ]
    }
   ],
   "source": [
    "end_pool(pool, queue)\n",
    "while counter.value:\n",
    "    time.sleep(1e-3)\n",
    "run_time = time.perf_counter()-start_time\n",
    "print(f\"run-time: {run_time:.3f}s\")"
   ]
  },
  {
   "cell_type": "code",
   "execution_count": 13,
   "id": "3a91d75f-baf2-44df-b57b-2776f5ca5f4b",
   "metadata": {},
   "outputs": [
    {
     "data": {
      "text/plain": [
       "0"
      ]
     },
     "execution_count": 13,
     "metadata": {},
     "output_type": "execute_result"
    }
   ],
   "source": [
    "counter.value"
   ]
  },
  {
   "cell_type": "code",
   "execution_count": 14,
   "id": "58c44cc3-6218-428b-8d42-02e12506fe55",
   "metadata": {},
   "outputs": [
    {
     "data": {
      "text/plain": [
       "array([[[1.01676102e+02, 9.65956879e+01, 1.00264305e+02, ...,\n",
       "         5.77889204e-01, 7.37409592e-01, 7.65784085e-01],\n",
       "        [1.02676102e+02, 9.75956879e+01, 1.01264305e+02, ...,\n",
       "         1.65420544e+00, 1.81388271e+00, 1.84239841e+00],\n",
       "        [1.03676102e+02, 9.85956879e+01, 1.02264305e+02, ...,\n",
       "         2.73052168e+00, 2.89035583e+00, 2.91901278e+00],\n",
       "        ...,\n",
       "        [5.98676086e+02, 5.93595825e+02, 5.97264465e+02, ...,\n",
       "         5.35507080e+02, 5.35744568e+02, 5.35843140e+02],\n",
       "        [5.99676086e+02, 5.94595764e+02, 5.98264526e+02, ...,\n",
       "         5.36583374e+02, 5.36820984e+02, 5.36919739e+02],\n",
       "        [6.00676147e+02, 5.95595764e+02, 5.99264465e+02, ...,\n",
       "         5.37659668e+02, 5.37897461e+02, 5.37996338e+02]],\n",
       "\n",
       "       [[1.01676102e+02, 9.65956879e+01, 1.00264305e+02, ...,\n",
       "         5.77889204e-01, 7.37409592e-01, 7.65784085e-01],\n",
       "        [1.02676102e+02, 9.75956879e+01, 1.01264305e+02, ...,\n",
       "         1.65420544e+00, 1.81388271e+00, 1.84239841e+00],\n",
       "        [1.03676102e+02, 9.85956879e+01, 1.02264305e+02, ...,\n",
       "         2.73052168e+00, 2.89035583e+00, 2.91901278e+00],\n",
       "        ...,\n",
       "        [5.98676086e+02, 5.93595825e+02, 5.97264465e+02, ...,\n",
       "         5.35507080e+02, 5.35744568e+02, 5.35843140e+02],\n",
       "        [5.99676086e+02, 5.94595764e+02, 5.98264526e+02, ...,\n",
       "         5.36583374e+02, 5.36820984e+02, 5.36919739e+02],\n",
       "        [6.00676147e+02, 5.95595764e+02, 5.99264465e+02, ...,\n",
       "         5.37659668e+02, 5.37897461e+02, 5.37996338e+02]],\n",
       "\n",
       "       [[1.01676102e+02, 9.65956879e+01, 1.00264305e+02, ...,\n",
       "         5.77889204e-01, 7.37409592e-01, 7.65784085e-01],\n",
       "        [1.02676102e+02, 9.75956879e+01, 1.01264305e+02, ...,\n",
       "         1.65420544e+00, 1.81388271e+00, 1.84239841e+00],\n",
       "        [1.03676102e+02, 9.85956879e+01, 1.02264305e+02, ...,\n",
       "         2.73052168e+00, 2.89035583e+00, 2.91901278e+00],\n",
       "        ...,\n",
       "        [5.98676086e+02, 5.93595825e+02, 5.97264465e+02, ...,\n",
       "         5.35507080e+02, 5.35744568e+02, 5.35843140e+02],\n",
       "        [5.99676086e+02, 5.94595764e+02, 5.98264526e+02, ...,\n",
       "         5.36583374e+02, 5.36820984e+02, 5.36919739e+02],\n",
       "        [6.00676147e+02, 5.95595764e+02, 5.99264465e+02, ...,\n",
       "         5.37659668e+02, 5.37897461e+02, 5.37996338e+02]],\n",
       "\n",
       "       ...,\n",
       "\n",
       "       [[1.01676102e+02, 9.65956879e+01, 1.00264305e+02, ...,\n",
       "         5.77889204e-01, 7.37409592e-01, 7.65784085e-01],\n",
       "        [1.02676102e+02, 9.75956879e+01, 1.01264305e+02, ...,\n",
       "         1.65420544e+00, 1.81388271e+00, 1.84239841e+00],\n",
       "        [1.03676102e+02, 9.85956879e+01, 1.02264305e+02, ...,\n",
       "         2.73052168e+00, 2.89035583e+00, 2.91901278e+00],\n",
       "        ...,\n",
       "        [5.98676086e+02, 5.93595825e+02, 5.97264465e+02, ...,\n",
       "         5.35507080e+02, 5.35744568e+02, 5.35843140e+02],\n",
       "        [5.99676086e+02, 5.94595764e+02, 5.98264526e+02, ...,\n",
       "         5.36583374e+02, 5.36820984e+02, 5.36919739e+02],\n",
       "        [6.00676147e+02, 5.95595764e+02, 5.99264465e+02, ...,\n",
       "         5.37659668e+02, 5.37897461e+02, 5.37996338e+02]],\n",
       "\n",
       "       [[1.01676102e+02, 9.65956879e+01, 1.00264305e+02, ...,\n",
       "         5.77889204e-01, 7.37409592e-01, 7.65784085e-01],\n",
       "        [1.02676102e+02, 9.75956879e+01, 1.01264305e+02, ...,\n",
       "         1.65420544e+00, 1.81388271e+00, 1.84239841e+00],\n",
       "        [1.03676102e+02, 9.85956879e+01, 1.02264305e+02, ...,\n",
       "         2.73052168e+00, 2.89035583e+00, 2.91901278e+00],\n",
       "        ...,\n",
       "        [5.98676086e+02, 5.93595825e+02, 5.97264465e+02, ...,\n",
       "         5.35507080e+02, 5.35744568e+02, 5.35843140e+02],\n",
       "        [5.99676086e+02, 5.94595764e+02, 5.98264526e+02, ...,\n",
       "         5.36583374e+02, 5.36820984e+02, 5.36919739e+02],\n",
       "        [6.00676147e+02, 5.95595764e+02, 5.99264465e+02, ...,\n",
       "         5.37659668e+02, 5.37897461e+02, 5.37996338e+02]],\n",
       "\n",
       "       [[1.01676102e+02, 9.65956879e+01, 1.00264305e+02, ...,\n",
       "         5.77889204e-01, 7.37409592e-01, 7.65784085e-01],\n",
       "        [1.02676102e+02, 9.75956879e+01, 1.01264305e+02, ...,\n",
       "         1.65420544e+00, 1.81388271e+00, 1.84239841e+00],\n",
       "        [1.03676102e+02, 9.85956879e+01, 1.02264305e+02, ...,\n",
       "         2.73052168e+00, 2.89035583e+00, 2.91901278e+00],\n",
       "        ...,\n",
       "        [5.98676086e+02, 5.93595825e+02, 5.97264465e+02, ...,\n",
       "         5.35507080e+02, 5.35744568e+02, 5.35843140e+02],\n",
       "        [5.99676086e+02, 5.94595764e+02, 5.98264526e+02, ...,\n",
       "         5.36583374e+02, 5.36820984e+02, 5.36919739e+02],\n",
       "        [6.00676147e+02, 5.95595764e+02, 5.99264465e+02, ...,\n",
       "         5.37659668e+02, 5.37897461e+02, 5.37996338e+02]]], dtype=float32)"
      ]
     },
     "execution_count": 14,
     "metadata": {},
     "output_type": "execute_result"
    }
   ],
   "source": [
    "result_array"
   ]
  },
  {
   "cell_type": "code",
   "execution_count": 16,
   "id": "978b72f0-1ff1-4f19-ad5b-dcdd97e41851",
   "metadata": {},
   "outputs": [
    {
     "data": {
      "text/plain": [
       "<matplotlib.image.AxesImage at 0x7f69b095f5e0>"
      ]
     },
     "execution_count": 16,
     "metadata": {},
     "output_type": "execute_result"
    },
    {
     "data": {
      "image/png": "[encoded data removed]",
      "text/plain": [
       "<Figure size 432x288 with 1 Axes>"
      ]
     },
     "metadata": {
      "needs_background": "light"
     },
     "output_type": "display_data"
    }
   ],
   "source": [
    "fig, ax = subplots()\n",
    "ax.imshow(result_array[:,:,5])"
   ]
  },
  {
   "cell_type": "code",
   "execution_count": 17,
   "id": "c584fc0b-6109-4b4e-a87b-b29ca3d87289",
   "metadata": {},
   "outputs": [],
   "source": [
    "release_shared(SHARED_NAME)"
   ]
  },
  {
   "cell_type": "code",
   "execution_count": 18,
   "id": "c0fbc6ac-86d2-4cf5-9176-bc63c96732a1",
   "metadata": {},
   "outputs": [
    {
     "data": {
      "text/plain": [
       "704.9579449384653"
      ]
     },
     "execution_count": 18,
     "metadata": {},
     "output_type": "execute_result"
    }
   ],
   "source": [
    "100*1000/run_time"
   ]
  },
  {
   "cell_type": "code",
   "execution_count": null,
   "id": "1ff89769-dd75-484d-9ad9-5303f6054b17",
   "metadata": {},
   "outputs": [],
   "source": []
  }
 ],
 "metadata": {
  "kernelspec": {
   "display_name": "Python 3",
   "language": "python",
   "name": "python3"
  },
  "language_info": {
   "codemirror_mode": {
    "name": "ipython",
    "version": 3
   },
   "file_extension": ".py",
   "mimetype": "text/x-python",
   "name": "python",
   "nbconvert_exporter": "python",
   "pygments_lexer": "ipython3",
   "version": "3.9.5"
  }
 },
 "nbformat": 4,
 "nbformat_minor": 5
}
