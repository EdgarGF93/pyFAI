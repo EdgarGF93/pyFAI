{
 "cells": [
  {
   "cell_type": "markdown",
   "id": "aba2ed24-0160-49f3-9001-5d8a09fb23b5",
   "metadata": {},
   "source": [
    "# Image decompression and azimuthal integration on the GPU\n",
    "\n",
    "This tutorial explains how it is possible to speed-up azimuthal integration by speeding-up the critical part: the data transfer to the GPU.\n",
    "\n",
    "For this tutorial, a very recent version of `silx` is needed, newer than fall'22 (available in release 1.2)\n",
    "\n",
    "**Credits:**\n",
    "\n",
    "* Thomas Vincent (ESRF) for the HDF5 direct chunk read and the Jupyter-slurm\n",
    "* Jon Wright (ESRF) for the initial prototype of the bitshuffle-LZ4 decompression on the GPU\n",
    "* Pierre Paleo (ESRF) for struggling with this kind of stuff with GPUs\n",
    "\n",
    "**Nota:** a (fast) GPU is needed for this tutorial with OpenCL properly setup !\n",
    "\n",
    "The example taken here is the same as the multithreading example: 4096 frames of Eiger_4M"
   ]
  },
  {
   "cell_type": "code",
   "execution_count": 1,
   "id": "35d7f634-2c20-4ed0-8e2e-555de196df8d",
   "metadata": {},
   "outputs": [],
   "source": [
    "%matplotlib inline"
   ]
  },
  {
   "cell_type": "code",
   "execution_count": 2,
   "id": "50803786-8f10-46d8-8fdc-405a59c235cf",
   "metadata": {},
   "outputs": [
    {
     "data": {
      "text/plain": [
       "OpenCL devices:\n",
       "[0] Intel Gen OCL Driver: (0,0) Intel(R) HD Graphics Haswell Ultrabook GT3 reserved\n",
       "[1] Intel(R) OpenCL: (1,0) Intel(R) Core(TM) i5-4308U CPU @ 2.80GHz"
      ]
     },
     "execution_count": 2,
     "metadata": {},
     "output_type": "execute_result"
    }
   ],
   "source": [
    "import sys, os, collections, struct, time\n",
    "import numpy, pyFAI\n",
    "import h5py, hdf5plugin\n",
    "from matplotlib.pyplot import subplots\n",
    "import bitshuffle\n",
    "import pyopencl.array as cla\n",
    "import silx\n",
    "from silx.opencl import ocl\n",
    "from silx.opencl.codec.bitshuffle_lz4 import BitshuffleLz4\n",
    "start_time = time.time()\n",
    "ocl"
   ]
  },
  {
   "cell_type": "code",
   "execution_count": 3,
   "id": "9e4395dc-8944-4276-ac98-66d8174e48d4",
   "metadata": {},
   "outputs": [],
   "source": [
    "#Here we select the OpenCL device\n",
    "target = (1,0)"
   ]
  },
  {
   "cell_type": "markdown",
   "id": "8d74f81c-7f0e-4af2-a672-59b5bd972377",
   "metadata": {},
   "source": [
    "## Setup the enviroment:\n",
    "\n",
    "This is a purely virtual experiment, we will use an Eiger 4M detector with data integrated over 1000 bins. Those parameters can be tuned.\n",
    "\n",
    "Random data are generated, to keep this file fairly small, it is generated with small numbers which compress nicely. The speed of the drive where you will put the file is likely to have a huge impact !"
   ]
  },
  {
   "cell_type": "code",
   "execution_count": 4,
   "id": "c578b3e4-5912-4a02-9b4c-349872469324",
   "metadata": {},
   "outputs": [
    {
     "data": {
      "text/plain": [
       "HDF5PluginBuildOptions(openmp=False, native=False, sse2=True, avx2=False, cpp11=True, filter_file_extension='.so', embedded_filters=('blosc', 'bshuf', 'fcidecomp', 'lz4', 'zfp', 'zstd'))"
      ]
     },
     "execution_count": 4,
     "metadata": {},
     "output_type": "execute_result"
    }
   ],
   "source": [
    "det = pyFAI.detector_factory(\"eiger_4M\")\n",
    "shape = det.shape\n",
    "dtype = numpy.dtype(\"uint32\")\n",
    "filename = \"/tmp/big.h5\"\n",
    "nbins = 1000\n",
    "cmp = hdf5plugin.Bitshuffle()\n",
    "hdf5plugin.config"
   ]
  },
  {
   "cell_type": "code",
   "execution_count": 5,
   "id": "b883ae1c-0549-40cd-9753-ff2d11cb6448",
   "metadata": {},
   "outputs": [
    {
     "name": "stdout",
     "output_type": "stream",
     "text": [
      "Number of frames the computer can host in memory: 930.223\n"
     ]
    }
   ],
   "source": [
    "mem_bytes = os.sysconf('SC_PAGE_SIZE') * os.sysconf('SC_PHYS_PAGES')\n",
    "print(f\"Number of frames the computer can host in memory: {mem_bytes/(numpy.prod(shape)*dtype.itemsize):.3f}\")\n",
    "if os.environ.get('SLURM_MEM_PER_NODE'):\n",
    "    print(f\"Number of frames the computer can host in memory with SLURM restrictions: {int(os.environ['SLURM_MEM_PER_NODE'])*(1<<20)/(numpy.prod(shape)*dtype.itemsize):.3f}\")"
   ]
  },
  {
   "cell_type": "code",
   "execution_count": 6,
   "id": "a2c253af-504f-4909-b333-235c218b00e2",
   "metadata": {},
   "outputs": [],
   "source": [
    "#The computer being limited to 64G of RAM, the number of frames actually possible is 3800.\n",
    "nbframes = 4096 # slightly larger than the maximum achievable ! Such a dataset should not host in memory."
   ]
  },
  {
   "cell_type": "code",
   "execution_count": 7,
   "id": "1b5e3e71-4c5a-4c67-96b3-91e602deb027",
   "metadata": {},
   "outputs": [],
   "source": [
    "#Prepare a frame with little count so that it compresses well\n",
    "geo = {\"detector\": det, \n",
    "       \"wavelength\": 1e-10, \n",
    "       \"rot3\":0} #work around a bug https://github.com/silx-kit/pyFAI/pull/1749\n",
    "ai = pyFAI.load(geo)\n",
    "q = numpy.arange(15)\n",
    "img = ai.calcfrom1d(q, 100/(1+q*q))\n",
    "frame = numpy.random.poisson(img).astype(dtype)"
   ]
  },
  {
   "cell_type": "code",
   "execution_count": 8,
   "id": "b4fb2aa7-4158-488f-80e0-690283858f8f",
   "metadata": {},
   "outputs": [
    {
     "data": {
      "text/plain": [
       "<matplotlib.image.AxesImage at 0x7f760b36a9a0>"
      ]
     },
     "execution_count": 8,
     "metadata": {},
     "output_type": "execute_result"
    },
    {
     "data": {
      "image/png": "[encoded data removed]",
      "text/plain": [
       "<Figure size 432x288 with 1 Axes>"
      ]
     },
     "metadata": {
      "needs_background": "light"
     },
     "output_type": "display_data"
    }
   ],
   "source": [
    "# display the image\n",
    "fig,ax = subplots()\n",
    "ax.imshow(frame)"
   ]
  },
  {
   "cell_type": "code",
   "execution_count": 9,
   "id": "fdcb69d3-da9d-4215-919f-a2fc648b845e",
   "metadata": {},
   "outputs": [
    {
     "name": "stdout",
     "output_type": "stream",
     "text": [
      "Performances of the different algorithms for azimuthal integration of Eiger 4M image on the CPU\n",
      "Using algorithm histogram : 810 ms ± 9.7 ms per loop (mean ± std. dev. of 7 runs, 1 loop each)\n",
      "Using algorithm csc       : 70.5 ms ± 2.09 ms per loop (mean ± std. dev. of 7 runs, 1 loop each)\n",
      "Using algorithm csr       : 52.4 ms ± 1.8 ms per loop (mean ± std. dev. of 7 runs, 1 loop each)\n",
      "Performances of the different algorithms for azimuthal integration of Eiger 4M image on the GPU\n",
      "Using algorithm csr       : "
     ]
    },
    {
     "name": "stderr",
     "output_type": "stream",
     "text": [
      "/home/kieffer/.venv/py39/lib/python3.9/site-packages/pyopencl/__init__.py:270: CompilerWarning: Built kernel retrieved from cache. Original from-source build had warnings:\n",
      "Build on <pyopencl.Device 'Intel(R) Core(TM) i5-4308U CPU @ 2.80GHz' on 'Intel(R) OpenCL' at 0x2c54188> succeeded, but said:\n",
      "\n",
      "Compilation started\n",
      "Compilation done\n",
      "Linking started\n",
      "Linking done\n",
      "Device build started\n",
      "Device build done\n",
      "Kernel <s8_to_float> was successfully vectorized (8)\n",
      "Kernel <u8_to_float> was successfully vectorized (8)\n",
      "Kernel <s16_to_float> was successfully vectorized (8)\n",
      "Kernel <u16_to_float> was successfully vectorized (8)\n",
      "Kernel <u32_to_float> was successfully vectorized (8)\n",
      "Kernel <s32_to_float> was successfully vectorized (8)\n",
      "Kernel <corrections> was not vectorized\n",
      "Kernel <corrections2> was not vectorized\n",
      "Kernel <corrections3> was not vectorized\n",
      "Kernel <corrections4> was not vectorized\n",
      "Kernel <memset_out> was successfully vectorized (8)\n",
      "Kernel <memset_ng> was not vectorized\n",
      "Kernel <memset1> was successfully vectorized (8)\n",
      "Kernel <memset2> was not vectorized\n",
      "Kernel <memset4> was not vectorized\n",
      "Kernel <memset8> was not vectorized\n",
      "Kernel <memset_int> was successfully vectorized (8)\n",
      "Kernel <csr_integrate> was not vectorized\n",
      "Kernel <csr_integrate_single> was not vectorized\n",
      "Kernel <csr_integrate4> was successfully vectorized (8)\n",
      "Kernel <csr_integrate4_single> was successfully vectorized (8)\n",
      "Kernel <csr_sigma_clip4> was successfully vectorized (8)\n",
      "Done.\n",
      "  warn(text, CompilerWarning)\n",
      "/home/kieffer/.venv/py39/lib/python3.9/site-packages/pyopencl/__init__.py:270: CompilerWarning: From-binary build succeeded, but resulted in non-empty logs:\n",
      "Build on <pyopencl.Device 'Intel(R) Core(TM) i5-4308U CPU @ 2.80GHz' on 'Intel(R) OpenCL' at 0x2c54188> succeeded, but said:\n",
      "\n",
      "Device build started\n",
      "Device build done\n",
      "Reload Program Binary Object.\n",
      "  warn(text, CompilerWarning)\n"
     ]
    },
    {
     "name": "stdout",
     "output_type": "stream",
     "text": [
      "74.1 ms ± 759 µs per loop (mean ± std. dev. of 7 runs, 1 loop each)\n"
     ]
    }
   ],
   "source": [
    "print(\"Performances of the different algorithms for azimuthal integration of Eiger 4M image on the CPU\")\n",
    "for algo in (\"histogram\", \"csc\", \"csr\"):\n",
    "    print(f\"Using algorithm {algo:10s}:\", end=\" \")\n",
    "    %timeit ai.integrate1d(img, nbins, method=(\"full\", algo, \"cython\"))\n",
    "print(\"Performances of the different algorithms for azimuthal integration of Eiger 4M image on the GPU\")\n",
    "print(f\"Using algorithm {algo:10s}:\", end=\" \")\n",
    "%timeit ai.integrate1d(img, nbins, method=(\"full\", algo, \"opencl\", target))"
   ]
  },
  {
   "cell_type": "markdown",
   "id": "23f8dfd8-f55c-4148-b783-f238081ba0af",
   "metadata": {},
   "source": [
    "**Note:** The full pixel splitting is time consuming and handicaps the histogram algorithm while both sparse-matrix methods are much faster since they cache this calculation in the sparse matrix.\n",
    "\n",
    "On this computer the CSR implementation in OpenMP looks like the fastest, regardless if it is executed on the CPU or on the iGPU."
   ]
  },
  {
   "cell_type": "code",
   "execution_count": 10,
   "id": "4716f9cb-de3d-44cf-979e-12b442cceb8b",
   "metadata": {},
   "outputs": [
    {
     "data": {
      "text/plain": [
       "<TimeitResult : 1min 27s ± 0 ns per loop (mean ± std. dev. of 1 run, 1 loop each)>"
      ]
     },
     "execution_count": 10,
     "metadata": {},
     "output_type": "execute_result"
    }
   ],
   "source": [
    "%%timeit -r1 -n1 -o -q\n",
    "#Saving of a HDF5 file with many frames ...\n",
    "with h5py.File(filename, \"w\") as h:\n",
    "    ds = h.create_dataset(\"data\", shape=(nbframes,)+shape, chunks=(1,)+shape, dtype=dtype, **cmp) \n",
    "    for i in range(nbframes):\n",
    "        ds[i] = frame + i%500 #Each frame has a different value to prevent caching effects"
   ]
  },
  {
   "cell_type": "code",
   "execution_count": 11,
   "id": "918ce131-3486-4263-8584-c78c8c2b88d8",
   "metadata": {},
   "outputs": [
    {
     "name": "stdout",
     "output_type": "stream",
     "text": [
      "File size 9.242 GB with a compression ratio of 7.406x\n",
      "Write speed: 843.219 MB/s of uncompressed data, or 46.995 fps.\n"
     ]
    }
   ],
   "source": [
    "timing_write = _\n",
    "size=os.stat(filename).st_size\n",
    "print(f\"File size {size/(1024**3):.3f} GB with a compression ratio of {nbframes*numpy.prod(shape)*dtype.itemsize/size:.3f}x\")\n",
    "print(f\"Write speed: {nbframes*numpy.prod(shape)*dtype.itemsize/(1e6*timing_write.best):.3f} MB/s of uncompressed data, or {nbframes/timing_write.best:.3f} fps.\")"
   ]
  },
  {
   "cell_type": "code",
   "execution_count": 12,
   "id": "e559f3a9-4890-47ef-959d-6f0b099963c9",
   "metadata": {},
   "outputs": [
    {
     "data": {
      "text/plain": [
       "<TimeitResult : 54.9 s ± 0 ns per loop (mean ± std. dev. of 1 run, 1 loop each)>"
      ]
     },
     "execution_count": 12,
     "metadata": {},
     "output_type": "execute_result"
    }
   ],
   "source": [
    "%%timeit -r1 -n1 -o -q\n",
    "#Reading all frames and decompressing them\n",
    "buffer = numpy.zeros(shape, dtype=dtype)\n",
    "with h5py.File(filename, \"r\") as h:\n",
    "    ds = h[\"data\"]\n",
    "    for i in range(nbframes):\n",
    "        ds.read_direct(buffer, numpy.s_[i,:,:], numpy.s_[:,:])"
   ]
  },
  {
   "cell_type": "code",
   "execution_count": 13,
   "id": "3f6a4b10-8fe5-4450-8272-4a98b7a22de4",
   "metadata": {},
   "outputs": [
    {
     "name": "stdout",
     "output_type": "stream",
     "text": [
      "Read speed: 1338.118 MB/s of uncompressed data, or 74.577 fps.\n"
     ]
    }
   ],
   "source": [
    "timing_read1 = _\n",
    "print(f\"Read speed: {nbframes*numpy.prod(shape)*dtype.itemsize/(1e6*timing_read1.best):.3f} MB/s of uncompressed data, or {nbframes/timing_read1.best:.3f} fps.\")"
   ]
  },
  {
   "cell_type": "code",
   "execution_count": 14,
   "id": "557956b5-5eec-44ea-8f13-0d76c6d88200",
   "metadata": {},
   "outputs": [
    {
     "name": "stdout",
     "output_type": "stream",
     "text": [
      "Compression ratio: 9.095x\n",
      "12.4 ms ± 110 µs per loop (mean ± std. dev. of 7 runs, 100 loops each)\n",
      "Decompression speed: 81.779 fps\n"
     ]
    }
   ],
   "source": [
    "# Time for decompressing one frame:\n",
    "chunk = bitshuffle.compress_lz4(frame,0)\n",
    "print(f\"Compression ratio: {frame.nbytes/len(chunk):.3f}x\")\n",
    "timing_decompress = %timeit -o bitshuffle.decompress_lz4(chunk, frame.shape, frame.dtype, 0)\n",
    "print(f\"Decompression speed: {1/timing_decompress.best:.3f} fps\")"
   ]
  },
  {
   "cell_type": "code",
   "execution_count": 15,
   "id": "9727f861-eeec-4ec6-8c8c-57e99618474a",
   "metadata": {},
   "outputs": [
    {
     "data": {
      "text/plain": [
       "<TimeitResult : 3.5 s ± 0 ns per loop (mean ± std. dev. of 1 run, 1 loop each)>"
      ]
     },
     "execution_count": 15,
     "metadata": {},
     "output_type": "execute_result"
    }
   ],
   "source": [
    "%%timeit -r1 -n1 -o -q\n",
    "#Reading all frames without decompressing them\n",
    "with h5py.File(filename, \"r\") as h:\n",
    "    ds = h[\"data\"]\n",
    "    for i in range(ds.id.get_num_chunks()):\n",
    "        filter_mask, chunk = ds.id.read_direct_chunk(ds.id.get_chunk_info(i).chunk_offset)"
   ]
  },
  {
   "cell_type": "code",
   "execution_count": 16,
   "id": "a8f957e5-f3cc-41a4-9502-dc98f5e31dd7",
   "metadata": {},
   "outputs": [
    {
     "name": "stdout",
     "output_type": "stream",
     "text": [
      "Read speed: 2836.805 MB/s of compressed data.\n",
      "HDF5 read speed (without decompression): 1170.860 fps.\n"
     ]
    }
   ],
   "source": [
    "timing_read2 = _\n",
    "print(f\"Read speed: {size/(1e6*timing_read2.best):.3f} MB/s of compressed data.\")\n",
    "print(f\"HDF5 read speed (without decompression): {nbframes/timing_read2.best:.3f} fps.\")"
   ]
  },
  {
   "cell_type": "markdown",
   "id": "03d4e618-db18-4ebd-9a70-9c1559f7acf2",
   "metadata": {},
   "source": [
    "## Prepare the azimuthal integrator\n",
    "To unleash the full performances of the azimuthal integrator, here the ability to deal with GPU arrays, one needs to extract the OpenCL integrator from AzimuthalIntegator. The integrator used here is a sparse matrix multiplication one with a CSR representation, tuned to run on the GPU."
   ]
  },
  {
   "cell_type": "code",
   "execution_count": 17,
   "id": "a4f8923c-88ac-435e-8428-0fbbf7bf066f",
   "metadata": {},
   "outputs": [
    {
     "name": "stdout",
     "output_type": "stream",
     "text": [
      "74.5 ms ± 1.01 ms per loop (mean ± std. dev. of 3 runs, 10 loops each)\n",
      "The maximum achievable integration speed on this device is 13.635 fps.\n",
      "The maximum throughput considering reading, decompression and integration is 11.571 fps.\n"
     ]
    }
   ],
   "source": [
    "geo = {\"detector\": det, \n",
    "       \"wavelength\": 1e-10, \n",
    "       \"rot3\":0} #work around a bug https://github.com/silx-kit/pyFAI/pull/1749\n",
    "ai = pyFAI.load(geo)\n",
    "omega = ai.solidAngleArray()\n",
    "res0 = ai.integrate1d(frame, nbins, method=(\"full\", \"csr\", \"opencl\", target))\n",
    "engine = ai.engines[res0.method].engine\n",
    "#This is how the engine works. First send the image on the GPU:\n",
    "\n",
    "frame_d = cla.to_device(engine.queue, frame)\n",
    "omega_crc = engine.on_device[\"solidangle\"]\n",
    "\n",
    "res1 = engine.integrate_ng(frame_d, solidangle=omega, solidangle_checksum=omega_crc)\n",
    "assert numpy.allclose(res0.intensity, res1.intensity)  # validates the equivalence of both approaches:\n",
    "timing_integration = %timeit -r3 -o engine.integrate_ng(frame_d, solidangle=omega, solidangle_checksum=omega_crc)\n",
    "print(f\"The maximum achievable integration speed on this device is {1/timing_integration.best:.3f} fps.\")\n",
    "timimg_sum = timing_integration.best + timing_read2.best/nbframes+timing_decompress.best\n",
    "print(f\"The maximum throughput considering reading, decompression and integration is {1/timimg_sum:.3f} fps.\")"
   ]
  },
  {
   "cell_type": "markdown",
   "id": "296b9c59-a957-4e75-ac29-808fc4c4a952",
   "metadata": {},
   "source": [
    "**Summary:**\n",
    "* Read speed: 1040 fps\n",
    "* Read + decompress: 70 fps\n",
    "* Read + decomperss + integrate: 10 fps.\n",
    "\n",
    "## Using the decompression on the GPU\n",
    "\n",
    "This feature requires silx 1.2 !"
   ]
  },
  {
   "cell_type": "code",
   "execution_count": 18,
   "id": "1613555d-8006-450c-90c2-be4cbd820ad7",
   "metadata": {},
   "outputs": [
    {
     "data": {
      "text/plain": [
       "'1.2.0-a0'"
      ]
     },
     "execution_count": 18,
     "metadata": {},
     "output_type": "execute_result"
    }
   ],
   "source": [
    "silx.version"
   ]
  },
  {
   "cell_type": "code",
   "execution_count": null,
   "id": "5f9f2220-0931-497f-b5df-993341202c0e",
   "metadata": {},
   "outputs": [],
   "source": [
    "gpu_decompressor = BitshuffleLz4(len(chunk), frame.nbytes, dtype=frame.dtype, ctx=engine.ctx, block_size=128)\n",
    "for i in range(4, 10):\n",
    "    j = 1<<i\n",
    "    print(i,j, end=\" \")\n",
    "    %time  gpu_decompressor.decompress(chunk, wg=j)\n",
    "\n",
    "# %time  gpu_decompressor.decompress(chunk)\n",
    "gpu = gpu_decompressor.decompress(chunk).get()\n",
    "#== frame.ravel())\n",
    "gpu"
   ]
  },
  {
   "cell_type": "code",
   "execution_count": null,
   "id": "cfcc3806-a5f9-4451-b0d9-1fa2c6c3fbe4",
   "metadata": {},
   "outputs": [],
   "source": [
    "#Build a pipeline with decompression and integration on the GPU:\n",
    "engine.integrate_ng(gpu_decomblock_size=essor(chunk,wg=128), solidangle=omega, solidangle_checksum=omega_crc)"
   ]
  },
  {
   "cell_type": "code",
   "execution_count": null,
   "id": "fa25392a-8761-4162-b5e8-895e6bb282ba",
   "metadata": {},
   "outputs": [],
   "source": []
  }
 ],
 "metadata": {
  "kernelspec": {
   "display_name": "Python 3.9 (py39-venv)",
   "language": "python",
   "name": "py39"
  },
  "language_info": {
   "codemirror_mode": {
    "name": "ipython",
    "version": 3
   },
   "file_extension": ".py",
   "mimetype": "text/x-python",
   "name": "python",
   "nbconvert_exporter": "python",
   "pygments_lexer": "ipython3",
   "version": "3.9.2"
  }
 },
 "nbformat": 4,
 "nbformat_minor": 5
}
